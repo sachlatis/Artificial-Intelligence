{
  "nbformat": 4,
  "nbformat_minor": 0,
  "metadata": {
    "kernelspec": {
      "display_name": "Python 3",
      "language": "python",
      "name": "python3"
    },
    "language_info": {
      "codemirror_mode": {
        "name": "ipython",
        "version": 3
      },
      "file_extension": ".py",
      "mimetype": "text/x-python",
      "name": "python",
      "nbconvert_exporter": "python",
      "pygments_lexer": "ipython3",
      "version": "3.7.3"
    },
    "pycharm": {
      "stem_cell": {
        "cell_type": "raw",
        "source": [],
        "metadata": {
          "collapsed": false
        }
      }
    },
    "colab": {
      "name": "lala.ipynb",
      "provenance": [],
      "collapsed_sections": []
    }
  },
  "cells": [
    {
      "cell_type": "markdown",
      "metadata": {
        "colab_type": "text",
        "id": "816WHA5P3nJT"
      },
      "source": [
        "# Τεχνητή Νοημοσύνη: Εργαστηριακή Άσκηση 2\n",
        "---\n",
        "\n",
        "Ο στόχος της εργασίας είναι η κατασκευή ενός συστήματος προτάσεων (Recommendation System) για ταινίες. Οι προτάσεις αυτές θα πηγάζουν τόσο από τα χαρακτηριστικά της ταινίας όσο και από ορισμένες αξιολογήσεις του κάθε χρήστη.\n",
        "\n",
        "Στα δεδομένα της άσκησης περιλαμβάνονται ένα αρχείο με το όνομα movies_metadata.csv το όποιο περιέχει τα χαρακτηριστικά κάθε ταινίας όπως θέμα, σκηνοθέτης, ηθοποιοί, λέξεις κλειδιά κ.α. από το imdb, τα αρχεία user1.csv και user2.csv τα όποια περιέχουν αξιολογήσεις για 2 διαφορετικούς χρήστες καθώς και το αρχείο relative_movies.csv, που περιέχει 10 όμοιες ταινίες για ορισμένους τυχαία επιλεγμένους τίτλους.\n"
      ]
    },
    {
      "cell_type": "markdown",
      "metadata": {
        "colab_type": "text",
        "id": "aa-wJhCX9Nwk"
      },
      "source": [
        "# Εκφώνηση\n",
        "Στην παρούσα εργασία σας ζητείται να μελετήσετε και υλοποιήσετε τα παρακάτω:<br>\n",
        "\n",
        "### Μέρος 1\n",
        "Στο μέρος 1 και 2 θα ασχοληθείτε και θα εργαστείτε μόνο με το αρχείο movies_metadata.csv.\n",
        "#### Ερώτημα 1α\n",
        "\n",
        "Αρχικά θα πρέπει αφού μελετήσετε την δομή και τα χαρακτηριστικά του αρχείου αυτού να κατασκευάσετε μια βάση γνώσης για την Prolog η όποια ουσιαστικά θα αποτελεί τον κόσμο με τον όποιο θα εργαστείτε στην συνέχεια. Τα κατηγορήματα που θα δημιουργηθούν θα σας βοηθήσουν και στην κατασκευή του recommender και θα είναι της μορφής:\n",
        "\n",
        "```\n",
        "director(Movie, Director).\n",
        "genre(Movie, Genre).\n",
        "```\n",
        "#### Ερώτημα 1β\n",
        "\n",
        "Αφού δημιουργήσετε τον κόσμο του προβλήματος στην συνέχεια καλείστε να δημιουργήσετε, σε Prolog, απλούς κανόνες οι οποίοι θα βρίσκουν όλες τις ταινίες με:\n",
        "1.\tΑρκετά κοινό θέμα (κάποιες λέξεις σχετικά με το genre κοινές)\n",
        "2.\tΣχετικά κοινό θέμα (κάποιες λιγότερες λέξεις σχετικά με το genre κοινές π.χ. 3)\n",
        "3.\tΛιγότερο κοινό θέμα (λίγες λέξεις σχετικές με το genre κοινές π.χ. 1)\n",
        "4.\tΚοινός σκηνοθέτης\n",
        "5.\tΑκριβώς ίδια πλοκή (κάποιες λέξεις κλειδιά της πλοκής να είναι κοινές)\n",
        "6.\tΣχετικά ίδια πλοκή (κάποιες λιγότερες λέξεις κλειδιά κοινές)\n",
        "7.\tΊδιους τους βασικούς ηθοποιούς (και τους 3)\n",
        "8.\tΑρκετά ίδιους βασικούς ηθοποιούς (ορισμένους βασικούς ηθοποιούς κοινούς π.χ. 2)\n",
        "9.\tΣχετικά ίδιους ηθοποιούς (π.χ. 1 από τους 3)\n",
        "10.\tΊδια γλώσσα\n",
        "11.\tΕίναι έγχρωμες ή ασπρόμαυρες\n",
        "\n",
        "Αξίζει να σημειωθεί ότι στα παραπάνω μπορείτε να προσθέσετε περισσότερα ερωτήματα ή να αλλάξετε την κλιμακωσιμότητα των queries (πέρα από το ίδιο, αρκετά ίδιο, σχετικά ίδιο) που θα κατασκευάσετε(π.χ. μια κλίμακα από 1 στα 5 όπου αυτό είναι δυνατόν), μιας και αυτά στην συνέχεια θα χρησιμοποιηθούν για την λειτουργία του recommender. Έτσι μπορείτε να προσθέσετε queries με τα όποια μπορεί να παράγονται καλύτερες συστάσεις  (το αρχείο movie_metadata.csv περιέχει πολλές πληροφορίες ακόμα για κάθε ταινία όπως έτος κυκλοφορίας, βαθμολογία στο imdb, facebοok_likes κ.α.).\n",
        "\n",
        "Περισσότερες πληροφορίες για το dataset μπορείτε να διαβάσετε σε αυτό το Link: https://www.kaggle.com/adnanr94/imdb-movies-metadata.\n",
        "\n",
        "### Μέρος 2: Recommendation System\n",
        "Στο σημείο αυτό καλείστε με βάση αυτά που κάνατε στο μέρος 1 να κατασκευάσετε queries τα όποια θα σας επιστρέφουν παρόμοιες (σε χαρακτηριστικά) ταινίες. Τα ερωτήματα αυτά θα είναι κλιμακούμενα, δηλαδή θα υπάρχουν ερωτήματα που επιστρέφουν αρκετά κοινές ταινίες, και άλλα που επιστρέφουν λιγότερο κοινές (σε μια κλίμακα π.χ. από 1 σε 5). Για παράδειγμα:\n",
        "\n",
        "```\n",
        "simple_recommender_5(\"Pirates Of The Caribbean\", M).\n",
        "M = \"Pirates Of The Caribbean: On Stranger Tides\"\n",
        "M = \"The Chronicles Of Narnia\"\n",
        "M = \"Prince Of Persia: The Sands Of Time\"\n",
        "...\n",
        "\n",
        "simple_recommender_5(\"Avatar\").\n",
        "M = 'Terminator 2: Judgment Day'\n",
        "M = 'Aliens'\n",
        "M = 'The Terminator'\n",
        "\n",
        "simple_recommender_5(\"Star Wars: Episode III - Revenge of the Sith\").\n",
        "M = Star Wars: Episode IV - A New Hope'\n",
        "M = 'Star Wars: Episode I - The Phantom Menace'\n",
        "M = 'Star Wars: Episode II - Attack of the Clones'\n",
        "\n",
        "```\n",
        "Για παράδειγμα το παραπάνω ερώτημα θα επιστρέφει αρκετά κοινές σε περιεχόμενο ταινίες με την ταινια \"Pirates Of The Caribbean\". Αντίστοιχα θα υπάρχουν και ερωτήματα που θα βρίσκουν λιγότερα όμοιες ταινίες. Ο δείκτης ομοιότητας των ταινιών είναι αυθαίρετος και μπορείτε να τον ορίσετε εσείς όπως θέλετε, αρκεί απλά να υπάρχει κάποια λογική σύνδεση με τα δεδομένα που περιέχονται στο αρχείο movies_metadata.csv. \n",
        "\n",
        "Συνεπώς η συνάρτηση που θα κάνει τις προτάσεις (recommendation) με είσοδο μια ταινία πρέπει να επιστρέφει-εκτυπώνει μια λίστα με τις προτεινόμενες ταινίες σε φθίνουσα σειρά ομοιότητας. \n",
        "\n",
        "Για να μπορείτε να αξιολογήσετε τα αποτελέσματα των συστάσεων σας σας δίνεται ένα αρχείο με ορισμένες ταινίας και τα 10 πρώτα αποτελέσματά τους σε φθίνουσα σειρά ομοιότητας. Για την σύγκρισή των αποτελεσμάτων σας με τα  αποτελέσματα του αρχείου relative_movies.csv  μπορείτε να χρησιμοποιήσετε της συνάρτηση ομοιότητας συνόλων Jaccard (https://www.statisticshowto.datasciencecentral.com/jaccard-index/).\n",
        "\n",
        "$$jaccard(A,B)=\\frac{|A\\cap B|}{|A\\cup B|}$$\n",
        "\n",
        "Η υλοποίηση της συνάρτησης αυτής σε Python σας δίνεται με το όνομα jaccard_similarity (set1, set2). \n",
        "\n",
        "Αξίζει να σημειωθεί ότι η παραπάνω σύγκριση δεν είναι απόλυτη για τον λόγο ότι οι συναρτήσεις ομοιότητας μπορεί να είναι διαφορετικές (διαφορετικά ορίζει ο καθένας της ομοιότητα μεταξύ ταινιών) καθώς επίσης αν μια ταινία δεν έχει πολύ σχετικές προτάσεις τότε οι πιο γενικές συναρτήσεις ομοιότητας θα έχουν πολλά αποτελέσματα τα όποια η Prolog θα επιστρέψει με την σειρά που τα βρίσκει στην βάση, όποτε τότε δεν έχει ιδιαίτερο νόημα η σύγκριση σε αυτήν την περίπτωση.\n",
        "Η ομοιότητα των ταινιών είναι βοηθητική και σκοπό έχει να σας βοηθήσει να κατανοήσετε την κατεύθυνση της ασκήσης και όχι για να καταφέρετε την πλήρη ταύτιση των συστάσεων.\n",
        "\n",
        "### 3ο Μέρος: Recommendation System με βάση τις προτιμήσεις-αξιολογήσεις του χρήστη\n",
        "\n",
        "\n",
        "Σε αυτό το σημείο θα εργαστείτε με τα αρχεία user1.csv και user2.csv, τα όποια περιέχουν αξιολογήσεις (από 1 μέχρι 5) για ταινίες από 2 διαφορετικούς χρήστες. Το προηγούμενο σύστημα συστάσεων προτείνει στον χρήστη ταινίες αποκλειστικά με βάση την ομοιότητά τους. Έτσι σε αυτό το σημείο θα γίνει μια αναβάθμιση του συστήματος έτσι ώστε να παράγονται καλύτερες  συστάσεις οι όποιες θα λαμβάνουν υπόψιν και τις προτιμήσεις του χρήστη, οι όποιες θα εξάγονται από τις αξιολογήσεις που έχει κάνει μέχρι στιγμής. \n",
        "\n",
        "Έτσι πλέον για κάθε ταινία θα υπάρχει ένα score το όποιο αρχικά θε είναι ίσο με 0 και θα διαμορφώνεται από τις αξιολογήσεις κάθε user. Έτσι για έναν χρήστη με βάση τις αξιολογήσεις που έχει κάνει θα πρέπει για κάθε ταινία που έχει βαθμολογήσει θα βρίσκονται οι κοινές ταινίες ανά κλίμακα και στο μέχρι τώρα σκορ κάθε παρόμοιας ταινίας θα προστίθεται ένα βάρος το όποιο θα μπορούσε να είναι το ποσοστό ομοιότητας της ταινίας (δηλαδή ένα βάρος για κάθε κλίμακα) επί τον βαθμό που έχει βάλει ο χρήστης για την αρχική ταινία (ή ένα βάρος ανά βαθμό ώστε οι καλές κριτικές να γίνονται καλύτερες ενώ οι κακές χειρότερες). Δηλαδή, αν $rated\\_movies$ είναι το σύνολο ταινιών που έχει αξιολογήσει ο χρήστης, τότε τα recommendations που θα λαμβάνει ο χρήστης θα είναι οι ταινίες που είναι τουλάχιστον similar_1 με τουλάχιστον μία ταινία που έχει βαθμολογήσει ο χρήστης, σε φθίνουσα σειρά recommendation_score, όπου:\n",
        "\n",
        "$$recommendation\\_score(m_1)=\\sum_{m_2\\in rated\\_movies} similarity\\_weight(m_1,m_2)\\cdot voting\\_weight(m_2)$$\n",
        "\n",
        "\n",
        "Έτσι για παράδειγμα αν ένας χρήστης έχει αξιολογήσει αρκετές  ταινίες οι όποιες είναι sci-fiction με 5/5 τότε όταν ζητήσει τις προτεινόμενες είναι λογικό να λάβει πρώτα κάποιες που είναι αυτού του είδους μιας και αυτές μπορεί του αρέσουν περισσότερο.\n",
        "\n",
        "Επίσης για να εξετάσετε την αποδοτικότητα του συστήματος αυτού μπορείτε να κατασκευάσετε τους δικούς σας χρήστες. Για να το κάνετε αυτό πρέπει να γράψετε ορισμένους κανόνες της μορφής: liked(X), notliked(X) οι οποίοι θα σας επιστρέφουν ταινίες που πιθανώς θα σας αρέσουν, π.χ. σας αρέσουν ταινίες επιστημονικής φαντασίας που τις έχει σκηνοθετήσει ένας συγκεκριμένος σκηνοθέτης και αυτές που δεν είναι του γούστου σας. Για την κατασκευή του αρχείου και των αξιολογήσεων σας δίνεται μια συνάρτηση η όποια δέχεται σας ορίσματα όλες τις ταινίες από κάθε κατηγορία και τυχαία επιλέγετε ένας ορισμένος αριθμός ταινιών από αυτές στις όποιες δίνεται ένας βαθμός (για αυτές που αρέσουν στον χρήστη από 3 μέχρι 5 με διαφορετικές πιθανότητες ενώ σε αυτές που δεν του αρέσουν από 1 μέχρι 3). Μπορείτε να πειραματιστείτε με αυτήν την συνάρτηση για να ελέγξετε τα αποτελέσματά σας.\n"
      ]
    },
    {
      "cell_type": "markdown",
      "metadata": {
        "colab_type": "text",
        "id": "mgT4rsTd4tcf"
      },
      "source": [
        "---\n",
        "## Κατασκευή Περιβάλλοντος Εργασίας\n",
        "---\n",
        "### Διάβασμα Αρχείων στο Colab (Μόνο για το Colab)\n",
        "Αν η υλοποίηση γίνει στο google colab τότε μπορεί να χρησιμοποιηθεί το google drive ως file system. Για να γίνει Mount το google drive τρέχουμε τον παρακάτω κώδικα και κλικάρουμε στο link που θα μας εμφανιστεί. \n",
        "\n",
        "```\n",
        "from google.colab import drive\n",
        "drive.mount('/gdrive')\n",
        "import os\n",
        "os.listdir('/gdrive/My Drive')\n",
        "```\n",
        "Επέιτα στην σελίδα που άνοιξε επιλέγουμε το mail μας και στο επόμενο παράθυρο που θα μας ανοίξει πατάμε Να επιτρέπεται. Στην συνέχεια αντιγράφουμε τον κωδικό που θα μας βγάλει και τον κάνουμε paste στο Input που έχει ανοίξει στο colab. Έτσι πλέον αν έχουμε ανεβάσει ένα αρχείο στο google drive μπορούμε να το βρούμε στην θέση:\n",
        "\n",
        "```\n",
        "movies_filename = '/gdrive/My Drive/' + movies_metadata.csv\n",
        "```\n",
        "Μπορούμε πλέον κανονικά να δουλέψουμε φτιάχνοντας φακέλους ή αρχεία και γενικότερα κάνοντας οτιδήποτε θα κάναμε αν ήμασταν τοπικά. \n",
        "\n",
        "### Prolog μέσω Python\n",
        "\n",
        "Το πακέτο που θα χρησιμοποιηθεί για την επικοινωνία Python και Prolog είναι το pyswip (https://pypi.org/project/pyswip/). Για να δουλέψει το Pyswip  χρειάζεται να υπάρχει το Swi-Prolog το όποιο αν δουλεύουμε τοπικά πρέπει να το εγκαταστήσουμε, ακολουθώντας αντίστοιχές οδηγίες στην σελίδα του εργαλείου. Για να γίνει του Swi-Prolog η εγκατάσταση στο Google Colab πρέπει να τρέξουμε τον παρακάτω κώδικα:\n",
        "\n",
        "```\n",
        "!sudo apt-get install software-properties-common\n",
        "!sudo apt-add-repository ppa:swi-prolog/stable\n",
        "!sudo apt-get update\n",
        "!sudo apt-get install swi-prolog\n",
        "```\n",
        "Σε κάποιο σημείο της εκτέλεσης εμφανίζεται ένα μήνυμα ότι πρέπει να πατήσουμε enter σε ένα input για να συνεχίσει η διαδικασία. Έπειτα από αυτό η εκτέλεση θα συνεχίσει χωρίς κάποιο πρόβλημα.\n",
        "\n",
        "Τέλος πρέπει να εγκαταστήσουμε το pyswip (**όπου και να δουλεύουμε**) όπως παρακάτω:\n",
        "\n",
        "```\n",
        "!pip isntall pyswip\n",
        "```\n"
      ]
    },
    {
      "cell_type": "markdown",
      "metadata": {
        "colab_type": "text",
        "id": "21xzXVjQ5tFB"
      },
      "source": [
        "---\n",
        "#Κώδικας για κατασκευή περιβάλλοντος εργασίας\n",
        "##Μόνο για Google Colab\n",
        "\n",
        "Κώδικας για να γίνει Mount to Google Drive"
      ]
    },
    {
      "cell_type": "code",
      "metadata": {
        "colab_type": "code",
        "id": "DfT5Z_wtrhsV",
        "outputId": "72d3f0bb-9b12-48fe-e227-8b54645bb3ff",
        "colab": {
          "base_uri": "https://localhost:8080/",
          "height": 122
        }
      },
      "source": [
        "from google.colab import drive\n",
        "drive.mount('/gdrive')\n",
        "import os\n",
        "os.listdir('/gdrive/My Drive')\n",
        "path='/gdrive/My Drive/'"
      ],
      "execution_count": 0,
      "outputs": [
        {
          "output_type": "stream",
          "text": [
            "Go to this URL in a browser: https://accounts.google.com/o/oauth2/auth?client_id=947318989803-6bn6qk8qdgf4n4g3pfee6491hc0brc4i.apps.googleusercontent.com&redirect_uri=urn%3aietf%3awg%3aoauth%3a2.0%3aoob&response_type=code&scope=email%20https%3a%2f%2fwww.googleapis.com%2fauth%2fdocs.test%20https%3a%2f%2fwww.googleapis.com%2fauth%2fdrive%20https%3a%2f%2fwww.googleapis.com%2fauth%2fdrive.photos.readonly%20https%3a%2f%2fwww.googleapis.com%2fauth%2fpeopleapi.readonly\n",
            "\n",
            "Enter your authorization code:\n",
            "··········\n",
            "Mounted at /gdrive\n"
          ],
          "name": "stdout"
        }
      ]
    },
    {
      "cell_type": "markdown",
      "metadata": {
        "colab_type": "text",
        "id": "Rk-8r3HU6Jyo"
      },
      "source": [
        "Κώδικάς για να εγκατασταθεί το Swi-Prolog και το pyswip.<br>\n",
        "\n",
        "***Αυτά χρειάζονται σε κάθε περιβάλλον λειτουργίας, αν δεν έιναι ήδη  εγκατεστημένα.***"
      ]
    },
    {
      "cell_type": "code",
      "metadata": {
        "colab_type": "code",
        "id": "mHVpa_D65-E2",
        "outputId": "fcccfb86-6cb4-403e-9390-2aedf914d5db",
        "colab": {
          "base_uri": "https://localhost:8080/",
          "height": 1000
        }
      },
      "source": [
        "#install swi-prolog\n",
        "!sudo apt-get install software-properties-common\n",
        "!sudo apt-add-repository ppa:swi-prolog/stable\n",
        "!sudo apt-get update\n",
        "!sudo apt-get install swi-prolog"
      ],
      "execution_count": 0,
      "outputs": [
        {
          "output_type": "stream",
          "text": [
            "Reading package lists... Done\n",
            "Building dependency tree       \n",
            "Reading state information... Done\n",
            "software-properties-common is already the newest version (0.96.24.32.11).\n",
            "The following package was automatically installed and is no longer required:\n",
            "  libnvidia-common-430\n",
            "Use 'sudo apt autoremove' to remove it.\n",
            "0 upgraded, 0 newly installed, 0 to remove and 7 not upgraded.\n",
            " Comprehensive Prolog implementation with extensive libraries and development tools.   Primarily targetted at teaching, RDF processing and web-related tasks, such as creating web services or analysing web content.\n",
            " More info: https://launchpad.net/~swi-prolog/+archive/ubuntu/stable\n",
            "Press [ENTER] to continue or Ctrl-c to cancel adding it.\n",
            "\n",
            "Hit:1 http://ppa.launchpad.net/graphics-drivers/ppa/ubuntu bionic InRelease\n",
            "Hit:2 http://archive.ubuntu.com/ubuntu bionic InRelease\n",
            "Get:3 http://archive.ubuntu.com/ubuntu bionic-updates InRelease [88.7 kB]\n",
            "Get:4 http://security.ubuntu.com/ubuntu bionic-security InRelease [88.7 kB]\n",
            "Get:5 http://ppa.launchpad.net/marutter/c2d4u3.5/ubuntu bionic InRelease [15.4 kB]\n",
            "Get:6 https://cloud.r-project.org/bin/linux/ubuntu bionic-cran35/ InRelease [3,626 B]\n",
            "Get:7 http://ppa.launchpad.net/swi-prolog/stable/ubuntu bionic InRelease [15.4 kB]\n",
            "Get:8 http://archive.ubuntu.com/ubuntu bionic-backports InRelease [74.6 kB]\n",
            "Ign:9 https://developer.download.nvidia.com/compute/cuda/repos/ubuntu1804/x86_64  InRelease\n",
            "Ign:10 https://developer.download.nvidia.com/compute/machine-learning/repos/ubuntu1804/x86_64  InRelease\n",
            "Hit:11 https://developer.download.nvidia.com/compute/cuda/repos/ubuntu1804/x86_64  Release\n",
            "Get:12 https://developer.download.nvidia.com/compute/machine-learning/repos/ubuntu1804/x86_64  Release [564 B]\n",
            "Get:13 https://developer.download.nvidia.com/compute/machine-learning/repos/ubuntu1804/x86_64  Release.gpg [833 B]\n",
            "Get:14 http://ppa.launchpad.net/marutter/c2d4u3.5/ubuntu bionic/main Sources [1,752 kB]\n",
            "Get:15 https://cloud.r-project.org/bin/linux/ubuntu bionic-cran35/ Packages [81.6 kB]\n",
            "Get:16 http://ppa.launchpad.net/marutter/c2d4u3.5/ubuntu bionic/main amd64 Packages [845 kB]\n",
            "Get:17 http://security.ubuntu.com/ubuntu bionic-security/main amd64 Packages [777 kB]\n",
            "Get:18 http://security.ubuntu.com/ubuntu bionic-security/restricted amd64 Packages [21.8 kB]\n",
            "Get:19 http://security.ubuntu.com/ubuntu bionic-security/universe amd64 Packages [804 kB]\n",
            "Get:20 http://ppa.launchpad.net/swi-prolog/stable/ubuntu bionic/main amd64 Packages [1,491 B]\n",
            "Get:21 http://archive.ubuntu.com/ubuntu bionic-updates/multiverse amd64 Packages [10.8 kB]\n",
            "Get:22 http://archive.ubuntu.com/ubuntu bionic-updates/main amd64 Packages [1,074 kB]\n",
            "Get:23 http://archive.ubuntu.com/ubuntu bionic-updates/universe amd64 Packages [1,330 kB]\n",
            "Get:24 http://archive.ubuntu.com/ubuntu bionic-updates/restricted amd64 Packages [35.5 kB]\n",
            "Get:25 http://archive.ubuntu.com/ubuntu bionic-backports/universe amd64 Packages [4,241 B]\n",
            "Get:27 https://developer.download.nvidia.com/compute/machine-learning/repos/ubuntu1804/x86_64  Packages [30.4 kB]\n",
            "Fetched 7,056 kB in 1s (4,823 kB/s)\n",
            "Reading package lists... Done\n",
            "Hit:1 http://ppa.launchpad.net/graphics-drivers/ppa/ubuntu bionic InRelease\n",
            "Hit:2 http://archive.ubuntu.com/ubuntu bionic InRelease\n",
            "Hit:3 http://archive.ubuntu.com/ubuntu bionic-updates InRelease\n",
            "Hit:4 http://security.ubuntu.com/ubuntu bionic-security InRelease\n",
            "Hit:5 http://ppa.launchpad.net/marutter/c2d4u3.5/ubuntu bionic InRelease\n",
            "Hit:6 http://archive.ubuntu.com/ubuntu bionic-backports InRelease\n",
            "Hit:7 https://cloud.r-project.org/bin/linux/ubuntu bionic-cran35/ InRelease\n",
            "Hit:8 http://ppa.launchpad.net/swi-prolog/stable/ubuntu bionic InRelease\n",
            "Ign:9 https://developer.download.nvidia.com/compute/cuda/repos/ubuntu1804/x86_64  InRelease\n",
            "Ign:10 https://developer.download.nvidia.com/compute/machine-learning/repos/ubuntu1804/x86_64  InRelease\n",
            "Hit:11 https://developer.download.nvidia.com/compute/cuda/repos/ubuntu1804/x86_64  Release\n",
            "Hit:12 https://developer.download.nvidia.com/compute/machine-learning/repos/ubuntu1804/x86_64  Release\n",
            "Reading package lists... Done\n",
            "Reading package lists... Done\n",
            "Building dependency tree       \n",
            "Reading state information... Done\n",
            "The following package was automatically installed and is no longer required:\n",
            "  libnvidia-common-430\n",
            "Use 'sudo apt autoremove' to remove it.\n",
            "The following additional packages will be installed:\n",
            "  libbsd-dev libedit-dev libgmp-dev libgmpxx4ldbl libncursesw5-dev\n",
            "  libossp-uuid16 swi-prolog-nox swi-prolog-x\n",
            "Suggested packages:\n",
            "  gmp-doc libgmp10-doc libmpfr-dev ncurses-doc uuid swi-prolog-doc prolog-el\n",
            "The following NEW packages will be installed:\n",
            "  libbsd-dev libedit-dev libgmp-dev libgmpxx4ldbl libncursesw5-dev\n",
            "  libossp-uuid16 swi-prolog swi-prolog-nox swi-prolog-x\n",
            "0 upgraded, 9 newly installed, 0 to remove and 30 not upgraded.\n",
            "Need to get 6,664 kB of archives.\n",
            "After this operation, 34.7 MB of additional disk space will be used.\n",
            "Get:1 http://archive.ubuntu.com/ubuntu bionic/main amd64 libbsd-dev amd64 0.8.7-1 [150 kB]\n",
            "Get:2 http://ppa.launchpad.net/swi-prolog/stable/ubuntu bionic/main amd64 swi-prolog-nox amd64 8.0.3-1-gcbd8b3b92-bionicppa2 [3,723 kB]\n",
            "Get:3 http://archive.ubuntu.com/ubuntu bionic/main amd64 libedit-dev amd64 3.1-20170329-1 [99.1 kB]\n",
            "Get:4 http://archive.ubuntu.com/ubuntu bionic/main amd64 libgmpxx4ldbl amd64 2:6.1.2+dfsg-2 [8,964 B]\n",
            "Get:5 http://archive.ubuntu.com/ubuntu bionic/main amd64 libgmp-dev amd64 2:6.1.2+dfsg-2 [316 kB]\n",
            "Get:6 http://archive.ubuntu.com/ubuntu bionic-updates/main amd64 libncursesw5-dev amd64 6.1-1ubuntu1.18.04 [199 kB]\n",
            "Get:7 http://archive.ubuntu.com/ubuntu bionic/universe amd64 libossp-uuid16 amd64 1.6.2-1.5build4 [29.0 kB]\n",
            "Get:8 http://ppa.launchpad.net/swi-prolog/stable/ubuntu bionic/main amd64 swi-prolog-x amd64 8.0.3-1-gcbd8b3b92-bionicppa2 [2,110 kB]\n",
            "Get:9 http://ppa.launchpad.net/swi-prolog/stable/ubuntu bionic/main amd64 swi-prolog amd64 8.0.3-1-gcbd8b3b92-bionicppa2 [27.3 kB]\n",
            "Fetched 6,664 kB in 0s (15.9 MB/s)\n",
            "debconf: unable to initialize frontend: Dialog\n",
            "debconf: (No usable dialog-like program is installed, so the dialog based frontend cannot be used. at /usr/share/perl5/Debconf/FrontEnd/Dialog.pm line 76, <> line 9.)\n",
            "debconf: falling back to frontend: Readline\n",
            "debconf: unable to initialize frontend: Readline\n",
            "debconf: (This frontend requires a controlling tty.)\n",
            "debconf: falling back to frontend: Teletype\n",
            "dpkg-preconfigure: unable to re-open stdin: \n",
            "Selecting previously unselected package libbsd-dev:amd64.\n",
            "(Reading database ... 135004 files and directories currently installed.)\n",
            "Preparing to unpack .../0-libbsd-dev_0.8.7-1_amd64.deb ...\n",
            "Unpacking libbsd-dev:amd64 (0.8.7-1) ...\n",
            "Selecting previously unselected package libedit-dev:amd64.\n",
            "Preparing to unpack .../1-libedit-dev_3.1-20170329-1_amd64.deb ...\n",
            "Unpacking libedit-dev:amd64 (3.1-20170329-1) ...\n",
            "Selecting previously unselected package libgmpxx4ldbl:amd64.\n",
            "Preparing to unpack .../2-libgmpxx4ldbl_2%3a6.1.2+dfsg-2_amd64.deb ...\n",
            "Unpacking libgmpxx4ldbl:amd64 (2:6.1.2+dfsg-2) ...\n",
            "Selecting previously unselected package libgmp-dev:amd64.\n",
            "Preparing to unpack .../3-libgmp-dev_2%3a6.1.2+dfsg-2_amd64.deb ...\n",
            "Unpacking libgmp-dev:amd64 (2:6.1.2+dfsg-2) ...\n",
            "Selecting previously unselected package libncursesw5-dev:amd64.\n",
            "Preparing to unpack .../4-libncursesw5-dev_6.1-1ubuntu1.18.04_amd64.deb ...\n",
            "Unpacking libncursesw5-dev:amd64 (6.1-1ubuntu1.18.04) ...\n",
            "Selecting previously unselected package libossp-uuid16:amd64.\n",
            "Preparing to unpack .../5-libossp-uuid16_1.6.2-1.5build4_amd64.deb ...\n",
            "Unpacking libossp-uuid16:amd64 (1.6.2-1.5build4) ...\n",
            "Selecting previously unselected package swi-prolog-nox.\n",
            "Preparing to unpack .../6-swi-prolog-nox_8.0.3-1-gcbd8b3b92-bionicppa2_amd64.deb ...\n",
            "Unpacking swi-prolog-nox (8.0.3-1-gcbd8b3b92-bionicppa2) ...\n",
            "Selecting previously unselected package swi-prolog-x.\n",
            "Preparing to unpack .../7-swi-prolog-x_8.0.3-1-gcbd8b3b92-bionicppa2_amd64.deb ...\n",
            "Unpacking swi-prolog-x (8.0.3-1-gcbd8b3b92-bionicppa2) ...\n",
            "Selecting previously unselected package swi-prolog.\n",
            "Preparing to unpack .../8-swi-prolog_8.0.3-1-gcbd8b3b92-bionicppa2_amd64.deb ...\n",
            "Unpacking swi-prolog (8.0.3-1-gcbd8b3b92-bionicppa2) ...\n",
            "Setting up libbsd-dev:amd64 (0.8.7-1) ...\n",
            "Setting up libossp-uuid16:amd64 (1.6.2-1.5build4) ...\n",
            "Setting up libncursesw5-dev:amd64 (6.1-1ubuntu1.18.04) ...\n",
            "Setting up libedit-dev:amd64 (3.1-20170329-1) ...\n",
            "Setting up libgmpxx4ldbl:amd64 (2:6.1.2+dfsg-2) ...\n",
            "Setting up libgmp-dev:amd64 (2:6.1.2+dfsg-2) ...\n",
            "Setting up swi-prolog-nox (8.0.3-1-gcbd8b3b92-bionicppa2) ...\n",
            "update-alternatives: using /usr/bin/swipl to provide /usr/bin/prolog (prolog) in auto mode\n",
            "Setting up swi-prolog-x (8.0.3-1-gcbd8b3b92-bionicppa2) ...\n",
            "Setting up swi-prolog (8.0.3-1-gcbd8b3b92-bionicppa2) ...\n",
            "Processing triggers for libc-bin (2.27-3ubuntu1) ...\n",
            "Processing triggers for man-db (2.8.3-2ubuntu0.1) ...\n"
          ],
          "name": "stdout"
        }
      ]
    },
    {
      "cell_type": "code",
      "metadata": {
        "id": "gA0glMOQgjpr",
        "colab_type": "code",
        "outputId": "dda44f84-a522-43f5-ab02-fa2d09757caa",
        "colab": {
          "base_uri": "https://localhost:8080/",
          "height": 105
        }
      },
      "source": [
        "#install pyswip\n",
        "!pip install pyswip"
      ],
      "execution_count": 0,
      "outputs": [
        {
          "output_type": "stream",
          "text": [
            "Collecting pyswip\n",
            "  Downloading https://files.pythonhosted.org/packages/e4/f3/2b1462c4379b089426dbedb29d8d903e63baf37857ccf6e87f168b786019/pyswip-0.2.9-py2.py3-none-any.whl\n",
            "Installing collected packages: pyswip\n",
            "Successfully installed pyswip-0.2.9\n"
          ],
          "name": "stdout"
        }
      ]
    },
    {
      "cell_type": "markdown",
      "metadata": {
        "colab_type": "text",
        "id": "YwVgPW316S3l"
      },
      "source": [
        "---"
      ]
    },
    {
      "cell_type": "markdown",
      "metadata": {
        "id": "9_aEo1pPGpnG",
        "colab_type": "text"
      },
      "source": [
        "---\n",
        "<center><h2>Οι κώδικες σε prolog είναι εδώ στον φάκελο prologCode:</h2></center>\n",
        "\n",
        "---\n",
        "---\n",
        "https://drive.google.com/drive/folders/1d0MRgiatCTOPDV1JEh1hxZv_pmgq8ir1?usp=sharing\n",
        "---"
      ]
    },
    {
      "cell_type": "markdown",
      "metadata": {
        "colab_type": "text",
        "id": "rhbCLdSqKUy2"
      },
      "source": [
        "# **Μέρος 1: Μελέτη των Metadata, Δημιουργία κόσμου και των βασικών queries.**\n"
      ]
    },
    {
      "cell_type": "code",
      "metadata": {
        "colab_type": "code",
        "id": "Z_f0xW6_tHhp",
        "outputId": "18e09a27-a17b-4367-d96f-e660fc31da7a",
        "colab": {
          "base_uri": "https://localhost:8080/",
          "height": 360
        }
      },
      "source": [
        "import pandas as pd \n",
        "data = pd.read_csv('/gdrive/My Drive/Colab/Second AI/movie_metadata.csv') \n",
        "data.fillna(\"UNK\", inplace=True)\n",
        "data.head()"
      ],
      "execution_count": 0,
      "outputs": [
        {
          "output_type": "execute_result",
          "data": {
            "text/html": [
              "<div>\n",
              "<style scoped>\n",
              "    .dataframe tbody tr th:only-of-type {\n",
              "        vertical-align: middle;\n",
              "    }\n",
              "\n",
              "    .dataframe tbody tr th {\n",
              "        vertical-align: top;\n",
              "    }\n",
              "\n",
              "    .dataframe thead th {\n",
              "        text-align: right;\n",
              "    }\n",
              "</style>\n",
              "<table border=\"1\" class=\"dataframe\">\n",
              "  <thead>\n",
              "    <tr style=\"text-align: right;\">\n",
              "      <th></th>\n",
              "      <th>color</th>\n",
              "      <th>director_name</th>\n",
              "      <th>num_critic_for_reviews</th>\n",
              "      <th>duration</th>\n",
              "      <th>director_facebook_likes</th>\n",
              "      <th>actor_3_facebook_likes</th>\n",
              "      <th>actor_2_name</th>\n",
              "      <th>actor_1_facebook_likes</th>\n",
              "      <th>gross</th>\n",
              "      <th>genres</th>\n",
              "      <th>actor_1_name</th>\n",
              "      <th>movie_title</th>\n",
              "      <th>num_voted_users</th>\n",
              "      <th>cast_total_facebook_likes</th>\n",
              "      <th>actor_3_name</th>\n",
              "      <th>facenumber_in_poster</th>\n",
              "      <th>plot_keywords</th>\n",
              "      <th>movie_imdb_link</th>\n",
              "      <th>num_user_for_reviews</th>\n",
              "      <th>language</th>\n",
              "      <th>country</th>\n",
              "      <th>content_rating</th>\n",
              "      <th>budget</th>\n",
              "      <th>title_year</th>\n",
              "      <th>actor_2_facebook_likes</th>\n",
              "      <th>imdb_score</th>\n",
              "      <th>aspect_ratio</th>\n",
              "      <th>movie_facebook_likes</th>\n",
              "    </tr>\n",
              "  </thead>\n",
              "  <tbody>\n",
              "    <tr>\n",
              "      <th>0</th>\n",
              "      <td>Color</td>\n",
              "      <td>James Cameron</td>\n",
              "      <td>723</td>\n",
              "      <td>178</td>\n",
              "      <td>0</td>\n",
              "      <td>855</td>\n",
              "      <td>Joel David Moore</td>\n",
              "      <td>1000</td>\n",
              "      <td>7.60506e+08</td>\n",
              "      <td>Action|Adventure|Fantasy|Sci-Fi</td>\n",
              "      <td>CCH Pounder</td>\n",
              "      <td>Avatar</td>\n",
              "      <td>886204</td>\n",
              "      <td>4834</td>\n",
              "      <td>Wes Studi</td>\n",
              "      <td>0</td>\n",
              "      <td>avatar|future|marine|native|paraplegic</td>\n",
              "      <td>http://www.imdb.com/title/tt0499549/?ref_=fn_t...</td>\n",
              "      <td>3054</td>\n",
              "      <td>English</td>\n",
              "      <td>USA</td>\n",
              "      <td>PG-13</td>\n",
              "      <td>2.37e+08</td>\n",
              "      <td>2009</td>\n",
              "      <td>936</td>\n",
              "      <td>7.9</td>\n",
              "      <td>1.78</td>\n",
              "      <td>33000</td>\n",
              "    </tr>\n",
              "    <tr>\n",
              "      <th>1</th>\n",
              "      <td>Color</td>\n",
              "      <td>Gore Verbinski</td>\n",
              "      <td>302</td>\n",
              "      <td>169</td>\n",
              "      <td>563</td>\n",
              "      <td>1000</td>\n",
              "      <td>Orlando Bloom</td>\n",
              "      <td>40000</td>\n",
              "      <td>3.09404e+08</td>\n",
              "      <td>Action|Adventure|Fantasy</td>\n",
              "      <td>Johnny Depp</td>\n",
              "      <td>Pirates of the Caribbean: At World's End</td>\n",
              "      <td>471220</td>\n",
              "      <td>48350</td>\n",
              "      <td>Jack Davenport</td>\n",
              "      <td>0</td>\n",
              "      <td>goddess|marriage ceremony|marriage proposal|pi...</td>\n",
              "      <td>http://www.imdb.com/title/tt0449088/?ref_=fn_t...</td>\n",
              "      <td>1238</td>\n",
              "      <td>English</td>\n",
              "      <td>USA</td>\n",
              "      <td>PG-13</td>\n",
              "      <td>3e+08</td>\n",
              "      <td>2007</td>\n",
              "      <td>5000</td>\n",
              "      <td>7.1</td>\n",
              "      <td>2.35</td>\n",
              "      <td>0</td>\n",
              "    </tr>\n",
              "    <tr>\n",
              "      <th>2</th>\n",
              "      <td>Color</td>\n",
              "      <td>Sam Mendes</td>\n",
              "      <td>602</td>\n",
              "      <td>148</td>\n",
              "      <td>0</td>\n",
              "      <td>161</td>\n",
              "      <td>Rory Kinnear</td>\n",
              "      <td>11000</td>\n",
              "      <td>2.00074e+08</td>\n",
              "      <td>Action|Adventure|Thriller</td>\n",
              "      <td>Christoph Waltz</td>\n",
              "      <td>Spectre</td>\n",
              "      <td>275868</td>\n",
              "      <td>11700</td>\n",
              "      <td>Stephanie Sigman</td>\n",
              "      <td>1</td>\n",
              "      <td>bomb|espionage|sequel|spy|terrorist</td>\n",
              "      <td>http://www.imdb.com/title/tt2379713/?ref_=fn_t...</td>\n",
              "      <td>994</td>\n",
              "      <td>English</td>\n",
              "      <td>UK</td>\n",
              "      <td>PG-13</td>\n",
              "      <td>2.45e+08</td>\n",
              "      <td>2015</td>\n",
              "      <td>393</td>\n",
              "      <td>6.8</td>\n",
              "      <td>2.35</td>\n",
              "      <td>85000</td>\n",
              "    </tr>\n",
              "    <tr>\n",
              "      <th>3</th>\n",
              "      <td>Color</td>\n",
              "      <td>Christopher Nolan</td>\n",
              "      <td>813</td>\n",
              "      <td>164</td>\n",
              "      <td>22000</td>\n",
              "      <td>23000</td>\n",
              "      <td>Christian Bale</td>\n",
              "      <td>27000</td>\n",
              "      <td>4.48131e+08</td>\n",
              "      <td>Action|Thriller</td>\n",
              "      <td>Tom Hardy</td>\n",
              "      <td>The Dark Knight Rises</td>\n",
              "      <td>1144337</td>\n",
              "      <td>106759</td>\n",
              "      <td>Joseph Gordon-Levitt</td>\n",
              "      <td>0</td>\n",
              "      <td>deception|imprisonment|lawlessness|police offi...</td>\n",
              "      <td>http://www.imdb.com/title/tt1345836/?ref_=fn_t...</td>\n",
              "      <td>2701</td>\n",
              "      <td>English</td>\n",
              "      <td>USA</td>\n",
              "      <td>PG-13</td>\n",
              "      <td>2.5e+08</td>\n",
              "      <td>2012</td>\n",
              "      <td>23000</td>\n",
              "      <td>8.5</td>\n",
              "      <td>2.35</td>\n",
              "      <td>164000</td>\n",
              "    </tr>\n",
              "    <tr>\n",
              "      <th>4</th>\n",
              "      <td>UNK</td>\n",
              "      <td>Doug Walker</td>\n",
              "      <td>UNK</td>\n",
              "      <td>UNK</td>\n",
              "      <td>131</td>\n",
              "      <td>UNK</td>\n",
              "      <td>Rob Walker</td>\n",
              "      <td>131</td>\n",
              "      <td>UNK</td>\n",
              "      <td>Documentary</td>\n",
              "      <td>Doug Walker</td>\n",
              "      <td>Star Wars: Episode VII - The Force Awakens    ...</td>\n",
              "      <td>8</td>\n",
              "      <td>143</td>\n",
              "      <td>UNK</td>\n",
              "      <td>0</td>\n",
              "      <td>UNK</td>\n",
              "      <td>http://www.imdb.com/title/tt5289954/?ref_=fn_t...</td>\n",
              "      <td>UNK</td>\n",
              "      <td>UNK</td>\n",
              "      <td>UNK</td>\n",
              "      <td>UNK</td>\n",
              "      <td>UNK</td>\n",
              "      <td>UNK</td>\n",
              "      <td>12</td>\n",
              "      <td>7.1</td>\n",
              "      <td>UNK</td>\n",
              "      <td>0</td>\n",
              "    </tr>\n",
              "  </tbody>\n",
              "</table>\n",
              "</div>"
            ],
            "text/plain": [
              "   color      director_name  ... aspect_ratio movie_facebook_likes\n",
              "0  Color      James Cameron  ...         1.78                33000\n",
              "1  Color     Gore Verbinski  ...         2.35                    0\n",
              "2  Color         Sam Mendes  ...         2.35                85000\n",
              "3  Color  Christopher Nolan  ...         2.35               164000\n",
              "4    UNK        Doug Walker  ...          UNK                    0\n",
              "\n",
              "[5 rows x 28 columns]"
            ]
          },
          "metadata": {
            "tags": []
          },
          "execution_count": 2
        }
      ]
    },
    {
      "cell_type": "code",
      "metadata": {
        "colab_type": "code",
        "id": "dG4-a9_FzRRd",
        "colab": {}
      },
      "source": [
        "from pyswip import Prolog"
      ],
      "execution_count": 0,
      "outputs": []
    },
    {
      "cell_type": "code",
      "metadata": {
        "colab_type": "code",
        "id": "ceBtnUMn7Mwm",
        "colab": {}
      },
      "source": [
        "def clean_text(text):\n",
        "    text = text.replace(u'\\xa0', u'')\n",
        "    text = text.replace(u\"'\", u'')\n",
        "    text = text.replace(u'\"', u'')\n",
        "    return text"
      ],
      "execution_count": 0,
      "outputs": []
    },
    {
      "cell_type": "code",
      "metadata": {
        "colab_type": "code",
        "id": "8-fmdlMxxBzx",
        "colab": {}
      },
      "source": [
        "prolog = Prolog()\n",
        "prolog.query('make')\n",
        "\n",
        "literals = []\n",
        "m =[]\n",
        "movie_score = {}\n",
        "for row in data.itertuples(index=True, name='Pandas'):\n",
        "    movie_title = clean_text(getattr(row, 'movie_title'))\n",
        "    director = clean_text(getattr(row, 'director_name'))\n",
        "    genre = clean_text(getattr(row, 'genres'))\n",
        "    keyword = clean_text(getattr(row, 'plot_keywords'))\n",
        "    actor1 = clean_text(getattr(row, 'actor_1_name'))\n",
        "    actor2 = clean_text(getattr(row, 'actor_2_name'))\n",
        "    actor3 = clean_text(getattr(row, 'actor_3_name'))\n",
        "    language = clean_text(getattr(row, 'language'))\n",
        "    color = clean_text(getattr(row, 'color'))\n",
        "    country = clean_text(getattr(row, 'country'))\n",
        "    year = (getattr(row, 'title_year'))\n",
        "    duration = (getattr(row, 'duration'))\n",
        "    score = (getattr(row, 'imdb_score'))\n",
        "\n",
        "    movie_score[movie_title] = 0\n",
        "    if movie_title != \"UNK\":\n",
        "        m.append(movie_title)\n",
        "        if director != \"UNK\":\n",
        "            literals.append(\"director('\"+ movie_title +\"','\" + director + \"')\")\n",
        "        for genre in getattr(row, 'genres').split(\"|\"):\n",
        "            literals.append(\"genre('\"+ movie_title +\"','\"+ genre +\"')\")\n",
        "        for keyword in clean_text(getattr(row, 'plot_keywords')).split(\"|\"):\n",
        "            literals.append(\"keyword('\"+ movie_title +\"','\"+ keyword +\"')\")\n",
        "        if actor1 != \"UNK\":\n",
        "            literals.append(\"actor1('\"+ movie_title +\"','\" + actor1 + \"')\")\n",
        "        if actor2 != \"UNK\":\n",
        "            literals.append(\"actor2('\"+ movie_title +\"','\" + actor2 + \"')\")\n",
        "        if actor3 != \"UNK\":\n",
        "            literals.append(\"actor3('\"+ movie_title +\"','\" + actor3 + \"')\")\n",
        "        if language != \"UNK\":\n",
        "            literals.append(\"language('\"+ movie_title +\"','\" + language + \"')\")\n",
        "        if color != \"UNK\":\n",
        "            literals.append(\"color('\"+ movie_title +\"','\" + color + \"')\")\n",
        "        if country != \"UNK\":\n",
        "            literals.append(\"country('\"+ movie_title +\"','\" + country + \"')\")\n",
        "        if year != \"UNK\":\n",
        "          str = (\"year('\"+ movie_title +\"',{})\")\n",
        "          literals.append(str.format(year))\n",
        "        if duration != \"UNK\":\n",
        "          str = (\"duration('\"+ movie_title +\"',{})\")\n",
        "          literals.append(str.format(duration))\n",
        "        if score != \"UNK\":\n",
        "          str = (\"score('\"+ movie_title +\"',{})\")\n",
        "          literals.append(str.format(score))\n",
        "\n",
        "#Η Prolog θέλει τα κατηγορήματά της με την σειρά \n",
        "literals.sort()\n",
        "for literal in literals:\n",
        "    prolog.assertz(literal)\n",
        "\n",
        "#Επίσης μπορούμε να κάνουμε consult ένα έτοιμό αρχίο στον κόσμο όπως γίνεται παρακάτω\n",
        "prolog.consult(\"/gdrive/My Drive/Colab/Second AI/prologCode/partA.pl\")\n"
      ],
      "execution_count": 0,
      "outputs": []
    },
    {
      "cell_type": "markdown",
      "metadata": {
        "id": "VRmEK5pAHJHa",
        "colab_type": "text"
      },
      "source": [
        "Γενικά όσον αφορά τα **genre** (και αντίστοιχα για τα **keywords**) έχουμε κάνει την εξής ανάλυση:<br> \n",
        "Αρχικά μελετάμε αν η ταινία που θέλουμε να μελετήσουμε έχει ως περιγραφεί ένα μονο genre, 2 genre ακριβώς, 3genres ακριβώς, 4 genres ακριβώς, ή παραπάνω απο 5 genres. <br>\n",
        "**Όσον αφορά ταινίες με 1 μονο genre:**<br>\n",
        "Έχω μια ταινία Α με 1 μονο genre και θέλω να βαθμολογήσω όλες τις άλλες ταινίες\n",
        "Μια ταινία βαθμολογείται με 5* ανεξαρτήτως του πλήθους genre που εχει αν έχει κοινό το genre της ταινίας που εξετάζουμε, αν δεν το έχει κοινό τότε βαθμολογείται με 1*<br>\n",
        "**Όσον αφορά ταινίες με 2 μονο genre:**<br>\n",
        "Έχω μια ταινία Α με 2 μονο genre και θέλω να βαθμολογήσω όλες τις άλλες ταινίες\n",
        "Μια ταινία βαθμολογείται με 5* ανεξαρτήτως του πλήθους genre που εχει, αν έχει 2 genre κοινά με την ταινία Α, μια άλλη ταινία βαθμολογείται με 3* ανεξαρτήτως του πλήθους genre που εχει αν έχει 1 genre κοινό με την ταινία Α μια άλλη ταινία βαθμολογείται με 1* ανεξαρτήτως του πλήθους genre που εχει αν δεν έχει κανένα κοινό genre με την ταινία Α.<br>\n",
        "**Όσον αφορά ταινίες με 3 μονο genre:**<br>\n",
        "Έχω μια ταινία Α με 3 μονο genre και θέλω να βαθμολογήσω όλες τις άλλες ταινίες\n",
        "Μια ταινία βαθμολογείται με 5* ανεξαρτήτως του πλήθους genre που εχει, αν έχει 3 genre κοινά με την ταινία Α, μια άλλη ταινία βαθμολογείται με 4* ανεξαρτήτως του πλήθους genre που εχει αν έχει 2 genre κοινά με την ταινία Α, μια άλλη ταινία βαθμολογείται με 3* ανεξαρτήτως του πλήθους genre που εχει αν έχει 1 genre κοινό με την ταινία Α, μια άλλη ταινία βαθμολογείται με 1* ανεξαρτήτως του πλήθους genre που εχει αν δεν έχει κανένα κοινό genre με την ταινία Α.<br>\n",
        "**Όσον αφορά ταινίες με 4 μονο genre:**<br>\n",
        "Έχω μια ταινία Α με 4 μονο genre και θέλω να βαθμολογήσω όλες τις άλλες ταινίες\n",
        "Μια ταινία βαθμολογείται με 5* ανεξαρτήτως του πλήθους genre που εχει, αν έχει 4 genre κοινά με την ταινία Α, μια άλλη ταινία βαθμολογείται με 4* ανεξαρτήτως του πλήθους genre που εχει αν έχει 3 genre κοινά με την ταινία Α, μια άλλη ταινία βαθμολογείται με 3* ανεξαρτήτως του πλήθους genre που εχει αν έχει 2 genre κοινά με την ταινία Α, μια άλλη ταινία βαθμολογείται με 2* ανεξαρτήτως του πλήθους genre που εχει αν έχει 1 genre κοινό με την ταινία Α, μια άλλη ταινία βαθμολογείται με 1* ανεξαρτήτως του πλήθους genre που εχει αν δεν έχει κανένα κοινό genre με την ταινία Α.<br>\n",
        "**Όσον αφορά ταινίες με 5 μονο genre:**<br>\n",
        "Έχω μια ταινία Α με 4 μονο genre και θέλω να βαθμολογήσω όλες τις άλλες ταινίες\n",
        "Μια ταινία βαθμολογείται με 5* ανεξαρτήτως του πλήθους genre που εχει, αν έχει 5 genre κοινά με την ταινία Α, μια άλλη ταινία βαθμολογείται με 4* ανεξαρτήτως του πλήθους genre που εχει αν έχει 4 genre κοινά με την ταινία Α, μια άλλη ταινία βαθμολογείται με 3* ανεξαρτήτως του πλήθους genre που εχει αν έχει 3 genre κοινά με την ταινία Α, μια άλλη ταινία βαθμολογείται με 2* ανεξαρτήτως του πλήθους genre που εχει αν έχει 2 genre κοινό με την ταινία Α, μια άλλη ταινία βαθμολογείται με 1* ανεξαρτήτως του πλήθους genre που εχει αν δεν έχει κανένα κοινό genre με την ταινία Α.<br>\n",
        "<br>\n",
        "**Παρατηρούμε** ότι αυτή η ανάλυση για τα genre βγάζει εξαιρετικά αποτελέσματα στο συστημά μας.\n",
        "Ωστόσο η αντιστοιχη ανάλυση για τα keywords δεν ειναι τοσο καλή στο συστημα μας, παρατηρούμε ότι το keyword πετυχίνει ένα με δύο αστέρια, επομένως μια πιο σωστή μελέτη για το keyword θα ήταν να ομαδοποιήσουμε τις όμοιες λέξεις, και να συγκρίναμε με βάση τις ομαδοποιημένες.\n",
        "<br><br>\n",
        "Σχετικά με το **πλήθος ηθοποιών**.\n",
        "Στο Σύστημα που έφτιαξα δεν ενδιαφέρομαι για το αν ο ηθοποιός παίζει σε πρωταγωνιστικό ρόλο ή δευτεραγωνιστικό ή τριταγωνιστικό, καθώς θεωρώ αν κάποιος θέλει να δει μια ταινία για έναν ηθοποιό θα την δεί αν παίζει στους τρείς πρώτους ρόλους.<br><br>\n",
        "Σχετικά με **γλώσσα, χώρα προέλευσης,χρώμα ταινίας, σκηνοθέτη**.<br>\n",
        "Κάνουμε μελέτη ποιες ταινίες έχουν τα ίδια χαρακτηριστικά(γλώσσά κλπ) με την ταινία Α που εξετάζουμε.<br>\n",
        "Σχετικά με την **χρόνο** που βγήκε η ταινία.<br>\n",
        "Βαθμολογούμε με 5* τις ταινίες που απέχουν το πολύ έναν χρόνο απο την ταινία που εξετάζουμε.<br>\n",
        "Βαθμολογούμε με 4* τις ταινίες που απέχουν το πολύ 5 χρόνια απο την ταινία που εξετάζουμε.<br>\n",
        "Βαθμολογούμε με 3* τις ταινίες που απέχουν το πολύ 10 χρόνια απο την ταινία που εξετάζουμε.<br>\n",
        "Βαθμολογούμε με 2* τις ταινίες που απέχουν το πολύ 20 χρόνια απο την ταινία που εξετάζουμε.<br>\n",
        "Βαθμολογούμε με 1* τις ταινίες που απέχουν περισσότερα απο 20 χρόνια  απο την ταινία που εξετάζουμε.<br>\n",
        "\n",
        "Σχετικά με την **διάρκεια** της ταινίας.<br>\n",
        "Βαθμολογούμε με 5* τις ταινίες που απέχουν το πολύ 30λεπτά διαφορά διάρκειας απο την ταινία που εξετάζουμε.<br>\n",
        "Βαθμολογούμε με 3* τις ταινίες που απέχουν το πολύ 50λεπτά διαφορά διάρκειας απο την ταινία που εξετάζουμε.<br>\n",
        "Βαθμολογούμε με 1* τις ταινίες που απέχουν περισσότερα από 50λεπτά διαφορά διάρκειας απο την ταινία που εξετάζουμε.<br>\n",
        "\n",
        "Σχετικά με την **βαθμολογία** **(imbd score)** που πήρε η ταινία.<br>\n",
        "Βαθμολογούμε με 5* τις ταινίες που απέχουν το πολύ 0.2 βαθμολογίκα απο την ταινία που εξετάζουμε.<br>\n",
        "Βαθμολογούμε με 4* τις ταινίες που απέχουν το πολύ 0.5 βαθμολογίκααπο την ταινία που εξετάζουμε.<br>\n",
        "Βαθμολογούμε με 3* τις ταινίες που απέχουν το πολύ 1 βαθμολογίκα απο την ταινία που εξετάζουμε.<br>\n",
        "Βαθμολογούμε με 2* τις ταινίες που απέχουν το πολύ 1.7 βαθμολογίκα απο την ταινία που εξετάζουμε.<br>\n",
        "Βαθμολογούμε με 1* τις ταινίες που απέχουν περισσότερα απο 1.7 βαθμολογικά  απο την ταινία που εξετάζουμε.<br>\n"
      ]
    },
    {
      "cell_type": "markdown",
      "metadata": {
        "id": "vkyT7850SbTR",
        "colab_type": "text"
      },
      "source": [
        "**Παρακάτω θα εξετάσουμε την ορθή λειτουγία του κώδικα prolog partA.<br>**"
      ]
    },
    {
      "cell_type": "code",
      "metadata": {
        "id": "KOppGTcxnOi_",
        "colab_type": "code",
        "colab": {}
      },
      "source": [
        "def tester_genres(movie): \n",
        "  #most common by year\n",
        "  ans5 = []\n",
        "  for soln in prolog.query(\"genre_five_stars('\"+movie+\"',X)\"):\n",
        "    if soln[\"X\"] not in ans5: #duplicates\n",
        "      ans5.append(soln[\"X\"])\n",
        "\n",
        "  #less common than the most common\n",
        "  ans4 = []\n",
        "  for soln in prolog.query(\"genre_four_stars('\"+movie+\"',X)\"): \n",
        "    if (soln[\"X\"] not in ans4) and (soln[\"X\"] not in ans5):\n",
        "        ans4.append(soln[\"X\"])\n",
        "\n",
        "\n",
        "  ans3 = []\n",
        "  for soln in prolog.query(\"genre_three_stars('\"+movie+\"',X)\"): \n",
        "    if (soln[\"X\"] not in ans3) and (soln[\"X\"] not in ans4) and (soln[\"X\"] not in ans5):\n",
        "        ans3.append(soln[\"X\"])\n",
        "\n",
        "  ans2 = []\n",
        "  for soln in prolog.query(\"genre_two_stars('\"+movie+\"',X)\"): \n",
        "    if (soln[\"X\"] not in ans2) and (soln[\"X\"] not in ans3) and (soln[\"X\"] not in ans4) and (soln[\"X\"] not in ans5):\n",
        "        ans2.append(soln[\"X\"])\n",
        "\n",
        "  ans1 = [] \n",
        "  for i in range(0,5042):\n",
        "    if (m[i] not in ans5) and (m[i] not in ans4) and (m[i] not in ans3) and (m[i] not in ans2) and m[i]!=movie:\n",
        "      ans1.append(m[i])\n",
        " \n",
        "  return list(set(ans5))[:10],list(set(ans4))[:10],list(set(ans3))[:10],list(set(ans2))[:10],list(set(ans1))[:10]\n",
        "  "
      ],
      "execution_count": 0,
      "outputs": []
    },
    {
      "cell_type": "code",
      "metadata": {
        "id": "EIZjq18s4hUF",
        "colab_type": "code",
        "outputId": "89e545f2-e9c3-4f6f-861f-a98e3934198e",
        "colab": {
          "base_uri": "https://localhost:8080/",
          "height": 561
        }
      },
      "source": [
        "tester_genres('The Vatican Tapes')"
      ],
      "execution_count": 0,
      "outputs": [
        {
          "output_type": "execute_result",
          "data": {
            "text/plain": [
              "(['The Reef',\n",
              "  'Sanctuary; Quite a Conundrum',\n",
              "  'Green Room',\n",
              "  '28 Days Later...',\n",
              "  'Something Wicked',\n",
              "  'Anacondas: The Hunt for the Blood Orchid',\n",
              "  'The Possession',\n",
              "  'Dawn of the Dead',\n",
              "  'The Rage: Carrie 2',\n",
              "  'White Noise 2: The Light'],\n",
              " [],\n",
              " ['Brother',\n",
              "  'Coriolanus',\n",
              "  'The Exorcist',\n",
              "  'Deep Rising',\n",
              "  'Narc',\n",
              "  'Monsters',\n",
              "  'Elektra',\n",
              "  'Disturbia',\n",
              "  'The Abyss',\n",
              "  'Mission: Impossible III'],\n",
              " [],\n",
              " ['A Good Year',\n",
              "  'The Last Sin Eater',\n",
              "  'The Santa Clause',\n",
              "  'Drive',\n",
              "  '47 Ronin',\n",
              "  'The Apostle',\n",
              "  'The Magic Sword: Quest for Camelot',\n",
              "  'The Great Gatsby',\n",
              "  'Little Fockers',\n",
              "  'Modern Problems'])"
            ]
          },
          "metadata": {
            "tags": []
          },
          "execution_count": 13
        }
      ]
    },
    {
      "cell_type": "code",
      "metadata": {
        "id": "ojLXfEU0rs4x",
        "colab_type": "code",
        "outputId": "873a7aa0-0c19-4639-d3fe-fdd3abbf02ad",
        "colab": {
          "base_uri": "https://localhost:8080/",
          "height": 833
        }
      },
      "source": [
        "tester_genres('Harry Potter and the Half-Blood Prince')"
      ],
      "execution_count": 0,
      "outputs": [
        {
          "output_type": "execute_result",
          "data": {
            "text/plain": [
              "(['Anastasia',\n",
              "  'Return to Oz',\n",
              "  'Harry Potter and the Chamber of Secrets',\n",
              "  'Harry Potter and the Prisoner of Azkaban',\n",
              "  'Harry Potter and the Order of the Phoenix',\n",
              "  'Men in Black II',\n",
              "  'Scooby-Doo 2: Monsters Unleashed',\n",
              "  'Harry Potter and the Goblet of Fire'],\n",
              " ['Muppets from Space',\n",
              "  'Mirror Mirror',\n",
              "  'Looney Tunes: Back in Action',\n",
              "  'Petes Dragon',\n",
              "  'Babe: Pig in the City',\n",
              "  'Bridge to Terabithia',\n",
              "  'Journey 2: The Mysterious Island',\n",
              "  'The Cat in the Hat',\n",
              "  'The Chronicles of Narnia: The Voyage of the Dawn Treader',\n",
              "  'Percy Jackson: Sea of Monsters'],\n",
              " ['Silent Hill',\n",
              "  'Red Riding Hood',\n",
              "  'Bubba Ho-Tep',\n",
              "  'Sky Captain and the World of Tomorrow',\n",
              "  'Into the Woods',\n",
              "  'Hotel Transylvania',\n",
              "  'Mars Needs Moms',\n",
              "  'The Muppet Movie',\n",
              "  'Snow White and the Seven Dwarfs',\n",
              "  'Are We There Yet?'],\n",
              " ['DOA: Dead or Alive',\n",
              "  'Nothing to Lose',\n",
              "  'Interview with the Vampire: The Vampire Chronicles',\n",
              "  'Watchmen',\n",
              "  'Trollhunter',\n",
              "  'Orphan',\n",
              "  'The Art of War',\n",
              "  'Nebraska',\n",
              "  'Cargo',\n",
              "  'Green Lantern'],\n",
              " ['The Last Station',\n",
              "  'Perfect Cowboy',\n",
              "  '8 Mile',\n",
              "  'Elling',\n",
              "  'The Californians',\n",
              "  'The Wolf of Wall Street',\n",
              "  'Julie & Julia',\n",
              "  'Unleashed',\n",
              "  'Rudderless',\n",
              "  'The Virginity Hit'])"
            ]
          },
          "metadata": {
            "tags": []
          },
          "execution_count": 10
        }
      ]
    },
    {
      "cell_type": "code",
      "metadata": {
        "id": "PYCaMWVgr8KX",
        "colab_type": "code",
        "colab": {}
      },
      "source": [
        "def tester_keywords(movie): \n",
        "  #most common by year\n",
        "  ans5 = []\n",
        "  for soln in prolog.query(\"keyword_five_stars('\"+movie+\"',X)\"):\n",
        "    if soln[\"X\"] not in ans5: #duplicates\n",
        "      ans5.append(soln[\"X\"])\n",
        "\n",
        "  #less common than the most common\n",
        "  ans4 = []\n",
        "  for soln in prolog.query(\"keyword_four_stars('\"+movie+\"',X)\"): \n",
        "    if (soln[\"X\"] not in ans4) and (soln[\"X\"] not in ans5):\n",
        "        ans4.append(soln[\"X\"])\n",
        "\n",
        "\n",
        "  ans3 = []\n",
        "  for soln in prolog.query(\"keyword_three_stars('\"+movie+\"',X)\"): \n",
        "    if (soln[\"X\"] not in ans3) and (soln[\"X\"] not in ans4) and (soln[\"X\"] not in ans5):\n",
        "        ans3.append(soln[\"X\"])\n",
        "\n",
        "  ans2 = []\n",
        "  for soln in prolog.query(\"keyword_two_stars('\"+movie+\"',X)\"): \n",
        "    if (soln[\"X\"] not in ans2) and (soln[\"X\"] not in ans3) and (soln[\"X\"] not in ans4) and (soln[\"X\"] not in ans5):\n",
        "        ans2.append(soln[\"X\"])\n",
        "\n",
        "  ans1 = [] \n",
        "  for i in range(0,5042):\n",
        "    if (m[i] not in ans5) and (m[i] not in ans4) and (m[i] not in ans3) and (m[i] not in ans2) and m[i]!=movie:\n",
        "      ans1.append(m[i])\n",
        " \n",
        "  return list(set(ans5))[:10],list(set(ans4))[:10],list(set(ans3))[:10],list(set(ans2))[:10],list(set(ans1))[:10]\n",
        "  "
      ],
      "execution_count": 0,
      "outputs": []
    },
    {
      "cell_type": "code",
      "metadata": {
        "id": "QJvy4I4psNZ-",
        "colab_type": "code",
        "outputId": "62b5fa2c-f77c-4cfc-fad1-3feaa77eb50e",
        "colab": {
          "base_uri": "https://localhost:8080/",
          "height": 408
        }
      },
      "source": [
        "tester_keywords('Harry Potter and the Half-Blood Prince')"
      ],
      "execution_count": 0,
      "outputs": [
        {
          "output_type": "execute_result",
          "data": {
            "text/plain": [
              "([],\n",
              " [],\n",
              " [],\n",
              " ['Anacondas: The Hunt for the Blood Orchid',\n",
              "  'Punch-Drunk Love',\n",
              "  'All or Nothing',\n",
              "  'Raymond Did It',\n",
              "  'Dear John',\n",
              "  'Red Riding Hood',\n",
              "  'Julie & Julia',\n",
              "  'Jab Tak Hai Jaan',\n",
              "  'The Pirate',\n",
              "  'Away We Go'],\n",
              " ['The Last Station',\n",
              "  'Perfect Cowboy',\n",
              "  '8 Mile',\n",
              "  'Silent Hill',\n",
              "  'Orphan',\n",
              "  'Journey 2: The Mysterious Island',\n",
              "  'Elling',\n",
              "  'The Art of War',\n",
              "  'The Californians',\n",
              "  'The Wolf of Wall Street'])"
            ]
          },
          "metadata": {
            "tags": []
          },
          "execution_count": 12
        }
      ]
    },
    {
      "cell_type": "markdown",
      "metadata": {
        "id": "kb1qwKNrsaTV",
        "colab_type": "text"
      },
      "source": [
        "**Αναμενομενο αποτελεσμα καθώς ο πληθάριθμος των keyword ειναι πολυ μεγαλος.**"
      ]
    },
    {
      "cell_type": "code",
      "metadata": {
        "id": "ob8AcA6-ss1V",
        "colab_type": "code",
        "colab": {}
      },
      "source": [
        "def tester_year(movie): \n",
        "  #most common by year\n",
        "  ans5 = []\n",
        "  for soln in prolog.query(\"year_five_stars('\"+movie+\"',X)\"):\n",
        "    if soln[\"X\"] not in ans5:\n",
        "      ans5.append(soln[\"X\"])\n",
        "  #less common than the most common\n",
        "  ans4 = []\n",
        "  for soln in prolog.query(\"year_four_stars('\"+movie+\"',X)\"):\n",
        "    if (soln[\"X\"] not in ans4) and (soln[\"X\"] not in ans5):\n",
        "        ans4.append(soln[\"X\"])\n",
        "\n",
        "  ans3 = []\n",
        "  for soln in prolog.query(\"year_three_stars('\"+movie+\"',X)\"):\n",
        "    if (soln[\"X\"] not in ans3) and (soln[\"X\"] not in ans4) and (soln[\"X\"] not in ans5):\n",
        "        ans3.append(soln[\"X\"])\n",
        "\n",
        "  ans2 = []\n",
        "  for soln in prolog.query(\"year_two_stars('\"+movie+\"',X)\"):\n",
        "    if (soln[\"X\"] not in ans2) and (soln[\"X\"] not in ans3) and (soln[\"X\"] not in ans4) and (soln[\"X\"] not in ans5):\n",
        "        ans2.append(soln[\"X\"])\n",
        "  \n",
        "  #least common\n",
        "  ans1 = [] \n",
        "  for i in range(0,5042):\n",
        "    if (m[i] not in ans5) and (m[i] not in ans4) and (m[i] not in ans3) and (m[i] not in ans2) and m[i]!=movie:\n",
        "      ans1.append(m[i])\n",
        "\n",
        "  return list(set(ans5))[:10],list(set(ans4))[:10],list(set(ans3))[:10],list(set(ans2))[:10],list(set(ans1))[:10]"
      ],
      "execution_count": 0,
      "outputs": []
    },
    {
      "cell_type": "code",
      "metadata": {
        "id": "uWhf647qtgVz",
        "colab_type": "code",
        "outputId": "28353a66-2fbb-4196-daf3-0857af68729e",
        "colab": {
          "base_uri": "https://localhost:8080/",
          "height": 867
        }
      },
      "source": [
        "tester_year('Harry Potter and the Half-Blood Prince')"
      ],
      "execution_count": 0,
      "outputs": [
        {
          "output_type": "execute_result",
          "data": {
            "text/plain": [
              "(['The Last Station',\n",
              "  'The Cottage',\n",
              "  'Watchmen',\n",
              "  'Orphan',\n",
              "  'Trollhunter',\n",
              "  'Cargo',\n",
              "  'Julie & Julia',\n",
              "  'Journey to Saturn',\n",
              "  'The Virginity Hit',\n",
              "  'Due Date'],\n",
              " ['Perfect Cowboy',\n",
              "  'Silent Hill',\n",
              "  'The Californians',\n",
              "  'Journey 2: The Mysterious Island',\n",
              "  'The Wolf of Wall Street',\n",
              "  'Rudderless',\n",
              "  'Unleashed',\n",
              "  'Crazy, Stupid, Love.',\n",
              "  'Hostage',\n",
              "  'Fugly'],\n",
              " ['Punch-Drunk Love',\n",
              "  'Muppets from Space',\n",
              "  '8 Mile',\n",
              "  'About Schmidt',\n",
              "  'Blue Streak',\n",
              "  'Elling',\n",
              "  'Shattered Glass',\n",
              "  'Frida',\n",
              "  'Tea with Mussolini',\n",
              "  'The Art of War'],\n",
              " ['Interview with the Vampire: The Vampire Chronicles',\n",
              "  'Nothing to Lose',\n",
              "  'Snake Eyes',\n",
              "  'When Harry Met Sally...',\n",
              "  'Woo',\n",
              "  'Batman & Robin',\n",
              "  'Hudson Hawk',\n",
              "  'Bullets Over Broadway',\n",
              "  'Steel',\n",
              "  'Outbreak'],\n",
              " ['Twins',\n",
              "  'Escape from Alcatraz',\n",
              "  'The Pirate',\n",
              "  'The Postman Always Rings Twice',\n",
              "  'The Last Temptation of Christ',\n",
              "  'National Lampoons Vacation',\n",
              "  'Creepshow 2',\n",
              "  'Tom Jones',\n",
              "  'Sleeper',\n",
              "  'Topaz'])"
            ]
          },
          "metadata": {
            "tags": []
          },
          "execution_count": 14
        }
      ]
    },
    {
      "cell_type": "code",
      "metadata": {
        "id": "Th8VGU19tqtW",
        "colab_type": "code",
        "colab": {}
      },
      "source": [
        "def tester_duration(movie): \n",
        "  #most common by year\n",
        "  ans5 = []\n",
        "  for soln in prolog.query(\"duration_five_stars('\"+movie+\"',X)\"):\n",
        "    if soln[\"X\"] not in ans5:\n",
        "      ans5.append(soln[\"X\"])\n",
        "\n",
        "  ans3 = []\n",
        "  for soln in prolog.query(\"duration_three_stars('\"+movie+\"',X)\"):\n",
        "    if (soln[\"X\"] not in ans3)  and (soln[\"X\"] not in ans5):\n",
        "        ans3.append(soln[\"X\"])\n",
        "\n",
        "  \n",
        "  #least common\n",
        "  ans1 = [] \n",
        "  for i in range(0,5042):\n",
        "    if (m[i] not in ans5) and (m[i] not in ans3) and m[i]!=movie:\n",
        "      ans1.append(m[i])\n",
        "\n",
        "  return list(set(ans5))[:10],list(set(ans3))[:10],list(set(ans1))[:10]"
      ],
      "execution_count": 0,
      "outputs": []
    },
    {
      "cell_type": "code",
      "metadata": {
        "id": "D1kyg2KIt6Vt",
        "colab_type": "code",
        "outputId": "266f2c05-8998-4ced-a505-ecb84b5bf24d",
        "colab": {
          "base_uri": "https://localhost:8080/",
          "height": 527
        }
      },
      "source": [
        "tester_duration('Harry Potter and the Half-Blood Prince')"
      ],
      "execution_count": 0,
      "outputs": [
        {
          "output_type": "execute_result",
          "data": {
            "text/plain": [
              "(['Interview with the Vampire: The Vampire Chronicles',\n",
              "  'About Schmidt',\n",
              "  'Orphan',\n",
              "  'Silent Hill',\n",
              "  'Frida',\n",
              "  'Green Lantern',\n",
              "  'Ta Ra Rum Pum',\n",
              "  'Julie & Julia',\n",
              "  'Jab Tak Hai Jaan',\n",
              "  'Red Tails'],\n",
              " ['The Last Station',\n",
              "  'Perfect Cowboy',\n",
              "  '8 Mile',\n",
              "  'The Art of War',\n",
              "  'Rudderless',\n",
              "  'Unleashed',\n",
              "  'Crazy, Stupid, Love.',\n",
              "  'Hostage',\n",
              "  'Becoming Jane',\n",
              "  'The Railway Man'],\n",
              " ['Elling',\n",
              "  'The Californians',\n",
              "  'Journey 2: The Mysterious Island',\n",
              "  'The Wolf of Wall Street',\n",
              "  'The Pirate',\n",
              "  'The Virginity Hit',\n",
              "  'Snake Eyes',\n",
              "  'Big Daddy',\n",
              "  'Osmosis Jones',\n",
              "  'National Lampoons Vacation'])"
            ]
          },
          "metadata": {
            "tags": []
          },
          "execution_count": 18
        }
      ]
    },
    {
      "cell_type": "code",
      "metadata": {
        "id": "a0_oleeDucoG",
        "colab_type": "code",
        "colab": {}
      },
      "source": [
        "def tester_score(movie): \n",
        "  #most common by year\n",
        "  ans5 = []\n",
        "  for soln in prolog.query(\"score_five_stars('\"+movie+\"',X)\"):\n",
        "    if soln[\"X\"] not in ans5:\n",
        "      ans5.append(soln[\"X\"])\n",
        "  #less common than the most common\n",
        "  ans4 = []\n",
        "  for soln in prolog.query(\"score_four_stars('\"+movie+\"',X)\"):\n",
        "    if (soln[\"X\"] not in ans4) and (soln[\"X\"] not in ans5):\n",
        "        ans4.append(soln[\"X\"])\n",
        "\n",
        "  ans3 = []\n",
        "  for soln in prolog.query(\"score_three_stars('\"+movie+\"',X)\"):\n",
        "    if (soln[\"X\"] not in ans3) and (soln[\"X\"] not in ans4) and (soln[\"X\"] not in ans5):\n",
        "        ans3.append(soln[\"X\"])\n",
        "\n",
        "  ans2 = []\n",
        "  for soln in prolog.query(\"score_two_stars('\"+movie+\"',X)\"):\n",
        "    if (soln[\"X\"] not in ans2) and (soln[\"X\"] not in ans3) and (soln[\"X\"] not in ans4) and (soln[\"X\"] not in ans5):\n",
        "        ans2.append(soln[\"X\"])\n",
        "  \n",
        "  #least common\n",
        "  ans1 = [] \n",
        "  for i in range(0,5042):\n",
        "    if (m[i] not in ans5) and (m[i] not in ans4) and (m[i] not in ans3) and (m[i] not in ans2) and m[i]!=movie:\n",
        "      ans1.append(m[i])\n",
        "\n",
        "  return list(set(ans5))[:10],list(set(ans4))[:10],list(set(ans3))[:10],list(set(ans2))[:10],list(set(ans1))[:10]"
      ],
      "execution_count": 0,
      "outputs": []
    },
    {
      "cell_type": "code",
      "metadata": {
        "id": "uSuvUWhNuvho",
        "colab_type": "code",
        "outputId": "d0244ec6-7be7-4f28-8d94-8791b1a312b9",
        "colab": {
          "base_uri": "https://localhost:8080/",
          "height": 867
        }
      },
      "source": [
        "tester_score('Harry Potter and the Half-Blood Prince')"
      ],
      "execution_count": 0,
      "outputs": [
        {
          "output_type": "execute_result",
          "data": {
            "text/plain": [
              "(['Interview with the Vampire: The Vampire Chronicles',\n",
              "  'Elling',\n",
              "  'Escape from Alcatraz',\n",
              "  'Frida',\n",
              "  'Rudderless',\n",
              "  'Secondhand Lions',\n",
              "  'Crazy, Stupid, Love.',\n",
              "  'The Judge',\n",
              "  'When Harry Met Sally...',\n",
              "  'The Last Temptation of Christ'],\n",
              " ['Punch-Drunk Love',\n",
              "  'The Last Station',\n",
              "  'Perfect Cowboy',\n",
              "  '8 Mile',\n",
              "  'About Schmidt',\n",
              "  'Orphan',\n",
              "  'Trollhunter',\n",
              "  'Shattered Glass',\n",
              "  'Watchmen',\n",
              "  'Nebraska'],\n",
              " ['Nothing to Lose',\n",
              "  'Last Vegas',\n",
              "  'Silent Hill',\n",
              "  'Think Like a Man',\n",
              "  'Tea with Mussolini',\n",
              "  'The Wolf of Wall Street',\n",
              "  'Jab Tak Hai Jaan',\n",
              "  'I Heart Huckabees',\n",
              "  'The Way of the Gun',\n",
              "  'The Postman Always Rings Twice'],\n",
              " ['Muppets from Space',\n",
              "  'Twins',\n",
              "  'The Cottage',\n",
              "  'Blue Streak',\n",
              "  'Cargo',\n",
              "  'The Torture Chamber of Dr. Sadism',\n",
              "  'Romance & Cigarettes',\n",
              "  'Red Tails',\n",
              "  'Percy Jackson: Sea of Monsters',\n",
              "  'Sky Captain and the World of Tomorrow'],\n",
              " ['DOA: Dead or Alive',\n",
              "  'Mirror Mirror',\n",
              "  'The Californians',\n",
              "  'Journey 2: The Mysterious Island',\n",
              "  'Red Riding Hood',\n",
              "  'The Art of War',\n",
              "  'The Face of an Angel',\n",
              "  'Outside Bet',\n",
              "  'Green Lantern',\n",
              "  'Ta Ra Rum Pum'])"
            ]
          },
          "metadata": {
            "tags": []
          },
          "execution_count": 22
        }
      ]
    },
    {
      "cell_type": "code",
      "metadata": {
        "id": "y2rNSyyDvMXU",
        "colab_type": "code",
        "colab": {}
      },
      "source": [
        "def tester_director(movie): \n",
        "  #most common by year\n",
        "  ans5 = []\n",
        "  for soln in prolog.query(\"film_with_same_director('\"+movie+\"',X)\"):\n",
        "    if soln[\"X\"] not in ans5:\n",
        "      ans5.append(soln[\"X\"])\n",
        "\n",
        "  \n",
        "  #least common\n",
        "  ans1 = [] \n",
        "  for i in range(0,5042):\n",
        "    if (m[i] not in ans5) and m[i]!=movie:\n",
        "      ans1.append(m[i])\n",
        "\n",
        "  return list(set(ans5))[:10],list(set(ans1))[:10]"
      ],
      "execution_count": 0,
      "outputs": []
    },
    {
      "cell_type": "code",
      "metadata": {
        "id": "_gvJoBcVvch_",
        "colab_type": "code",
        "outputId": "08474b95-3d22-4236-97e9-61c302c553f8",
        "colab": {
          "base_uri": "https://localhost:8080/",
          "height": 204
        }
      },
      "source": [
        "tester_director('Harry Potter and the Half-Blood Prince')"
      ],
      "execution_count": 0,
      "outputs": [
        {
          "output_type": "execute_result",
          "data": {
            "text/plain": [
              "(['The Legend of Tarzan', 'Harry Potter and the Order of the Phoenix'],\n",
              " ['The Last Station',\n",
              "  'Perfect Cowboy',\n",
              "  '8 Mile',\n",
              "  'Silent Hill',\n",
              "  'Orphan',\n",
              "  'Journey 2: The Mysterious Island',\n",
              "  'Elling',\n",
              "  'The Art of War',\n",
              "  'The Californians',\n",
              "  'The Wolf of Wall Street'])"
            ]
          },
          "metadata": {
            "tags": []
          },
          "execution_count": 24
        }
      ]
    },
    {
      "cell_type": "code",
      "metadata": {
        "id": "05PwMDe0wBoQ",
        "colab_type": "code",
        "colab": {}
      },
      "source": [
        "def tester_language(movie): \n",
        "  #most common by year\n",
        "  ans5 = []\n",
        "  for soln in prolog.query(\"film_with_same_language('\"+movie+\"',X)\"):\n",
        "    if soln[\"X\"] not in ans5:\n",
        "      ans5.append(soln[\"X\"])\n",
        "\n",
        "  \n",
        "  #least common\n",
        "  ans1 = [] \n",
        "  for i in range(0,5042):\n",
        "    if (m[i] not in ans5) and m[i]!=movie:\n",
        "      ans1.append(m[i])\n",
        "\n",
        "  return list(set(ans5))[:10],list(set(ans1))[:10]"
      ],
      "execution_count": 0,
      "outputs": []
    },
    {
      "cell_type": "code",
      "metadata": {
        "id": "Fb8c5ZWBwUPk",
        "colab_type": "code",
        "outputId": "1f277af0-6636-4a37-b69e-2f8930137442",
        "colab": {
          "base_uri": "https://localhost:8080/",
          "height": 357
        }
      },
      "source": [
        "tester_language('Harry Potter and the Half-Blood Prince')"
      ],
      "execution_count": 0,
      "outputs": [
        {
          "output_type": "execute_result",
          "data": {
            "text/plain": [
              "(['The Last Station',\n",
              "  'Perfect Cowboy',\n",
              "  '8 Mile',\n",
              "  'Silent Hill',\n",
              "  'Orphan',\n",
              "  'Journey 2: The Mysterious Island',\n",
              "  'The Californians',\n",
              "  'The Art of War',\n",
              "  'To Be Frank, Sinatra at 100',\n",
              "  'Julie & Julia'],\n",
              " ['Oceans',\n",
              "  'Loves Abiding Joy',\n",
              "  'Elling',\n",
              "  'A Fistful of Dollars',\n",
              "  'Trollhunter',\n",
              "  'Cargo',\n",
              "  'Monsoon Wedding',\n",
              "  'Ta Ra Rum Pum',\n",
              "  'Del 1 - Män som hatar kvinnor            ',\n",
              "  'Wasabi'])"
            ]
          },
          "metadata": {
            "tags": []
          },
          "execution_count": 26
        }
      ]
    },
    {
      "cell_type": "code",
      "metadata": {
        "id": "zmHlKBVywcNn",
        "colab_type": "code",
        "colab": {}
      },
      "source": [
        "def tester_color(movie): \n",
        "  #most common by year\n",
        "  ans5 = []\n",
        "  for soln in prolog.query(\"film_with_same_color('\"+movie+\"',X)\"):\n",
        "    if soln[\"X\"] not in ans5:\n",
        "      ans5.append(soln[\"X\"])\n",
        "\n",
        "  \n",
        "  #least common\n",
        "  ans1 = [] \n",
        "  for i in range(0,5042):\n",
        "    if (m[i] not in ans5) and m[i]!=movie:\n",
        "      ans1.append(m[i])\n",
        "\n",
        "  return list(set(ans5))[:10],list(set(ans1))[:10]"
      ],
      "execution_count": 0,
      "outputs": []
    },
    {
      "cell_type": "code",
      "metadata": {
        "id": "vGJQ4LPTwi5n",
        "colab_type": "code",
        "outputId": "9f2cb6c4-7fa7-438d-f6ee-98613589621b",
        "colab": {
          "base_uri": "https://localhost:8080/",
          "height": 357
        }
      },
      "source": [
        "tester_color('Harry Potter and the Half-Blood Prince')"
      ],
      "execution_count": 0,
      "outputs": [
        {
          "output_type": "execute_result",
          "data": {
            "text/plain": [
              "(['The Last Station',\n",
              "  'Perfect Cowboy',\n",
              "  '8 Mile',\n",
              "  'Elling',\n",
              "  'Orphan',\n",
              "  'Journey 2: The Mysterious Island',\n",
              "  'Silent Hill',\n",
              "  'The Art of War',\n",
              "  'The Californians',\n",
              "  'To Be Frank, Sinatra at 100'],\n",
              " ['Aroused',\n",
              "  'Midnight Cabaret',\n",
              "  'Inside Deep Throat',\n",
              "  'Love Me Tender',\n",
              "  'She Done Him Wrong',\n",
              "  'Dear John',\n",
              "  'Frida',\n",
              "  'Nebraska',\n",
              "  'A Streetcar Named Desire',\n",
              "  'What the #$*! Do We (K)now!?'])"
            ]
          },
          "metadata": {
            "tags": []
          },
          "execution_count": 28
        }
      ]
    },
    {
      "cell_type": "code",
      "metadata": {
        "id": "0Lr0drD-wn9w",
        "colab_type": "code",
        "colab": {}
      },
      "source": [
        "def tester_country(movie): \n",
        "  #most common by year\n",
        "  ans5 = []\n",
        "  for soln in prolog.query(\"film_with_same_country('\"+movie+\"',X)\"):\n",
        "    if soln[\"X\"] not in ans5:\n",
        "      ans5.append(soln[\"X\"])\n",
        "\n",
        "  \n",
        "  #least common\n",
        "  ans1 = [] \n",
        "  for i in range(0,5042):\n",
        "    if (m[i] not in ans5) and m[i]!=movie:\n",
        "      ans1.append(m[i])\n",
        "\n",
        "  return list(set(ans5))[:10],list(set(ans1))[:10]"
      ],
      "execution_count": 0,
      "outputs": []
    },
    {
      "cell_type": "code",
      "metadata": {
        "id": "xHZhqysZwsyp",
        "colab_type": "code",
        "outputId": "e8c019c1-774f-4abe-eb52-586002bf284d",
        "colab": {
          "base_uri": "https://localhost:8080/",
          "height": 357
        }
      },
      "source": [
        "tester_country('Harry Potter and the Half-Blood Prince')"
      ],
      "execution_count": 0,
      "outputs": [
        {
          "output_type": "execute_result",
          "data": {
            "text/plain": [
              "(['The Cottage',\n",
              "  'The Face of an Angel',\n",
              "  'Outside Bet',\n",
              "  'The Last Days on Mars',\n",
              "  'Eddie the Eagle',\n",
              "  'Becoming Jane',\n",
              "  'Tom Jones',\n",
              "  'The Inbetweeners            ',\n",
              "  'Unforgotten            ',\n",
              "  'The Boy in the Striped Pajamas'],\n",
              " ['The Last Station',\n",
              "  'Perfect Cowboy',\n",
              "  '8 Mile',\n",
              "  'Silent Hill',\n",
              "  'Orphan',\n",
              "  'Journey 2: The Mysterious Island',\n",
              "  'Elling',\n",
              "  'The Art of War',\n",
              "  'The Californians',\n",
              "  'The Wolf of Wall Street'])"
            ]
          },
          "metadata": {
            "tags": []
          },
          "execution_count": 30
        }
      ]
    },
    {
      "cell_type": "code",
      "metadata": {
        "id": "jrXsFjw2wvlK",
        "colab_type": "code",
        "colab": {}
      },
      "source": [
        "def tester_actor(movie): \n",
        "  #most common by year\n",
        "  ans5 = []\n",
        "  for soln in prolog.query(\"three_actors('\"+movie+\"',X)\"):\n",
        "    if soln[\"X\"] not in ans5:\n",
        "      ans5.append(soln[\"X\"])\n",
        "  #less common than the most common\n",
        "  ans4 = []\n",
        "  for soln in prolog.query(\"two_actors('\"+movie+\"',X)\"):\n",
        "    if (soln[\"X\"] not in ans4) and (soln[\"X\"] not in ans5):\n",
        "        ans4.append(soln[\"X\"])\n",
        "\n",
        "  ans3 = []\n",
        "  for soln in prolog.query(\"one_actors('\"+movie+\"',X)\"):\n",
        "    if (soln[\"X\"] not in ans3) and (soln[\"X\"] not in ans4) and (soln[\"X\"] not in ans5):\n",
        "        ans3.append(soln[\"X\"])\n",
        "\n",
        "\n",
        "  #least common\n",
        "  ans1 = [] \n",
        "  for i in range(0,5042):\n",
        "    if (m[i] not in ans5) and (m[i] not in ans4) and (m[i] not in ans3) and m[i]!=movie:\n",
        "      ans1.append(m[i])\n",
        "\n",
        "  return list(set(ans5))[:10],list(set(ans4))[:10],list(set(ans3))[:10],list(set(ans1))[:10]"
      ],
      "execution_count": 0,
      "outputs": []
    },
    {
      "cell_type": "code",
      "metadata": {
        "id": "9sUQv6PPyaTk",
        "colab_type": "code",
        "outputId": "7bc23f96-1f39-4824-f461-ad0507103c07",
        "colab": {
          "base_uri": "https://localhost:8080/",
          "height": 374
        }
      },
      "source": [
        "tester_actor('Harry Potter and the Half-Blood Prince')"
      ],
      "execution_count": 0,
      "outputs": [
        {
          "output_type": "execute_result",
          "data": {
            "text/plain": [
              "([],\n",
              " ['Harry Potter and the Goblet of Fire'],\n",
              " ['Sense and Sensibility',\n",
              "  'Galaxy Quest',\n",
              "  'Harry Potter and the Prisoner of Azkaban',\n",
              "  'Harry Potter and the Order of the Phoenix',\n",
              "  'Michael Collins',\n",
              "  'Quigley Down Under',\n",
              "  'Bottle Shock',\n",
              "  'Die Hard',\n",
              "  'Robin Hood: Prince of Thieves'],\n",
              " ['The Last Station',\n",
              "  'Perfect Cowboy',\n",
              "  '8 Mile',\n",
              "  'Silent Hill',\n",
              "  'Orphan',\n",
              "  'Journey 2: The Mysterious Island',\n",
              "  'Elling',\n",
              "  'The Art of War',\n",
              "  'The Californians',\n",
              "  'The Wolf of Wall Street'])"
            ]
          },
          "metadata": {
            "tags": []
          },
          "execution_count": 35
        }
      ]
    },
    {
      "cell_type": "markdown",
      "metadata": {
        "colab_type": "text",
        "id": "gpMVPz-3K07i"
      },
      "source": [
        "# **2ο Μέρος: Recommendation System με βάση μόνο τα χαρακτηριστικά των ταινιών.**\n",
        "\n",
        "Στο σημείο αυτό με βάση τους κανόνες που κατασκευάστηκαν στο Μέρος 1 θα κατασκευαστούν κατηγορήματα για την ομοιότητα ταινιών. Παρακάτω δίνεται ένα μικρό παράδειγμα ενός κανόνα και πώς αυτός θα μπορούσε να γραφτεί μέσω του Pyswip. Επίσης όπως αναφέρεται και σε σχόλιο παραπάνω θα μπορεί να γραφτεί και μια βάση δεδομένων με τους κανόνες και να γίνει απευθείας consult.\n",
        "\n",
        "Στο παρακάτω παράδειγμα το 5 και το 4 εκφράζουν την ομοιότητα των ταινιών π.χ. οι ταινίες που παράγονται μέσω του find_similar_5 είναι πιο όμοιες από αυτές που παράγονται μέσω του find_similar_4. \n"
      ]
    },
    {
      "cell_type": "markdown",
      "metadata": {
        "id": "rEuE5JZZDjM3",
        "colab_type": "text"
      },
      "source": [
        "Αρχικά γράφω κάποιους μονο-παραμετρικούς recommenders, για να δώ πως εξελίσονται τα χαρακτηριστικά με βάση την βαθμολογία, πχ βλέπω ότι λίγες ταινίες βαθμολογούνται με keywords με βαθμολογία ίση με 5, και αυτο συμβαίνει επειδή ο πληθάριθμος των keywords ειναι μεγάλος, ας σημείωθεί ότι ένα πιο advanced system θα ομαδοποιούσαι τις keywords και θα έκανε μελετη και βαθμολογιση με βάση την ομαδοποίηση, γράφω ένα σχετικό παράδειγμα σε prolog αλλά για οικονομία χρόνου δεν παίζω παραπάνω με αυτό, μία άλλη εναλακτικική θα ήταν να βαθμολογώ τα keywords με μεγαλύτερο βαθμολογικό εύρος.\n",
        "Εν πάσει περιπτώση από αυτες τις μονοπαραμετρικες μελέτες βλέπουμε αυτές τις κατανομές και έτσι φτίαχνουμε πιο λογικά recommenders πχ δεν θα είχε νόημα ενας recommender που θα απαιτούσε 5 αστέρια στο keyword, αλλά θα είχε νόημα ενας recommender με 2 αστέρια.\n",
        "Αυτη η μελέτη έγινε μελετόντας τον πληθάριθμό χωρις να τον περιόριζω στα 10 που λέει η άσκηση. Επίσης, αυτή η διαδικασία βοηθά στο debuggin της prolog"
      ]
    },
    {
      "cell_type": "markdown",
      "metadata": {
        "id": "JLosMcB8WWCc",
        "colab_type": "text"
      },
      "source": [
        "Γενικά αυτό το ζητούμενο μπορώ να το υλοποιήσω και με prolog και με python."
      ]
    },
    {
      "cell_type": "code",
      "metadata": {
        "id": "uwlKXvXGuBo1",
        "colab_type": "code",
        "colab": {}
      },
      "source": [
        "prolog.consult(\"/gdrive/My Drive/Colab/Second AI/prologCode/partB.pl\")"
      ],
      "execution_count": 0,
      "outputs": []
    },
    {
      "cell_type": "markdown",
      "metadata": {
        "id": "IKnHah_ExLde",
        "colab_type": "text"
      },
      "source": [
        "**Εδω αξίζει να σημειωθεί ότι όλοι οι recommenders του 2ου ερωτήματος χηρσιμεύουν για το cold start του user, όταν δηλαδή ο χρήστησ πρωτομπαίνει στην πλατφόρμα μας και δεν έχουμε κάποια δεδομένα για ποιές ταινίες του αρέσουν**"
      ]
    },
    {
      "cell_type": "markdown",
      "metadata": {
        "id": "_3TZIxTTmJ7k",
        "colab_type": "text"
      },
      "source": [
        "Προχοή, ο κώδικας σε prolog και σε python έχει δημιουγηθεί έτι ώστε για κάθε ταινία να επιστρέφει 3 συνολα ταινιών ομοια με την ταινία αλλά το πρώτο πιο ομοιο το δευτερο λιγότερο όμοιο από το πρώτο και το τρίτο λιγότερο όμοιο απο το πρώτο και το δεύτερο. Για αυτο υπάρχει αυτό το not όσο καταβαίνω σε επίπεδα."
      ]
    },
    {
      "cell_type": "markdown",
      "metadata": {
        "id": "RshHli9mx6Vx",
        "colab_type": "text"
      },
      "source": [
        "Ο πρώτος recommender γυρίζει ταινίες που έχουν ίδιο director και ειναι 5* gendre σε σχέση με μία αλλη ταινία, μετα γυρίζουν ταινίες που απλά έχουν 5* genre και μετά οι ταινίες που έχουν 4* genre, και έτσι πετυχαίνουμε την λίστα φθήνουσα σημαντικότητας, αλλά καθε ταινία είναι αρκετά όμοια με την ζητούμενη."
      ]
    },
    {
      "cell_type": "code",
      "metadata": {
        "id": "M6tSXKcOuZgn",
        "colab_type": "code",
        "colab": {}
      },
      "source": [
        "def simple_recommender1(movie):\n",
        "    \n",
        "    ans = []\n",
        "    ans5 = []\n",
        "    for soln in prolog.query(\"first1('\" + movie +\"',X)\"):\n",
        "      if soln[\"X\"] not in ans5:\n",
        "        ans5.append(soln[\"X\"])\n",
        "\n",
        "    if len(ans5)>=3:\n",
        "      ans = ans + ans5[:3]\n",
        "      l5=3\n",
        "    else:\n",
        "      ans = ans + ans5[:len(ans5)]\n",
        "      l5=len(ans5)\n",
        "\n",
        "    ans4 = []\n",
        "    for soln in prolog.query(\"first2('\" + movie +\"',X)\"):\n",
        "        if soln[\"X\"] not in ans5 and soln[\"X\"] not in ans4 :\n",
        "            ans4.append(soln[\"X\"])\n",
        "    \n",
        "\n",
        "    if len(ans4)>=5:\n",
        "      ans = ans +ans4[:5]\n",
        "      l4=5\n",
        "    else:\n",
        "      ans = ans + ans5[:len(ans5)]\n",
        "      l4=len(ans4)\n",
        "   \n",
        "    ans3 = []\n",
        "    for soln in prolog.query(\"first3('\" + movie +\"',X)\"):\n",
        "        if soln[\"X\"] not in ans5 and soln[\"X\"] not in ans4 and soln[\"X\"] not in ans3:\n",
        "            ans3.append(soln[\"X\"])\n",
        "    \n",
        "    if len(ans3)>=10-l5-l4:\n",
        "      ans = ans + ans3[:10-l5-l4]\n",
        "    else:\n",
        "      ans = ans + ans3[:len(ans3)]\n",
        "\n",
        "    return ans"
      ],
      "execution_count": 0,
      "outputs": []
    },
    {
      "cell_type": "markdown",
      "metadata": {
        "id": "shHQUmFDyRbl",
        "colab_type": "text"
      },
      "source": [
        "Παράδειγμα για το star wars, βλέπουμε ότι οι πιο κοινές ειναι τα star wars, λογικό. Επίσησ αρκετά σχετική ειναι το Αvatar"
      ]
    },
    {
      "cell_type": "code",
      "metadata": {
        "id": "NW7IV_5TvE97",
        "colab_type": "code",
        "outputId": "c72241ad-bfc1-4cae-86de-d8713e12e86a",
        "colab": {
          "base_uri": "https://localhost:8080/",
          "height": 204
        }
      },
      "source": [
        "simple_recommender1('Star Wars: Episode III - Revenge of the Sith')"
      ],
      "execution_count": 0,
      "outputs": [
        {
          "output_type": "execute_result",
          "data": {
            "text/plain": [
              "['Star Wars: Episode I - The Phantom Menace',\n",
              " 'Star Wars: Episode II - Attack of the Clones',\n",
              " 'Star Wars: Episode IV - A New Hope',\n",
              " 'Aqua Teen Hunger Force Colon Movie Film for Theaters',\n",
              " 'Atlantis: The Lost Empire',\n",
              " 'Avatar',\n",
              " 'Beastmaster 2: Through the Portal of Time',\n",
              " 'Blade: Trinity',\n",
              " '47 Ronin',\n",
              " 'Alpha and Omega 4: The Legend of the Saw Toothed Cave',\n",
              " 'Baahubali: The Beginning']"
            ]
          },
          "metadata": {
            "tags": []
          },
          "execution_count": 32
        }
      ]
    },
    {
      "cell_type": "markdown",
      "metadata": {
        "id": "XK4Yqe0Oym9Z",
        "colab_type": "text"
      },
      "source": [
        "Ο δεύτερος recommender γυρίζει ταινίες που έχουν κοντινή διάρκεια και ειναι 5* gendre σε σχέση με μία αλλη ταινία, μετα γυρίζουν ταινίες που έχουν 4* genre και κάπως κοντινές διάρκειες μετά οι ταινίες που έχουν 3* genre, και έτσι πετυχαίνουμε την λίστα φθήνουσα σημαντικότητας, αλλά καθε ταινία είναι αρκετά όμοια με την ζητούμενη."
      ]
    },
    {
      "cell_type": "code",
      "metadata": {
        "id": "606qqSJJa2Ih",
        "colab_type": "code",
        "colab": {}
      },
      "source": [
        "def simple_recommender2(movie):\n",
        "    \n",
        "    ans = []\n",
        "    ans5 = []\n",
        "    for soln in prolog.query(\"second1('\" + movie +\"',X)\"):\n",
        "      if soln[\"X\"] not in ans:\n",
        "        if len(ans)<4:\n",
        "          ans.append(soln[\"X\"])\n",
        "        else:\n",
        "          ans5.append(soln[\"X\"])\n",
        "\n",
        "    #print(ans)\n",
        "    ans4 = []\n",
        "    for soln in prolog.query(\"second2('\" + movie +\"',X)\"):\n",
        "        if soln[\"X\"] not in ans and soln[\"X\"] not in ans5:\n",
        "          if len(ans)<7:\n",
        "            ans.append(soln[\"X\"])\n",
        "          else:\n",
        "            ans4.append(soln[\"X\"])\n",
        "    \n",
        "    #print(ans)\n",
        "    ans3 = []\n",
        "    for soln in prolog.query(\"second3('\" + movie +\"',X)\"):\n",
        "        if soln[\"X\"] not in ans and soln[\"X\"] not in ans5 and soln[\"X\"] not in ans4 and len(ans)<10:\n",
        "            ans.append(soln[\"X\"])\n",
        "\n",
        "    return ans"
      ],
      "execution_count": 0,
      "outputs": []
    },
    {
      "cell_type": "markdown",
      "metadata": {
        "id": "0XT7IvcBy4SA",
        "colab_type": "text"
      },
      "source": [
        "Εδώ δινουμε αρκετή βάση στην διάρκεια της ταινίας, μην ξεχνάμε οτι τυπώνουμε τις 10 πρώτες που βρίσκει η prolog."
      ]
    },
    {
      "cell_type": "code",
      "metadata": {
        "id": "pTJVBs71a4_F",
        "colab_type": "code",
        "outputId": "c6a66ea0-8fb3-460a-bde8-0084182bc132",
        "colab": {
          "base_uri": "https://localhost:8080/",
          "height": 187
        }
      },
      "source": [
        "simple_recommender2('Star Wars: Episode III - Revenge of the Sith')"
      ],
      "execution_count": 0,
      "outputs": [
        {
          "output_type": "execute_result",
          "data": {
            "text/plain": [
              "['Blade: Trinity',\n",
              " 'Hellboy II: The Golden Army',\n",
              " 'Man of Steel',\n",
              " '20,000 Leagues Under the Sea',\n",
              " '2012',\n",
              " '47 Ronin',\n",
              " 'A Sound of Thunder',\n",
              " 'After Earth',\n",
              " '1911',\n",
              " '55 Days at Peking']"
            ]
          },
          "metadata": {
            "tags": []
          },
          "execution_count": 34
        }
      ]
    },
    {
      "cell_type": "markdown",
      "metadata": {
        "id": "WMrPO-kTzASq",
        "colab_type": "text"
      },
      "source": [
        "Ο τρίτος recommender γυρίζει ταινίες που βγήκαν το πολύ με μια χρονία διαφορά και ειναι 5* gendre σε σχέση με μία αλλη ταινία, μετα γυρίζουν ταινίες που απλά έχουν 5* genre και έχουν διαφορά χρόνια προβολής το πολύ 5 χρόνια μετά οι ταινίες που έχουν 5* genre και διαφορά το πολύ μέχρι και 10 χρόνια, και έτσι πετυχαίνουμε την λίστα φθήνουσα σημαντικότητας, αλλά καθε ταινία είναι αρκετά όμοια με την ζητούμενη."
      ]
    },
    {
      "cell_type": "code",
      "metadata": {
        "id": "P4MsA0XOo8oA",
        "colab_type": "code",
        "colab": {}
      },
      "source": [
        "def simple_recommender3(movie):\n",
        "    \n",
        "    ans = []\n",
        "    ans5 = []\n",
        "    for soln in prolog.query(\"third1('\" + movie +\"',X)\"):\n",
        "      if soln[\"X\"] not in ans5:\n",
        "        ans5.append(soln[\"X\"])\n",
        "\n",
        "    if len(ans5)>3:\n",
        "      ans = ans + ans5[:3]\n",
        "      l5=4\n",
        "    else:\n",
        "      ans = ans + ans5[:len(ans5)]\n",
        "      l5=len(ans5)\n",
        "\n",
        "    ans4 = []\n",
        "    for soln in prolog.query(\"third2('\" + movie +\"',X)\"):\n",
        "        if soln[\"X\"] not in ans5 and soln[\"X\"] not in ans4 :\n",
        "            ans4.append(soln[\"X\"])\n",
        "    \n",
        "\n",
        "    if len(ans4)>5:\n",
        "      ans = ans +ans4[:5]\n",
        "      l4=4\n",
        "    else:\n",
        "      ans = ans + ans5[:len(ans5)]\n",
        "      l4=len(ans4)\n",
        "   \n",
        "    ans3 = []\n",
        "    for soln in prolog.query(\"third3('\" + movie +\"',X)\"):\n",
        "        if soln[\"X\"] not in ans5 and soln[\"X\"] not in ans4 and soln[\"X\"] not in ans3:\n",
        "            ans3.append(soln[\"X\"])\n",
        "    \n",
        "    if len(ans3)>10-l5-l4:\n",
        "      ans = ans + ans3[:10-l5-l4]\n",
        "    else:\n",
        "      ans = ans + ans3[:len(ans3)]\n",
        "\n",
        "    return ans"
      ],
      "execution_count": 0,
      "outputs": []
    },
    {
      "cell_type": "code",
      "metadata": {
        "id": "oZT7EKTVpIDA",
        "colab_type": "code",
        "outputId": "45ee2ce2-01cf-4c1b-b857-e3d3c1cccaa0",
        "colab": {
          "base_uri": "https://localhost:8080/",
          "height": 187
        }
      },
      "source": [
        "simple_recommender3('White Squall')"
      ],
      "execution_count": 0,
      "outputs": [
        {
          "output_type": "execute_result",
          "data": {
            "text/plain": [
              "['Air Force One',\n",
              " 'Anastasia',\n",
              " 'Apollo 13',\n",
              " 'A.I. Artificial Intelligence',\n",
              " 'Alive',\n",
              " 'Almost Famous',\n",
              " 'Babe: Pig in the City',\n",
              " 'Babys Day Out',\n",
              " 'Alexander',\n",
              " 'Apocalypto']"
            ]
          },
          "metadata": {
            "tags": []
          },
          "execution_count": 8
        }
      ]
    },
    {
      "cell_type": "markdown",
      "metadata": {
        "id": "75dchSdtex1i",
        "colab_type": "text"
      },
      "source": [
        "Ο τέταρτος recommender γυρίζει ταινίες που έχουν πολύ μικρή διαφορά στο imdb score(0.2) και ειναι 5* gendre σε σχέση με μία αλλη ταινία, μετα γυρίζουν ταινίες που έχουν 5* genre και έχουν λίγο μεγαλύτερη διαφορά score(0.5) μετά οι ταινίες που έχουν 5* genre και διαφορά score ακόμη μεγαλύτερη(1.0), και έτσι πετυχαίνουμε την λίστα φθήνουσα σημαντικότητας, αλλά καθε ταινία είναι αρκετά όμοια με την ζητούμενη."
      ]
    },
    {
      "cell_type": "code",
      "metadata": {
        "id": "r-nKNuKdpq6Y",
        "colab_type": "code",
        "colab": {}
      },
      "source": [
        "def simple_recommender4(movie):\n",
        "    \n",
        "    ans = []\n",
        "    ans5 = []\n",
        "    for soln in prolog.query(\"four1('\" + movie +\"',X)\"):\n",
        "      if soln[\"X\"] not in ans5:\n",
        "        ans5.append(soln[\"X\"])\n",
        "\n",
        "    if len(ans5)>3:\n",
        "      ans = ans + ans5[:3]\n",
        "      l5=4\n",
        "    else:\n",
        "      ans = ans + ans5[:len(ans5)]\n",
        "      l5=len(ans5)\n",
        "\n",
        "    ans4 = []\n",
        "    for soln in prolog.query(\"ff2('\" + movie +\"',X)\"):\n",
        "        if soln[\"X\"] not in ans5 and soln[\"X\"] not in ans4 :\n",
        "            ans4.append(soln[\"X\"])\n",
        "    \n",
        "\n",
        "    if len(ans4)>5:\n",
        "      ans = ans +ans4[:5]\n",
        "      l4=4\n",
        "    else:\n",
        "      ans = ans + ans5[:len(ans5)]\n",
        "      l4=len(ans4)\n",
        "   \n",
        "    ans3 = []\n",
        "    for soln in prolog.query(\"ff3('\" + movie +\"',X)\"):\n",
        "        if soln[\"X\"] not in ans5 and soln[\"X\"] not in ans4 and soln[\"X\"] not in ans3:\n",
        "            ans3.append(soln[\"X\"])\n",
        "    \n",
        "    if len(ans3)>10-l5-l4:\n",
        "      ans = ans + ans3[:10-l5-l4]\n",
        "    else:\n",
        "      ans = ans + ans3[:len(ans3)]\n",
        "\n",
        "    return ans"
      ],
      "execution_count": 0,
      "outputs": []
    },
    {
      "cell_type": "code",
      "metadata": {
        "id": "yAAPTtOPpxLw",
        "colab_type": "code",
        "outputId": "28e3de16-d9be-43c1-beb4-4669753137fc",
        "colab": {
          "base_uri": "https://localhost:8080/",
          "height": 187
        }
      },
      "source": [
        "simple_recommender4('White Squall')"
      ],
      "execution_count": 0,
      "outputs": [
        {
          "output_type": "execute_result",
          "data": {
            "text/plain": [
              "['Act of Valor',\n",
              " 'Air Force One',\n",
              " 'Arn: The Knight Templar',\n",
              " '47 Ronin',\n",
              " '55 Days at Peking',\n",
              " '9',\n",
              " 'A.I. Artificial Intelligence',\n",
              " 'Alive',\n",
              " '12 Monkeys            ',\n",
              " '127 Hours']"
            ]
          },
          "metadata": {
            "tags": []
          },
          "execution_count": 11
        }
      ]
    },
    {
      "cell_type": "markdown",
      "metadata": {
        "id": "ufsr1kgYgEol",
        "colab_type": "text"
      },
      "source": [
        "Ο πέμπτος recommender γυρίζει ταινίες που ειναι 5* gendre και 2* keyword σε σχέση με μία αλλη ταινία, μετα γυρίζουν ταινίες που έχουν 5* genre και 1* keyword  μετά οι ταινίες που έχουν απλά 5* genre, και έτσι πετυχαίνουμε την λίστα φθήνουσα σημαντικότητας, αλλά καθε ταινία είναι αρκετά όμοια με την ζητούμενη."
      ]
    },
    {
      "cell_type": "markdown",
      "metadata": {
        "id": "9HTgR2h2gWf0",
        "colab_type": "text"
      },
      "source": [
        "Προσοχή, ο λόγος που βάλαμε τόσο μικρό star σατ keyword είναι επειδη τα keywords ειναι πάρα πολλά."
      ]
    },
    {
      "cell_type": "code",
      "metadata": {
        "id": "CGsqC_DzqBa9",
        "colab_type": "code",
        "colab": {}
      },
      "source": [
        "#argei profanws logw genre kai keyword prolog complexity\n",
        "def simple_recommender5(movie):\n",
        "    \n",
        "    ans = []\n",
        "    ans5 = []\n",
        "    for soln in prolog.query(\"five1('\" + movie +\"',X)\"):\n",
        "      if soln[\"X\"] not in ans5:\n",
        "        ans5.append(soln[\"X\"])\n",
        "\n",
        "    if len(ans5)>3:\n",
        "      ans = ans + ans5[:3]\n",
        "      l5=4\n",
        "    else:\n",
        "      ans = ans + ans5[:len(ans5)]\n",
        "      l5=len(ans5)\n",
        "\n",
        "    ans4 = []\n",
        "    for soln in prolog.query(\"five2('\" + movie +\"',X)\"):\n",
        "        if soln[\"X\"] not in ans5 and soln[\"X\"] not in ans4 :\n",
        "            ans4.append(soln[\"X\"])\n",
        "    \n",
        "\n",
        "    if len(ans4)>5:\n",
        "      ans = ans +ans4[:5]\n",
        "      l4=4\n",
        "    else:\n",
        "      ans = ans + ans5[:len(ans5)]\n",
        "      l4=len(ans4)\n",
        "   \n",
        "    ans3 = []\n",
        "    for soln in prolog.query(\"five3('\" + movie +\"',X)\"):\n",
        "        if soln[\"X\"] not in ans5 and soln[\"X\"] not in ans4 and soln[\"X\"] not in ans3:\n",
        "            ans3.append(soln[\"X\"])\n",
        "    \n",
        "    if len(ans3)>10-l5-l4:\n",
        "      ans = ans + ans3[:10-l5-l4]\n",
        "    else:\n",
        "      ans = ans + ans3[:len(ans3)]\n",
        "\n",
        "    return ans"
      ],
      "execution_count": 0,
      "outputs": []
    },
    {
      "cell_type": "code",
      "metadata": {
        "id": "pCy4p2CVqI7U",
        "colab_type": "code",
        "outputId": "3249e94e-fbcc-4d2d-a56f-92bad3748c29",
        "colab": {
          "base_uri": "https://localhost:8080/",
          "height": 102
        }
      },
      "source": [
        "simple_recommender5('White Squall')"
      ],
      "execution_count": 0,
      "outputs": [
        {
          "output_type": "execute_result",
          "data": {
            "text/plain": [
              "['12 Monkeys            ',\n",
              " '127 Hours',\n",
              " '1911',\n",
              " '20,000 Leagues Under the Sea',\n",
              " '3:10 to Yuma']"
            ]
          },
          "metadata": {
            "tags": []
          },
          "execution_count": 13
        }
      ]
    },
    {
      "cell_type": "markdown",
      "metadata": {
        "id": "ND2w2FljgktY",
        "colab_type": "text"
      },
      "source": [
        "Αρχικά βάζουμε τις ταινίες που είναι 5* genre έχουν και ιδιο director και ίδιο τουλάχιστον έναν ηθοποιό, μετά βαζω ταινίς που είναι 5* genreέχουν είτε ίδιο τουλ ένα ηθοποιό είτε ίδιο σκηνοθέτη και οι υπόλοιπες έχουν απλά 5genre"
      ]
    },
    {
      "cell_type": "code",
      "metadata": {
        "id": "UbtVoQDzxbi6",
        "colab_type": "code",
        "colab": {}
      },
      "source": [
        "def simple_recommender6(movie):\n",
        "    \n",
        "    ans = []\n",
        "    ans5 = []\n",
        "    for soln in prolog.query(\"six1('\" + movie +\"',X)\"):\n",
        "      if soln[\"X\"] not in ans5:\n",
        "        ans5.append(soln[\"X\"])\n",
        "\n",
        "    if len(ans5)>3:\n",
        "      ans = ans + ans5[:3]\n",
        "      l5=4\n",
        "    else:\n",
        "      ans = ans + ans5[:len(ans5)]\n",
        "      l5=len(ans5)\n",
        "\n",
        "    ans4 = []\n",
        "    for soln in prolog.query(\"six2('\" + movie +\"',X)\"):\n",
        "        if soln[\"X\"] not in ans5 and soln[\"X\"] not in ans4 :\n",
        "            ans4.append(soln[\"X\"])\n",
        "    \n",
        "\n",
        "    if len(ans4)>5:\n",
        "      ans = ans +ans4[:5]\n",
        "      l4=4\n",
        "    else:\n",
        "      ans = ans + ans5[:len(ans5)]\n",
        "      l4=len(ans4)\n",
        "   \n",
        "    ans3 = []\n",
        "    for soln in prolog.query(\"six3('\" + movie +\"',X)\"):\n",
        "        if soln[\"X\"] not in ans5 and soln[\"X\"] not in ans4 and soln[\"X\"] not in ans3:\n",
        "            ans3.append(soln[\"X\"])\n",
        "    \n",
        "    if len(ans3)>10-l5-l4:\n",
        "      ans = ans + ans3[:10-l5-l4]\n",
        "    else:\n",
        "      ans = ans + ans3[:len(ans3)]\n",
        "\n",
        "    return ans"
      ],
      "execution_count": 0,
      "outputs": []
    },
    {
      "cell_type": "code",
      "metadata": {
        "id": "4XkChTrOxpCK",
        "colab_type": "code",
        "outputId": "18b0a843-5d2b-4673-af39-30bf9062a4d2",
        "colab": {
          "base_uri": "https://localhost:8080/",
          "height": 204
        }
      },
      "source": [
        "simple_recommender6('White Squall')"
      ],
      "execution_count": 0,
      "outputs": [
        {
          "output_type": "execute_result",
          "data": {
            "text/plain": [
              "['Exodus: Gods and Kings',\n",
              " 'Heavens Gate',\n",
              " 'Kingdom of Heaven',\n",
              " 'Robin Hood',\n",
              " 'The Little Prince',\n",
              " '12 Monkeys            ',\n",
              " '127 Hours',\n",
              " '1911',\n",
              " '20,000 Leagues Under the Sea',\n",
              " '3:10 to Yuma',\n",
              " '47 Ronin']"
            ]
          },
          "metadata": {
            "tags": []
          },
          "execution_count": 15
        }
      ]
    },
    {
      "cell_type": "markdown",
      "metadata": {
        "id": "fwTFgIlchBMH",
        "colab_type": "text"
      },
      "source": [
        "Ο πέμπτος recommender γυρίζει ταινίες που ειναι 5* gendre και 5* year και 5* score  σε σχέση με μία αλλη ταινία, μετα γυρίζουν ταινίες που ειναι 5* gendre και 4* year και 4* score μετά οι ταινίες που έχουν ειναι 5* gendre και 4* year και 3* score, και έτσι πετυχαίνουμε την λίστα φθήνουσα σημαντικότητας, αλλά καθε ταινία είναι αρκετά όμοια με την ζητούμενη.\n"
      ]
    },
    {
      "cell_type": "code",
      "metadata": {
        "id": "zCzDCPAucGlG",
        "colab_type": "code",
        "colab": {}
      },
      "source": [
        "def simple_recommender7(movie):\n",
        "    \n",
        "    ans = []\n",
        "    ans5 = []\n",
        "    for soln in prolog.query(\"seven1('\" + movie +\"',X)\"):\n",
        "      if soln[\"X\"] not in ans:\n",
        "        if len(ans)<4:\n",
        "          ans.append(soln[\"X\"])\n",
        "        else:\n",
        "          ans5.append(soln[\"X\"])\n",
        "\n",
        "    #print(ans)\n",
        "    ans4 = []\n",
        "    for soln in prolog.query(\"seven2('\" + movie +\"',X)\"):\n",
        "        if soln[\"X\"] not in ans and soln[\"X\"] not in ans5:\n",
        "          if len(ans)<7:\n",
        "            ans.append(soln[\"X\"])\n",
        "          else:\n",
        "            ans4.append(soln[\"X\"])\n",
        "    \n",
        "    #print(ans)\n",
        "    ans3 = []\n",
        "    for soln in prolog.query(\"seven3('\" + movie +\"',X)\"):\n",
        "        if soln[\"X\"] not in ans and soln[\"X\"] not in ans5 and soln[\"X\"] not in ans4 and len(ans)<10:\n",
        "            ans.append(soln[\"X\"])\n",
        "          \n",
        "    return ans"
      ],
      "execution_count": 0,
      "outputs": []
    },
    {
      "cell_type": "code",
      "metadata": {
        "id": "VZvcs6FSdNX9",
        "colab_type": "code",
        "outputId": "5803ec49-0bbb-4037-ffb5-92499659ba0a",
        "colab": {
          "base_uri": "https://localhost:8080/",
          "height": 187
        }
      },
      "source": [
        "simple_recommender7('White Squall')"
      ],
      "execution_count": 0,
      "outputs": [
        {
          "output_type": "execute_result",
          "data": {
            "text/plain": [
              "['Air Force One',\n",
              " 'Pocahontas',\n",
              " 'A.I. Artificial Intelligence',\n",
              " 'Alive',\n",
              " 'Anastasia',\n",
              " 'Chicken Run',\n",
              " 'Limbo',\n",
              " 'Apollo 13',\n",
              " 'Babe: Pig in the City',\n",
              " 'Babys Day Out']"
            ]
          },
          "metadata": {
            "tags": []
          },
          "execution_count": 17
        }
      ]
    },
    {
      "cell_type": "markdown",
      "metadata": {
        "id": "03EQU_FjyFKr",
        "colab_type": "text"
      },
      "source": [
        "O τρόπος που όρισα τα genre,keywords και αρκετές ενέργειες στην προλογκ κανουν την γλωσσα να αργει αρκετα. δεσ trace.\n",
        "Έτσι ορίζω εναν γρήγορο recomender"
      ]
    },
    {
      "cell_type": "markdown",
      "metadata": {
        "id": "WuBbQ4mGhZkX",
        "colab_type": "text"
      },
      "source": [
        "O λόγος που δημιουγούμε αυτη την συνάρητση είναι για να δείξουμε ότι έχουμε κατανοήση τον τρόπο που λειτουργεί η prolog. Αυτή η συνάρτηση έχει αξία σαν recommender αλλά τρέχει και πολύ γρήγορα και αυτό φαίνεται στο ότι το trace ολοκληρώνεται πολύ γρήγορα."
      ]
    },
    {
      "cell_type": "code",
      "metadata": {
        "id": "h3x_bjaRwrRt",
        "colab_type": "code",
        "colab": {}
      },
      "source": [
        "def fast_recommender(movie):\n",
        "    \n",
        "    ans = []\n",
        "    ans5 = []\n",
        "    for soln in prolog.query(\"fast1('\" + movie +\"',X)\"):\n",
        "      if soln[\"X\"] not in ans:\n",
        "        if len(ans)<4:\n",
        "          ans.append(soln[\"X\"])\n",
        "        else:\n",
        "          ans5.append(soln[\"X\"])\n",
        "\n",
        "    #print(ans)\n",
        "    ans4 = []\n",
        "    for soln in prolog.query(\"fast2('\" + movie +\"',X)\"):\n",
        "        if soln[\"X\"] not in ans and soln[\"X\"] not in ans5:\n",
        "          if len(ans)<7:\n",
        "            ans.append(soln[\"X\"])\n",
        "          else:\n",
        "            ans4.append(soln[\"X\"])\n",
        "    \n",
        "    #print(ans)\n",
        "    ans3 = []\n",
        "    for soln in prolog.query(\"fast3('\" + movie +\"',X)\"):\n",
        "        if soln[\"X\"] not in ans and soln[\"X\"] not in ans5 and soln[\"X\"] not in ans4 and len(ans)<10:\n",
        "            ans.append(soln[\"X\"])\n",
        "          \n",
        "    return ans"
      ],
      "execution_count": 0,
      "outputs": []
    },
    {
      "cell_type": "code",
      "metadata": {
        "id": "ZwVfGPX0xAGn",
        "colab_type": "code",
        "outputId": "cd4bb765-d55c-44f8-ae83-1d1ddf801c7f",
        "colab": {
          "base_uri": "https://localhost:8080/",
          "height": 187
        }
      },
      "source": [
        "fast_recommender('White Squall')"
      ],
      "execution_count": 0,
      "outputs": [
        {
          "output_type": "execute_result",
          "data": {
            "text/plain": [
              "['A Good Year',\n",
              " 'Alien',\n",
              " 'American Gangster',\n",
              " 'Black Hawk Down',\n",
              " '#Horror',\n",
              " '10 Cloverfield Lane',\n",
              " '10 Days in a Madhouse',\n",
              " '12 Angry Men',\n",
              " '42nd Street',\n",
              " 'A Bridge Too Far']"
            ]
          },
          "metadata": {
            "tags": []
          },
          "execution_count": 7
        }
      ]
    },
    {
      "cell_type": "markdown",
      "metadata": {
        "id": "jdJLVBg8ICim",
        "colab_type": "text"
      },
      "source": [
        "**More advanced Recomender**"
      ]
    },
    {
      "cell_type": "markdown",
      "metadata": {
        "id": "wUhi_cd4zbKI",
        "colab_type": "text"
      },
      "source": [
        "Εδώ επιστρέφουμε έναν recommender με πολλά χαρακητριστικά και πολύ κλιμάκωση έτσι ώστε να εξετάσουμε πιο σφαιρικά και ορθά το θεμα, το αναμενόμενο βέβαια είναι ότι αργει αρκετά να επιστρέψει τιμη, λογω prolog, python και cloud(δεν τρέχει localy) και γι αυτό δεν το έτρεξα. Αξίζει να σημειωθεί ότι ο prolog κωδικας μου είναι πολύ αναλυτικός και αυτο το βλέπουμε με τον κωδικο trace. (localy) "
      ]
    },
    {
      "cell_type": "code",
      "metadata": {
        "id": "PpV3MGWHIAVy",
        "colab_type": "code",
        "colab": {}
      },
      "source": [
        "def hey(movie):\n",
        "    \n",
        "    ans = []\n",
        "    l=0\n",
        "    ans1 = []\n",
        "    for soln in prolog.query(\"first('\" + movie +\"',X)\"):\n",
        "      if soln[\"X\"] not in ans1:\n",
        "        ans1.append(soln[\"X\"])\n",
        "     \n",
        "    if len(ans1)>=1:\n",
        "      ans=ans+ans1[0]\n",
        "      l=l+1\n",
        "    \n",
        "    ans2 = []\n",
        "    for soln in prolog.query(\"second('\" + movie +\"',X)\"):\n",
        "      if soln[\"X\"] not in ans1 and soln[\"X\"] not in ans2:\n",
        "        ans2.append(soln[\"X\"])\n",
        "     \n",
        "    if len(ans2)>=1:\n",
        "      ans=ans+ans2[0]\n",
        "      l=l+1\n",
        "    if l < 2 and len(ans2)>=2:\n",
        "      ans=ans+ans2[1]\n",
        "      l=l+1\n",
        "\n",
        "    ans3 = []\n",
        "    for soln in prolog.query(\"three('\" + movie +\"',X)\"):\n",
        "        if soln[\"X\"] not in ans1 and soln[\"X\"] not in ans2 and soln[\"X\"] not in ans3:\n",
        "            ans3.append(soln[\"X\"])\n",
        "\n",
        "    if len(ans3)>=1:\n",
        "      ans=ans+ans3[0]\n",
        "      l=l+1\n",
        "    if l<3 and len(ans3)>=2:\n",
        "      l=l+1\n",
        "      ans=ans+ans3[1]\n",
        "    if l<3 and len(ans3)>=3:\n",
        "      l=l+1\n",
        "      ans=ans+ans3[2]\n",
        "\n",
        "    ans4 = []\n",
        "    for soln in prolog.query(\"four('\" + movie +\"',X)\"):\n",
        "        if soln[\"X\"] not in ans1 and soln[\"X\"] not in ans2 and soln[\"X\"] not in ans3 and soln[\"X\"] not in ans4:\n",
        "            ans4.append(soln[\"X\"])\n",
        "\n",
        "    if len(ans4)>=1:\n",
        "      ans=ans+ans4[0]\n",
        "      l=l+1\n",
        "    if l<4 and len(ans4)>=2:\n",
        "      l=l+1\n",
        "      ans=ans+ans4[1]\n",
        "    if l<4 and len(ans4)>=3:\n",
        "      l=l+1\n",
        "      ans=ans+ans4[2]\n",
        "    if l<4 and len(ans4)>=4:\n",
        "      l=l+1\n",
        "      ans=ans+ans4[3]\n",
        "\n",
        "    ans5 = []\n",
        "    for soln in prolog.query(\"five('\" + movie +\"',X)\"):\n",
        "        if soln[\"X\"] not in ans1 and soln[\"X\"] not in ans2 and soln[\"X\"] not in ans3 and soln[\"X\"] not in ans4 and soln[\"X\"] not in ans5:\n",
        "            ans5.append(soln[\"X\"])\n",
        "\n",
        "    if len(ans5)>=1:\n",
        "      ans=ans+ans5[0]\n",
        "      l=l+1\n",
        "    if l<5 and len(ans5)>=2:\n",
        "      l=l+1\n",
        "      ans=ans+ans5[1]\n",
        "    if l<5 and len(ans5)>=3:\n",
        "      l=l+1\n",
        "      ans=ans+ans5[2]\n",
        "    if l<5 and len(ans5)>=4:\n",
        "      l=l+1\n",
        "      ans=ans+ans5[3]\n",
        "    if l<5 and len(ans5)>=5:\n",
        "      l=l+1\n",
        "      ans=ans+ans5[4]\n",
        "    \n",
        "    ans6 = []\n",
        "    for soln in prolog.query(\"six('\" + movie +\"',X)\"):\n",
        "        if soln[\"X\"] not in ans1 and soln[\"X\"] not in ans2 and soln[\"X\"] not in ans3 and soln[\"X\"] not in ans4 and soln[\"X\"] not in ans5 and soln[\"X\"] not in ans6:\n",
        "            ans6.append(soln[\"X\"])\n",
        "\n",
        "    if len(ans6)>=1:\n",
        "      ans=ans+ans6[0]\n",
        "      l=l+1\n",
        "    if l<6 and len(ans6)>=2:\n",
        "      l=l+1\n",
        "      ans=ans+ans6[1]\n",
        "    if l<6 and len(ans6)>=3:\n",
        "      l=l+1\n",
        "      ans=ans+ans6[2]\n",
        "    if l<6 and len(ans6)>=4:\n",
        "      l=l+1\n",
        "      ans=ans+ans6[3]\n",
        "    if l<6 and len(ans6)>=5:\n",
        "      l=l+1\n",
        "      ans=ans+ans6[4]\n",
        "    if l<6 and len(ans6)>=6:\n",
        "      l=l+1\n",
        "      ans=ans+ans6[5]\n",
        "\n",
        "    ans7 = []\n",
        "    for soln in prolog.query(\"seven('\" + movie +\"',X)\"):\n",
        "        if soln[\"X\"] not in ans1 and soln[\"X\"] not in ans2 and soln[\"X\"] not in ans3 and soln[\"X\"] not in ans4 and soln[\"X\"] not in ans5 and soln[\"X\"] not in ans6 and soln[\"X\"] not in ans7:\n",
        "            ans7.append(soln[\"X\"])\n",
        "\n",
        "    if len(ans7)>=1:\n",
        "      ans=ans+ans7[0]\n",
        "      l=l+1\n",
        "    if l<7 and len(ans7)>=2:\n",
        "      l=l+1\n",
        "      ans=ans+ans7[1]\n",
        "    if l<7 and len(ans7)>=3:\n",
        "      l=l+1\n",
        "      ans=ans+ans7[2]\n",
        "    if l<7 and len(ans7)>=4:\n",
        "      l=l+1\n",
        "      ans=ans+ans7[3]\n",
        "    if l<7 and len(ans7)>=5:\n",
        "      l=l+1\n",
        "      ans=ans+ans7[4]\n",
        "    if l<7 and len(ans7)>=6:\n",
        "      l=l+1\n",
        "      ans=ans+ans7[5]\n",
        "    if l<7 and len(ans7)>=7:\n",
        "      l=l+1\n",
        "      ans=ans+ans7[6]\n",
        "\n",
        "    ans8 = []\n",
        "    for soln in prolog.query(\"eight('\" + movie +\"',X)\"):\n",
        "        if soln[\"X\"] not in ans1 and soln[\"X\"] not in ans2 and soln[\"X\"] not in ans3 and soln[\"X\"] not in ans4 and soln[\"X\"] not in ans5 and soln[\"X\"] not in ans6 and soln[\"X\"] not in ans7 and soln[\"X\"] not in ans8:\n",
        "            ans8.append(soln[\"X\"])\n",
        "\n",
        "    if len(ans8)>=1:\n",
        "      ans=ans+ans8[0]\n",
        "      l=l+1\n",
        "    if l<8 and len(ans8)>=2:\n",
        "      l=l+1\n",
        "      ans=ans+ans8[1]\n",
        "    if l<8 and len(ans8)>=3:\n",
        "      l=l+1\n",
        "      ans=ans+ans8[2]\n",
        "    if l<8 and len(ans8)>=4:\n",
        "      l=l+1\n",
        "      ans=ans+ans8[3]\n",
        "    if l<8 and len(ans8)>=5:\n",
        "      l=l+1\n",
        "      ans=ans+ans8[4]\n",
        "    if l<8 and len(ans8)>=6:\n",
        "      l=l+1\n",
        "      ans=ans+ans8[5]\n",
        "    if l<8 and len(ans8)>=7:\n",
        "      l=l+1\n",
        "      ans=ans+ans8[6]\n",
        "    if l<8 and len(ans8)>=8:\n",
        "      l=l+1\n",
        "      ans=ans+ans8[7]\n",
        "\n",
        "    ans9 = []\n",
        "    for soln in prolog.query(\"nine('\" + movie +\"',X)\"):\n",
        "        if soln[\"X\"] not in ans1 and soln[\"X\"] not in ans2 and soln[\"X\"] not in ans3 and soln[\"X\"] not in ans4 and soln[\"X\"] not in ans5 and soln[\"X\"] not in ans6 and soln[\"X\"] not in ans7 and soln[\"X\"] not in ans8 and soln[\"X\"] not in ans9:\n",
        "            ans9.append(soln[\"X\"])\n",
        "\n",
        "    if len(ans9)>=1:\n",
        "      ans=ans+ans9[0]\n",
        "      l=l+1\n",
        "    if l<9 and len(ans9)>=2:\n",
        "      l=l+1\n",
        "      ans=ans+ans9[1]\n",
        "    if l<9 and len(ans9)>=3:\n",
        "      l=l+1\n",
        "      ans=ans+ans9[2]\n",
        "    if l<9 and len(ans9)>=4:\n",
        "      l=l+1\n",
        "      ans=ans+ans9[3]\n",
        "    if l<9 and len(ans9)>=5:\n",
        "      l=l+1\n",
        "      ans=ans+ans9[4]\n",
        "    if l<9 and len(ans9)>=6:\n",
        "      l=l+1\n",
        "      ans=ans+ans9[5]\n",
        "    if l<9 and len(ans9)>=7:\n",
        "      l=l+1\n",
        "      ans=ans+ans9[6]\n",
        "    if l<9 and len(ans9)>=8:\n",
        "      l=l+1\n",
        "      ans=ans+ans9[7]\n",
        "    if l<9 and len(ans9)>=9:\n",
        "      l=l+1\n",
        "      ans=ans+ans9[8]\n",
        "    \n",
        "    ans10 = []\n",
        "    for soln in prolog.query(\"ten('\" + movie +\"',X)\"):\n",
        "        if soln[\"X\"] not in ans1 and soln[\"X\"] not in ans2 and soln[\"X\"] not in ans3 and soln[\"X\"] not in ans4 and soln[\"X\"] not in ans5 and soln[\"X\"] not in ans6 and soln[\"X\"] not in ans7 and soln[\"X\"] not in ans8 and soln[\"X\"] not in ans9 and soln[\"X\"] not in ans10:\n",
        "            ans10.append(soln[\"X\"])\n",
        "\n",
        "    if len(ans10)>=1:\n",
        "      ans=ans+ans10[0]\n",
        "      l=l+1\n",
        "    if l<10 and len(ans10)>=2:\n",
        "      l=l+1\n",
        "      ans=ans+ans10[1]\n",
        "    if l<10 and len(ans10)>=3:\n",
        "      l=l+1\n",
        "      ans=ans+ans10[2]\n",
        "    if l<10 and len(ans10)>=4:\n",
        "      l=l+1\n",
        "      ans=ans+ans10[3]\n",
        "    if l<10 and len(ans10)>=5:\n",
        "      l=l+1\n",
        "      ans=ans+ans10[4]\n",
        "    if l<10 and len(ans10)>=6:\n",
        "      l=l+1\n",
        "      ans=ans+ans10[5]\n",
        "    if l<10 and len(ans10)>=7:\n",
        "      l=l+1\n",
        "      ans=ans+ans10[6]\n",
        "    if l<10 and len(ans10)>=8:\n",
        "      l=l+1\n",
        "      ans=ans+ans10[7]\n",
        "    if l<10 and len(ans10)>=9:\n",
        "      l=l+1\n",
        "      ans=ans+ans10[8]\n",
        "    if l<10 and len(ans10)>=10:\n",
        "      l=l+1\n",
        "      ans=ans+ans10[9]\n",
        "    \n",
        "    return ans\n"
      ],
      "execution_count": 0,
      "outputs": []
    },
    {
      "cell_type": "markdown",
      "metadata": {
        "colab_type": "text",
        "id": "wCryo9VGAeWi"
      },
      "source": [
        "**Στο σημείο αυτό θα ζητήσουμε από το σύστημα να μας επιστρέψει ορισμένα αποτελέσματα για ταινίες για να εξετάσουμε την απόδοσή του.**\n"
      ]
    },
    {
      "cell_type": "markdown",
      "metadata": {
        "id": "DJI0mUuu-LLq",
        "colab_type": "text"
      },
      "source": [
        "Αρχικά, διαβάζουμε όλο το αρχείο με το relative_movies. \n",
        "Δημιουργουμε μια λίστα με όλες τις ταινίες που έχετε κανει recommendation και μια δευτερη λίστα που έχει τα recommendations.\n",
        "Αυτο το κανουμε για να συγκρίνουμε ολα-με-ολα καθώς η επιλογή των 10 ταινιών μπορει να δημιουγεί προβλήματα."
      ]
    },
    {
      "cell_type": "markdown",
      "metadata": {
        "id": "PYiparpah7BM",
        "colab_type": "text"
      },
      "source": [
        "**ΝΑ ΤΟΝΙΣΤΕΊ** ότι η prolog στους recommender μου επιστρέφουν τα πρώτα 10 αποτελέσματα που βρίσκει η prolog στην έρευνα της βάσης γνώσης μας! Άρα υπάρχει,κρίνω ακρετά μεγάλη πιθανότητα για αρκετους recommender μου, να επιστρέφουν συνολικά αρκετα ίδιες ταινίες με τις δοθήσεσ συσχετίσεις αλλά επειδή φαίνονται μόνο τα 10 πρώτα υπάρχει μεγάλη πιθανόητα να βλέπουμε αρκετά διαφορετικά αποτελέσματα.\n",
        "**Αυτο φαίνεται και στο γεγονός ότι στον relative_movies φαίνονται ότι επιστρέφονται ως αποτελέσματα ίδιες σε πολλά recommendetions**"
      ]
    },
    {
      "cell_type": "code",
      "metadata": {
        "id": "QfRR0H1WC7_y",
        "colab_type": "code",
        "outputId": "96e1ed77-9581-444a-929a-1179602b1f5a",
        "colab": {
          "base_uri": "https://localhost:8080/",
          "height": 204
        }
      },
      "source": [
        "data2 = pd.read_csv('/gdrive/My Drive/Colab/Second AI/relative_movies.csv')\n",
        "data2.fillna(\"UNK\", inplace=True)\n",
        "data2.head()"
      ],
      "execution_count": 0,
      "outputs": [
        {
          "output_type": "execute_result",
          "data": {
            "text/html": [
              "<div>\n",
              "<style scoped>\n",
              "    .dataframe tbody tr th:only-of-type {\n",
              "        vertical-align: middle;\n",
              "    }\n",
              "\n",
              "    .dataframe tbody tr th {\n",
              "        vertical-align: top;\n",
              "    }\n",
              "\n",
              "    .dataframe thead th {\n",
              "        text-align: right;\n",
              "    }\n",
              "</style>\n",
              "<table border=\"1\" class=\"dataframe\">\n",
              "  <thead>\n",
              "    <tr style=\"text-align: right;\">\n",
              "      <th></th>\n",
              "      <th>movie_title</th>\n",
              "      <th>relative_movies</th>\n",
              "    </tr>\n",
              "  </thead>\n",
              "  <tbody>\n",
              "    <tr>\n",
              "      <th>0</th>\n",
              "      <td>Friday the 13th Part VII: The New Blood</td>\n",
              "      <td>The Wicked Within,The Devils Rejects,Alien Zon...</td>\n",
              "    </tr>\n",
              "    <tr>\n",
              "      <th>1</th>\n",
              "      <td>A Million Ways to Die in the West</td>\n",
              "      <td>Lone Wolf McQuade,Pat Garrett &amp; Billy the Kid,...</td>\n",
              "    </tr>\n",
              "    <tr>\n",
              "      <th>2</th>\n",
              "      <td>Phat Girlz</td>\n",
              "      <td>Beerfest,Waiting for Guffman,Lets Be Cops,I Ho...</td>\n",
              "    </tr>\n",
              "    <tr>\n",
              "      <th>3</th>\n",
              "      <td>Water</td>\n",
              "      <td>High School Musical,The Diary of a Teenage Gir...</td>\n",
              "    </tr>\n",
              "    <tr>\n",
              "      <th>4</th>\n",
              "      <td>Killers</td>\n",
              "      <td>21,Abduction,The Devils Advocate,No Country fo...</td>\n",
              "    </tr>\n",
              "  </tbody>\n",
              "</table>\n",
              "</div>"
            ],
            "text/plain": [
              "                               movie_title                                    relative_movies\n",
              "0  Friday the 13th Part VII: The New Blood  The Wicked Within,The Devils Rejects,Alien Zon...\n",
              "1        A Million Ways to Die in the West  Lone Wolf McQuade,Pat Garrett & Billy the Kid,...\n",
              "2                               Phat Girlz  Beerfest,Waiting for Guffman,Lets Be Cops,I Ho...\n",
              "3                                    Water  High School Musical,The Diary of a Teenage Gir...\n",
              "4                                  Killers  21,Abduction,The Devils Advocate,No Country fo..."
            ]
          },
          "metadata": {
            "tags": []
          },
          "execution_count": 6
        }
      ]
    },
    {
      "cell_type": "code",
      "metadata": {
        "id": "XnWZaAKV8B3P",
        "colab_type": "code",
        "colab": {}
      },
      "source": [
        "movies_in_file=[]\n",
        "relatives=[]\n",
        "movie_score = {}\n",
        "for row in data2.itertuples(index=True, name='Pandas'):\n",
        "  movie_title = getattr(row, 'movie_title')\n",
        "  relative_movies = getattr(row, 'relative_movies')\n",
        "  \n",
        "  movie_score[movie_title] = 0\n",
        "  if movie_title != \"UNK\":\n",
        "    movies_in_file.append(movie_title)\n",
        "\n",
        "  for huehue in getattr(row, 'relative_movies').split(\",\"):\n",
        "    relatives.append(huehue)  "
      ],
      "execution_count": 0,
      "outputs": []
    },
    {
      "cell_type": "code",
      "metadata": {
        "id": "L8XrRR9Qgjp9",
        "colab_type": "code",
        "colab": {}
      },
      "source": [
        "def jaccard_similarity(list1, list2):\n",
        "    set1 = set(list1)\n",
        "    set2 = set(list2)\n",
        "    intersection = len(set1.intersection(set2))\n",
        "    union = len(set1) + len(set2) - intersection\n",
        "    return intersection / union"
      ],
      "execution_count": 0,
      "outputs": []
    },
    {
      "cell_type": "markdown",
      "metadata": {
        "id": "v_OWXz0Xk_gq",
        "colab_type": "text"
      },
      "source": [
        "**Παραδειγμα για τον simlpe recommender7**"
      ]
    },
    {
      "cell_type": "code",
      "metadata": {
        "id": "5-xm-4Ec_HBr",
        "colab_type": "code",
        "outputId": "283f875c-70f9-43f7-a156-9e9fd47a9505",
        "colab": {
          "base_uri": "https://localhost:8080/",
          "height": 462
        }
      },
      "source": [
        "mydata=[]\n",
        "# kanonika 8elei range(0,101) alla ayto argei polu\n",
        "#opote trexoume ena paradeigma gia 5 tainies\n",
        "for i in range (0,50,10):\n",
        "  a = movies_in_file[i]\n",
        "  list1 = simple_recommender7(a)\n",
        "  print(\"list1 is\")\n",
        "  print(list1)\n",
        "  list2=[]\n",
        "  katw = 10*i\n",
        "  anw = 10*(i+1)\n",
        "  for j in range(katw,anw):\n",
        "    b = relatives[j]\n",
        "    list2.append(b)\n",
        "  print(\"list2 is\")\n",
        "  print(list2)\n",
        "  mydata.append(jaccard_similarity(list1, list2))\n",
        "  print(mydata)"
      ],
      "execution_count": 0,
      "outputs": [
        {
          "output_type": "stream",
          "text": [
            "list1 is\n",
            "['Halloween 5', 'A Nightmare on Elm Street 2: Freddys Revenge', 'A Nightmare on Elm Street 4: The Dream Master', 'A Nightmare on Elm Street 5: The Dream Child', 'C.H.U.D.', 'Childs Play 2', 'Freddys Dead: The Final Nightmare', 'April Fools Day', 'Arachnophobia', 'Creepshow 2']\n",
            "list2 is\n",
            "['The Wicked Within', 'The Devils Rejects', 'Alien Zone', 'The Mist', 'Teeth and Blood', 'Abraham Lincoln: Vampire Hunter', 'Childs Play', 'Black Christmas', 'Army of Darkness', 'The Evil Dead']\n",
            "[0.0]\n",
            "list1 is\n",
            "['Final Fantasy: The Spirits Within', 'The Host', 'The Island']\n",
            "list2 is\n",
            "['Man of Steel', 'Bill & Teds Bogus Journey', 'Star Wars: Episode VI - Return of the Jedi', 'Little Shop of Horrors', 'Multiplicity', 'Escape from Planet Earth', 'Time Changer', 'Ghosts of Mars', '3rd Rock from the Sun            ', 'Muppets from Space']\n",
            "[0.0, 0.0]\n",
            "list1 is\n",
            "['Ramanujan', 'American Sniper', 'Everest', 'Free State of Jones', 'In the Heart of the Sea', 'Invictus', 'Ip Man 3', '12 Years a Slave', 'Argo', 'Spotlight']\n",
            "list2 is\n",
            "['Bobby', 'Made in Dagenham', '12 Years a Slave', 'Charlie Wilsons War', 'Tom Jones', 'Ramanujan', 'The Greatest Story Ever Told', 'Ben-Hur', 'The Act of Killing', 'Elizabeth']\n",
            "[0.0, 0.0, 0.1111111111111111]\n",
            "list1 is\n",
            "['Bowling for Columbine', 'Catch Me If You Can', 'Mystic River', '3:10 to Yuma', 'A History of Violence', 'A Simple Plan', 'American Gangster', '11:14', 'Alias Betty', 'Amen.']\n",
            "list2 is\n",
            "['Brooklyn Rules', 'The Hunt', 'Another Happy Day', 'About Schmidt', 'Hesher', 'Out of the Blue', 'When Did You Last See Your Father?', 'Abduction', 'The Devils Advocate', 'No Country for Old Men']\n",
            "[0.0, 0.0, 0.1111111111111111, 0.0]\n",
            "list1 is\n",
            "['White Noise', 'After.Life', 'Bless the Child', 'Carriers', 'Cry_Wolf', 'Donkey Punch', 'Dreamcatcher', 'Funny Games', 'Godsend', 'Lost Souls']\n",
            "list2 is\n",
            "['No Country for Old Men', 'Colombiana', 'Kansas City', 'Side Effects', 'Changeling', 'The Walk', 'The One', 'Edge of Darkness', 'Critical Care', 'Find Me Guilty']\n",
            "[0.0, 0.0, 0.1111111111111111, 0.0, 0.0]\n"
          ],
          "name": "stdout"
        }
      ]
    },
    {
      "cell_type": "markdown",
      "metadata": {
        "id": "LADiWgTdlF_b",
        "colab_type": "text"
      },
      "source": [
        "**Παραδειγμα για τον simlpe recommender6**"
      ]
    },
    {
      "cell_type": "code",
      "metadata": {
        "id": "ZYnVs-4Ai8rl",
        "colab_type": "code",
        "outputId": "59f2b9e8-c672-4307-b65f-68afc560c17e",
        "colab": {
          "base_uri": "https://localhost:8080/",
          "height": 462
        }
      },
      "source": [
        "mydata=[]\n",
        "# kanonika 8elei range(0,101) alla ayto argei polu\n",
        "#opote trexoume ena paradeigma gia 5 tainies\n",
        "for i in range (0,50,10):\n",
        "  a = movies_in_file[i]\n",
        "  list1 = simple_recommender6(a)\n",
        "  print(\"list1 is\")\n",
        "  print(list1)\n",
        "  list2=[]\n",
        "  katw = 10*i\n",
        "  anw = 10*(i+1)\n",
        "  for j in range(katw,anw):\n",
        "    b = relatives[j]\n",
        "    list2.append(b)\n",
        "  print(\"list2 is\")\n",
        "  print(list2)\n",
        "  mydata.append(jaccard_similarity(list1, list2))\n",
        "  print(mydata)"
      ],
      "execution_count": 0,
      "outputs": [
        {
          "output_type": "stream",
          "text": [
            "list1 is\n",
            "['#Horror', '10 Cloverfield Lane', '1408', '28 Days Later...', '28 Weeks Later', '2:13', '30 Days of Night']\n",
            "list2 is\n",
            "['The Wicked Within', 'The Devils Rejects', 'Alien Zone', 'The Mist', 'Teeth and Blood', 'Abraham Lincoln: Vampire Hunter', 'Childs Play', 'Black Christmas', 'Army of Darkness', 'The Evil Dead']\n",
            "[0.0]\n",
            "list1 is\n",
            "['Agent Cody Banks 2: Destination London', 'Deadpool', 'Final Fantasy: The Spirits Within', 'Howard the Duck', 'Superman II', 'Superman', 'The Host', 'The Ice Pirates', 'The Island', 'The Lovers']\n",
            "list2 is\n",
            "['Man of Steel', 'Bill & Teds Bogus Journey', 'Star Wars: Episode VI - Return of the Jedi', 'Little Shop of Horrors', 'Multiplicity', 'Escape from Planet Earth', 'Time Changer', 'Ghosts of Mars', '3rd Rock from the Sun            ', 'Muppets from Space']\n",
            "[0.0, 0.0]\n",
            "list1 is\n",
            "['12 Years a Slave', 'A Man for All Seasons', 'A Mighty Heart', 'Alexander', 'Amadeus', 'American Sniper', 'Argo', 'Bathory: Countess of Blood']\n",
            "list2 is\n",
            "['Bobby', 'Made in Dagenham', '12 Years a Slave', 'Charlie Wilsons War', 'Tom Jones', 'Ramanujan', 'The Greatest Story Ever Told', 'Ben-Hur', 'The Act of Killing', 'Elizabeth']\n",
            "[0.0, 0.0, 0.058823529411764705]\n",
            "list1 is\n",
            "['10th & Wolf', '11:14', '12 Angry Men', '15 Minutes', '16 Blocks', '2 Guns', '21', '3:10 to Yuma', '88 Minutes', 'A History of Violence']\n",
            "list2 is\n",
            "['Brooklyn Rules', 'The Hunt', 'Another Happy Day', 'About Schmidt', 'Hesher', 'Out of the Blue', 'When Did You Last See Your Father?', 'Abduction', 'The Devils Advocate', 'No Country for Old Men']\n",
            "[0.0, 0.0, 0.058823529411764705, 0.0]\n",
            "list1 is\n",
            "['#Horror', '10 Cloverfield Lane', '28 Days Later...', 'A Plague So Pleasant', 'After.Life', 'Amnesiac', 'Bless the Child', 'Boogeyman', 'BrainDead            ', 'Carriers']\n",
            "list2 is\n",
            "['No Country for Old Men', 'Colombiana', 'Kansas City', 'Side Effects', 'Changeling', 'The Walk', 'The One', 'Edge of Darkness', 'Critical Care', 'Find Me Guilty']\n",
            "[0.0, 0.0, 0.058823529411764705, 0.0, 0.0]\n"
          ],
          "name": "stdout"
        }
      ]
    },
    {
      "cell_type": "markdown",
      "metadata": {
        "id": "aXp93EttnXcC",
        "colab_type": "text"
      },
      "source": [
        "**Παραδειγμα για τον simlpe recommender4**"
      ]
    },
    {
      "cell_type": "code",
      "metadata": {
        "id": "ND9VSkR-lRK9",
        "colab_type": "code",
        "outputId": "d6714b1e-ebff-4c7e-9701-8fdcb6fefc25",
        "colab": {
          "base_uri": "https://localhost:8080/",
          "height": 462
        }
      },
      "source": [
        "mydata=[]\n",
        "# kanonika 8elei range(0,101) alla ayto argei polu\n",
        "#opote trexoume ena paradeigma gia 5 tainies\n",
        "for i in range (0,50,10):\n",
        "  a = movies_in_file[i]\n",
        "  list1 = simple_recommender4(a)\n",
        "  print(\"list1 is\")\n",
        "  print(list1)\n",
        "  list2=[]\n",
        "  katw = 10*i\n",
        "  anw = 10*(i+1)\n",
        "  for j in range(katw,anw):\n",
        "    b = relatives[j]\n",
        "    list2.append(b)\n",
        "  print(\"list2 is\")\n",
        "  print(list2)\n",
        "  mydata.append(jaccard_similarity(list1, list2))\n",
        "  print(mydata)"
      ],
      "execution_count": 0,
      "outputs": [
        {
          "output_type": "stream",
          "text": [
            "list1 is\n",
            "['A Nightmare on Elm Street 2: Freddys Revenge', 'After', 'Annabelle', '2:13', 'A Nightmare on Elm Street 4: The Dream Master', 'A Nightmare on Elm Street 5: The Dream Child', 'AVP: Alien vs. Predator', 'Absentia', 'A Plague So Pleasant', 'Abraham Lincoln: Vampire Hunter']\n",
            "list2 is\n",
            "['The Wicked Within', 'The Devils Rejects', 'Alien Zone', 'The Mist', 'Teeth and Blood', 'Abraham Lincoln: Vampire Hunter', 'Childs Play', 'Black Christmas', 'Army of Darkness', 'The Evil Dead']\n",
            "[0.05263157894736842]\n",
            "list1 is\n",
            "['Final Fantasy: The Spirits Within', 'The Saint', 'Final Fantasy: The Spirits Within', 'The Saint', 'Superman', 'The Ice Pirates', 'The Island']\n",
            "list2 is\n",
            "['Man of Steel', 'Bill & Teds Bogus Journey', 'Star Wars: Episode VI - Return of the Jedi', 'Little Shop of Horrors', 'Multiplicity', 'Escape from Planet Earth', 'Time Changer', 'Ghosts of Mars', '3rd Rock from the Sun            ', 'Muppets from Space']\n",
            "[0.05263157894736842, 0.0]\n",
            "list1 is\n",
            "['Charlie Wilsons War', 'Cleopatra', 'Elizabeth: The Golden Age', 'A Mighty Heart', 'American Sniper', 'Catch a Fire', 'Cry Freedom', 'Elizabeth', '12 Years a Slave', 'A Man for All Seasons']\n",
            "list2 is\n",
            "['Bobby', 'Made in Dagenham', '12 Years a Slave', 'Charlie Wilsons War', 'Tom Jones', 'Ramanujan', 'The Greatest Story Ever Told', 'Ben-Hur', 'The Act of Killing', 'Elizabeth']\n",
            "[0.05263157894736842, 0.0, 0.17647058823529413]\n",
            "list1 is\n",
            "['3:10 to Yuma', 'A Touch of Frost            ', 'American Gangster', 'A History of Violence', 'A Simple Plan', 'A Time to Kill', 'Ajami', 'American Psycho', '11:14', '12 Angry Men']\n",
            "list2 is\n",
            "['Brooklyn Rules', 'The Hunt', 'Another Happy Day', 'About Schmidt', 'Hesher', 'Out of the Blue', 'When Did You Last See Your Father?', 'Abduction', 'The Devils Advocate', 'No Country for Old Men']\n",
            "[0.05263157894736842, 0.0, 0.17647058823529413, 0.0]\n",
            "list1 is\n",
            "['Dreamcatcher', 'Goddess of Love', 'House at the End of the Street', 'After.Life', 'Bless the Child', 'Carriers', 'Circle', 'Cry_Wolf', 'A Plague So Pleasant', 'Flatliners']\n",
            "list2 is\n",
            "['No Country for Old Men', 'Colombiana', 'Kansas City', 'Side Effects', 'Changeling', 'The Walk', 'The One', 'Edge of Darkness', 'Critical Care', 'Find Me Guilty']\n",
            "[0.05263157894736842, 0.0, 0.17647058823529413, 0.0, 0.0]\n"
          ],
          "name": "stdout"
        }
      ]
    },
    {
      "cell_type": "markdown",
      "metadata": {
        "id": "pX5-OAYpoX4b",
        "colab_type": "text"
      },
      "source": [
        "**Παραδειγμα για τον simlpe recommender4**"
      ]
    },
    {
      "cell_type": "code",
      "metadata": {
        "id": "9Geycx9antbp",
        "colab_type": "code",
        "outputId": "de757847-9b5a-4738-ebd7-568cfbe2e466",
        "colab": {
          "base_uri": "https://localhost:8080/",
          "height": 462
        }
      },
      "source": [
        "mydata=[]\n",
        "# kanonika 8elei range(0,101) alla ayto argei polu\n",
        "#opote trexoume ena paradeigma gia 5 tainies\n",
        "for i in range (0,50,10):\n",
        "  a = movies_in_file[i]\n",
        "  list1 = simple_recommender3(a)\n",
        "  print(\"list1 is\")\n",
        "  print(list1)\n",
        "  list2=[]\n",
        "  katw = 10*i\n",
        "  anw = 10*(i+1)\n",
        "  for j in range(katw,anw):\n",
        "    b = relatives[j]\n",
        "    list2.append(b)\n",
        "  print(\"list2 is\")\n",
        "  print(list2)\n",
        "  mydata.append(jaccard_similarity(list1, list2))\n",
        "  print(mydata)"
      ],
      "execution_count": 0,
      "outputs": [
        {
          "output_type": "stream",
          "text": [
            "list1 is\n",
            "['A Nightmare on Elm Street 3: Dream Warriors', 'A Nightmare on Elm Street 4: The Dream Master', 'A Nightmare on Elm Street 5: The Dream Child', 'A Nightmare on Elm Street 2: Freddys Revenge', 'A Nightmare on Elm Street', 'Alien 3', 'April Fools Day', 'Arachnophobia', 'Alien Zone', 'Alien']\n",
            "list2 is\n",
            "['The Wicked Within', 'The Devils Rejects', 'Alien Zone', 'The Mist', 'Teeth and Blood', 'Abraham Lincoln: Vampire Hunter', 'Childs Play', 'Black Christmas', 'Army of Darkness', 'The Evil Dead']\n",
            "[0.05263157894736842]\n",
            "list1 is\n",
            "['The Host', 'The Island', 'The Host', 'The Island', 'Deadpool', 'The Lovers', 'The Saint']\n",
            "list2 is\n",
            "['Man of Steel', 'Bill & Teds Bogus Journey', 'Star Wars: Episode VI - Return of the Jedi', 'Little Shop of Horrors', 'Multiplicity', 'Escape from Planet Earth', 'Time Changer', 'Ghosts of Mars', '3rd Rock from the Sun            ', 'Muppets from Space']\n",
            "[0.05263157894736842, 0.0]\n",
            "list1 is\n",
            "['12 Years a Slave', 'American Sniper', 'Argo', 'Bathory: Countess of Blood', 'Everest', 'Free State of Jones', 'In the Heart of the Sea', 'Invictus', 'A Mighty Heart', 'Alexander']\n",
            "list2 is\n",
            "['Bobby', 'Made in Dagenham', '12 Years a Slave', 'Charlie Wilsons War', 'Tom Jones', 'Ramanujan', 'The Greatest Story Ever Told', 'Ben-Hur', 'The Act of Killing', 'Elizabeth']\n",
            "[0.05263157894736842, 0.0, 0.05263157894736842]\n",
            "list1 is\n",
            "['11:14', '15 Minutes', 'A Man Apart', '10th & Wolf', '16 Blocks', '3:10 to Yuma', '88 Minutes', 'A History of Violence', '21', 'A Thin Line Between Love and Hate']\n",
            "list2 is\n",
            "['Brooklyn Rules', 'The Hunt', 'Another Happy Day', 'About Schmidt', 'Hesher', 'Out of the Blue', 'When Did You Last See Your Father?', 'Abduction', 'The Devils Advocate', 'No Country for Old Men']\n",
            "[0.05263157894736842, 0.0, 0.05263157894736842, 0.0]\n",
            "list1 is\n",
            "['Boogeyman', 'Cry_Wolf', 'Godsend', '28 Days Later...', 'After.Life', 'Bless the Child', 'Carriers', 'Donkey Punch', '#Horror', 'A Plague So Pleasant']\n",
            "list2 is\n",
            "['No Country for Old Men', 'Colombiana', 'Kansas City', 'Side Effects', 'Changeling', 'The Walk', 'The One', 'Edge of Darkness', 'Critical Care', 'Find Me Guilty']\n",
            "[0.05263157894736842, 0.0, 0.05263157894736842, 0.0, 0.0]\n"
          ],
          "name": "stdout"
        }
      ]
    },
    {
      "cell_type": "markdown",
      "metadata": {
        "id": "h5xONNMsrbQl",
        "colab_type": "text"
      },
      "source": [
        "**Παραδειγμα για τον simlpe recommender2**"
      ]
    },
    {
      "cell_type": "code",
      "metadata": {
        "id": "wjb25bp8oeRp",
        "colab_type": "code",
        "outputId": "7fbfeaa1-7659-4f1a-e58a-f7448b537155",
        "colab": {
          "base_uri": "https://localhost:8080/",
          "height": 462
        }
      },
      "source": [
        "mydata=[]\n",
        "# kanonika 8elei range(0,101) alla ayto argei polu\n",
        "#opote trexoume ena paradeigma gia 5 tainies\n",
        "for i in range (0,50,10):\n",
        "  a = movies_in_file[i]\n",
        "  list1 = simple_recommender2(a)\n",
        "  print(\"list1 is\")\n",
        "  print(list1)\n",
        "  list2=[]\n",
        "  katw = 10*i\n",
        "  anw = 10*(i+1)\n",
        "  for j in range(katw,anw):\n",
        "    b = relatives[j]\n",
        "    list2.append(b)\n",
        "  print(\"list2 is\")\n",
        "  print(list2)\n",
        "  mydata.append(jaccard_similarity(list1, list2))\n",
        "  print(mydata)"
      ],
      "execution_count": 0,
      "outputs": [
        {
          "output_type": "stream",
          "text": [
            "list1 is\n",
            "['#Horror', '10 Cloverfield Lane', '1408', '28 Days Later...']\n",
            "list2 is\n",
            "['The Wicked Within', 'The Devils Rejects', 'Alien Zone', 'The Mist', 'Teeth and Blood', 'Abraham Lincoln: Vampire Hunter', 'Childs Play', 'Black Christmas', 'Army of Darkness', 'The Evil Dead']\n",
            "[0.0]\n",
            "list1 is\n",
            "['Superman', '2012', 'A Knights Tale', 'Alexander', 'Aliens', 'Allegiant', 'Armageddon', '1911', '47 Ronin', '55 Days at Peking']\n",
            "list2 is\n",
            "['Man of Steel', 'Bill & Teds Bogus Journey', 'Star Wars: Episode VI - Return of the Jedi', 'Little Shop of Horrors', 'Multiplicity', 'Escape from Planet Earth', 'Time Changer', 'Ghosts of Mars', '3rd Rock from the Sun            ', 'Muppets from Space']\n",
            "[0.0, 0.0]\n",
            "list1 is\n",
            "['12 Years a Slave', 'A Man for All Seasons', 'American Sniper', 'Argo', '127 Hours', '1776', '1911', '20 Dates', 'Alexander', 'Annie Get Your Gun']\n",
            "list2 is\n",
            "['Bobby', 'Made in Dagenham', '12 Years a Slave', 'Charlie Wilsons War', 'Tom Jones', 'Ramanujan', 'The Greatest Story Ever Told', 'Ben-Hur', 'The Act of Killing', 'Elizabeth']\n",
            "[0.0, 0.0, 0.05263157894736842]\n",
            "list1 is\n",
            "['10th & Wolf', '11:14', '12 Angry Men', '15 Minutes', '12 Rounds', '2 Fast 2 Furious', '21 Jump Street', '22 Jump Street', '30 Minutes or Less', '3000 Miles to Graceland']\n",
            "list2 is\n",
            "['Brooklyn Rules', 'The Hunt', 'Another Happy Day', 'About Schmidt', 'Hesher', 'Out of the Blue', 'When Did You Last See Your Father?', 'Abduction', 'The Devils Advocate', 'No Country for Old Men']\n",
            "[0.0, 0.0, 0.05263157894736842, 0.0]\n",
            "list1 is\n",
            "['#Horror', '10 Cloverfield Lane', '28 Days Later...', 'A Plague So Pleasant', '10th & Wolf', '127 Hours', '13 Hours', '10 Days in a Madhouse', '10 Things I Hate About You', '11:14']\n",
            "list2 is\n",
            "['No Country for Old Men', 'Colombiana', 'Kansas City', 'Side Effects', 'Changeling', 'The Walk', 'The One', 'Edge of Darkness', 'Critical Care', 'Find Me Guilty']\n",
            "[0.0, 0.0, 0.05263157894736842, 0.0, 0.0]\n"
          ],
          "name": "stdout"
        }
      ]
    },
    {
      "cell_type": "code",
      "metadata": {
        "id": "nkBLNTX1rjoo",
        "colab_type": "code",
        "outputId": "9aa9d958-4b94-4ad4-ccc2-6fdc625685db",
        "colab": {
          "base_uri": "https://localhost:8080/",
          "height": 462
        }
      },
      "source": [
        "mydata=[]\n",
        "# kanonika 8elei range(0,101) alla ayto argei polu\n",
        "#opote trexoume ena paradeigma gia 5 tainies\n",
        "for i in range (0,50,10):\n",
        "  a = movies_in_file[i]\n",
        "  list1 = simple_recommender1(a)\n",
        "  print(\"list1 is\")\n",
        "  print(list1)\n",
        "  list2=[]\n",
        "  katw = 10*i\n",
        "  anw = 10*(i+1)\n",
        "  for j in range(katw,anw):\n",
        "    b = relatives[j]\n",
        "    list2.append(b)\n",
        "  print(\"list2 is\")\n",
        "  print(list2)\n",
        "  mydata.append(jaccard_similarity(list1, list2))\n",
        "  print(mydata)"
      ],
      "execution_count": 0,
      "outputs": [
        {
          "output_type": "stream",
          "text": [
            "list1 is\n",
            "['#Horror', '10 Cloverfield Lane', '1408', '28 Days Later...', '28 Weeks Later']\n",
            "list2 is\n",
            "['The Wicked Within', 'The Devils Rejects', 'Alien Zone', 'The Mist', 'Teeth and Blood', 'Abraham Lincoln: Vampire Hunter', 'Childs Play', 'Black Christmas', 'Army of Darkness', 'The Evil Dead']\n",
            "[0.0]\n",
            "list1 is\n",
            "['Agent Cody Banks 2: Destination London', 'Deadpool', 'Final Fantasy: The Spirits Within', 'Howard the Duck', 'Superman II', 'A Knights Tale', 'Agent Cody Banks', 'Alexander', 'Arn: The Knight Templar', 'Death Calls']\n",
            "list2 is\n",
            "['Man of Steel', 'Bill & Teds Bogus Journey', 'Star Wars: Episode VI - Return of the Jedi', 'Little Shop of Horrors', 'Multiplicity', 'Escape from Planet Earth', 'Time Changer', 'Ghosts of Mars', '3rd Rock from the Sun            ', 'Muppets from Space']\n",
            "[0.0, 0.0]\n",
            "list1 is\n",
            "['The Other Boleyn Girl', '12 Years a Slave', 'A Man for All Seasons', 'A Mighty Heart', 'Alexander', 'Amadeus', '127 Hours', '42', 'A Beautiful Mind', 'A Dangerous Method']\n",
            "list2 is\n",
            "['Bobby', 'Made in Dagenham', '12 Years a Slave', 'Charlie Wilsons War', 'Tom Jones', 'Ramanujan', 'The Greatest Story Ever Told', 'Ben-Hur', 'The Act of Killing', 'Elizabeth']\n",
            "[0.0, 0.0, 0.05263157894736842]\n",
            "list1 is\n",
            "['10th & Wolf', '11:14', '12 Angry Men', '15 Minutes', '16 Blocks']\n",
            "list2 is\n",
            "['Brooklyn Rules', 'The Hunt', 'Another Happy Day', 'About Schmidt', 'Hesher', 'Out of the Blue', 'When Did You Last See Your Father?', 'Abduction', 'The Devils Advocate', 'No Country for Old Men']\n",
            "[0.0, 0.0, 0.05263157894736842, 0.0]\n",
            "list1 is\n",
            "['#Horror', '10 Cloverfield Lane', '28 Days Later...', 'A Plague So Pleasant', 'After.Life', '28 Weeks Later', 'Absentia', 'Baghead', 'Beloved', 'Blood and Chocolate']\n",
            "list2 is\n",
            "['No Country for Old Men', 'Colombiana', 'Kansas City', 'Side Effects', 'Changeling', 'The Walk', 'The One', 'Edge of Darkness', 'Critical Care', 'Find Me Guilty']\n",
            "[0.0, 0.0, 0.05263157894736842, 0.0, 0.0]\n"
          ],
          "name": "stdout"
        }
      ]
    },
    {
      "cell_type": "markdown",
      "metadata": {
        "id": "pBAz-6jViwLJ",
        "colab_type": "text"
      },
      "source": [
        "Βλέπουμε λοιπόν ότι συχνά πετυχαίνουμε μια δυο ταινίες!"
      ]
    },
    {
      "cell_type": "markdown",
      "metadata": {
        "colab_type": "text",
        "id": "aAM9o2UZFbMC"
      },
      "source": [
        "# **3ο Μέρος: Recommendation System Με βάση τις προτιμήσεις-αξιολογήσεις του χρήστη**\n",
        "\n",
        "Αρχικά μελετάμε τις αξιολογήσεις κάθε χρήστη για να καταλάβουμε την δομή και τις πληροφορίες κάθε αρχείου.\n",
        "\n",
        "\n",
        "\n",
        "\n"
      ]
    },
    {
      "cell_type": "code",
      "metadata": {
        "colab_type": "code",
        "id": "wdheN52GETd8",
        "outputId": "b85e052f-281b-4e84-ce9c-cea32fdb7cc6",
        "colab": {
          "base_uri": "https://localhost:8080/",
          "height": 204
        }
      },
      "source": [
        "ratings = pd.read_csv('/gdrive/My Drive/Colab/Second AI/user1.csv')  \n",
        "\n",
        "# Preview the first 5 lines of the loaded data \n",
        "ratings.head()"
      ],
      "execution_count": 0,
      "outputs": [
        {
          "output_type": "execute_result",
          "data": {
            "text/html": [
              "<div>\n",
              "<style scoped>\n",
              "    .dataframe tbody tr th:only-of-type {\n",
              "        vertical-align: middle;\n",
              "    }\n",
              "\n",
              "    .dataframe tbody tr th {\n",
              "        vertical-align: top;\n",
              "    }\n",
              "\n",
              "    .dataframe thead th {\n",
              "        text-align: right;\n",
              "    }\n",
              "</style>\n",
              "<table border=\"1\" class=\"dataframe\">\n",
              "  <thead>\n",
              "    <tr style=\"text-align: right;\">\n",
              "      <th></th>\n",
              "      <th>movie_title</th>\n",
              "      <th>rating</th>\n",
              "    </tr>\n",
              "  </thead>\n",
              "  <tbody>\n",
              "    <tr>\n",
              "      <th>0</th>\n",
              "      <td>Heavy Metal</td>\n",
              "      <td>4</td>\n",
              "    </tr>\n",
              "    <tr>\n",
              "      <th>1</th>\n",
              "      <td>The Croods</td>\n",
              "      <td>5</td>\n",
              "    </tr>\n",
              "    <tr>\n",
              "      <th>2</th>\n",
              "      <td>Watchmen</td>\n",
              "      <td>4</td>\n",
              "    </tr>\n",
              "    <tr>\n",
              "      <th>3</th>\n",
              "      <td>The Matrix</td>\n",
              "      <td>4</td>\n",
              "    </tr>\n",
              "    <tr>\n",
              "      <th>4</th>\n",
              "      <td>The Emperors New Groove</td>\n",
              "      <td>5</td>\n",
              "    </tr>\n",
              "  </tbody>\n",
              "</table>\n",
              "</div>"
            ],
            "text/plain": [
              "               movie_title  rating\n",
              "0              Heavy Metal       4\n",
              "1               The Croods       5\n",
              "2                 Watchmen       4\n",
              "3               The Matrix       4\n",
              "4  The Emperors New Groove       5"
            ]
          },
          "metadata": {
            "tags": []
          },
          "execution_count": 16
        }
      ]
    },
    {
      "cell_type": "code",
      "metadata": {
        "id": "Bca1zmgk51lT",
        "colab_type": "code",
        "outputId": "b0abe03e-c042-45c0-f205-4e60690717ee",
        "colab": {
          "base_uri": "https://localhost:8080/",
          "height": 204
        }
      },
      "source": [
        "ratings2 = pd.read_csv('/gdrive/My Drive/Colab/Second AI/user2.csv')  \n",
        "ratings.head()"
      ],
      "execution_count": 0,
      "outputs": [
        {
          "output_type": "execute_result",
          "data": {
            "text/html": [
              "<div>\n",
              "<style scoped>\n",
              "    .dataframe tbody tr th:only-of-type {\n",
              "        vertical-align: middle;\n",
              "    }\n",
              "\n",
              "    .dataframe tbody tr th {\n",
              "        vertical-align: top;\n",
              "    }\n",
              "\n",
              "    .dataframe thead th {\n",
              "        text-align: right;\n",
              "    }\n",
              "</style>\n",
              "<table border=\"1\" class=\"dataframe\">\n",
              "  <thead>\n",
              "    <tr style=\"text-align: right;\">\n",
              "      <th></th>\n",
              "      <th>movie_title</th>\n",
              "      <th>rating</th>\n",
              "    </tr>\n",
              "  </thead>\n",
              "  <tbody>\n",
              "    <tr>\n",
              "      <th>0</th>\n",
              "      <td>Loser</td>\n",
              "      <td>1</td>\n",
              "    </tr>\n",
              "    <tr>\n",
              "      <th>1</th>\n",
              "      <td>All That Jazz</td>\n",
              "      <td>2</td>\n",
              "    </tr>\n",
              "    <tr>\n",
              "      <th>2</th>\n",
              "      <td>The Sting</td>\n",
              "      <td>2</td>\n",
              "    </tr>\n",
              "    <tr>\n",
              "      <th>3</th>\n",
              "      <td>Torque</td>\n",
              "      <td>3</td>\n",
              "    </tr>\n",
              "    <tr>\n",
              "      <th>4</th>\n",
              "      <td>Project X</td>\n",
              "      <td>1</td>\n",
              "    </tr>\n",
              "  </tbody>\n",
              "</table>\n",
              "</div>"
            ],
            "text/plain": [
              "     movie_title  rating\n",
              "0          Loser       1\n",
              "1  All That Jazz       2\n",
              "2      The Sting       2\n",
              "3         Torque       3\n",
              "4      Project X       1"
            ]
          },
          "metadata": {
            "tags": []
          },
          "execution_count": 13
        }
      ]
    },
    {
      "cell_type": "markdown",
      "metadata": {
        "colab_type": "text",
        "id": "_AmyMzx5dXtS"
      },
      "source": [
        "**Κατασκευάζουμε τα scores για κάθε ταινία με βάση τις προηγούμενες αξιολογήσεις του χρήστη**"
      ]
    },
    {
      "cell_type": "markdown",
      "metadata": {
        "id": "pUcEkGgljUT3",
        "colab_type": "text"
      },
      "source": [
        "Κάνουμε μελέτη για τον fast recommender μας. Οι πρώτες επιλογές του δίνουν αρκετά μεγάλο βάρος και γι αυτό υπάρχει μεγάλη πιθανότητα να πρωταθούν."
      ]
    },
    {
      "cell_type": "code",
      "metadata": {
        "id": "PdVYKJiM1lDq",
        "colab_type": "code",
        "colab": {}
      },
      "source": [
        "#data with the fast recommender gia ton prwto user\n",
        "similarity_weights = {\"similarity_5\": 15, \"similarity_4\":7}\n",
        "rating_weight = {5: 10, 4: 5, 3: 0, 2: -5, 1: -10}\n",
        "\n",
        "\n",
        "movie_score = {m: 0 for m in  movie_score}\n",
        "for row in ratings.itertuples(index=True, name='Pandas'):\n",
        "    movie = clean_text(getattr(row, 'movie_title'))\n",
        "    rating = getattr(row, 'rating')    \n",
        "    \n",
        "    q = prolog.query(\"fast1('\" + movie + \"',M)\")\n",
        "    for soln in q:\n",
        "        movie_score [soln[\"M\"]] += similarity_weights['similarity_5'] * rating_weight[rating] #το weight θα το ορίσετε ανα επίπεδο ομοιότητας οι πολύ όμοιες ταινίες θα έχουν μεγαλύτερο βάρος\n",
        "    q.close()\n",
        "    \n",
        "    q = prolog.query(\"fast2('\" + movie + \"',M)\")\n",
        "    for soln in q:\n",
        "        movie_score [soln[\"M\"]] += similarity_weights['similarity_4'] * rating_weight[rating] #το weight θα το ορίσετε ανα επίπεδο ομοιότητας οι πολύ όμοιες ταινίες θα έχουν μεγαλύτερο βάρος\n",
        "    q.close()\n",
        "\n",
        "\n"
      ],
      "execution_count": 0,
      "outputs": []
    },
    {
      "cell_type": "code",
      "metadata": {
        "id": "olfxMfMv5wBe",
        "colab_type": "code",
        "colab": {}
      },
      "source": [
        "#data with the fast recommender gia ton deytero user\n",
        "similarity_weights = {\"similarity_5\": 15, \"similarity_4\":7}\n",
        "rating_weight = {5: 10, 4: 5, 3: 0, 2: -5, 1: -10}\n",
        "\n",
        "\n",
        "movie_score = {m: 0 for m in  movie_score}\n",
        "for row in ratings2.itertuples(index=True, name='Pandas'):\n",
        "    movie = clean_text(getattr(row, 'movie_title'))\n",
        "    rating = getattr(row, 'rating')    \n",
        "    \n",
        "    q = prolog.query(\"fast1('\" + movie + \"',M)\")\n",
        "    for soln in q:\n",
        "        movie_score [soln[\"M\"]] += similarity_weights['similarity_5'] * rating_weight[rating] \n",
        "    q.close()\n",
        "    \n",
        "    q = prolog.query(\"fast2('\" + movie + \"',M)\")\n",
        "    for soln in q:\n",
        "        movie_score [soln[\"M\"]] += similarity_weights['similarity_4'] * rating_weight[rating] \n",
        "    q.close()"
      ],
      "execution_count": 0,
      "outputs": []
    },
    {
      "cell_type": "markdown",
      "metadata": {
        "colab_type": "text",
        "id": "luU3can3dm-N"
      },
      "source": [
        "**Στο σημείο αυτό κατασκευάζουμε την νέα συνάρτηση η όποια θα επιστρέφει τις προτεινόμενες ταινίες συνυπολογίζοντας τις αξιολογήσεις του χρήστη.**"
      ]
    },
    {
      "cell_type": "code",
      "metadata": {
        "colab_type": "code",
        "id": "kvL14dw3c9cF",
        "colab": {}
      },
      "source": [
        "def recommender(movie_score):\n",
        "    movies_score = {k: v for k, v in sorted(movie_score.items(), key=lambda item: item[1], reverse = True)}\n",
        "    return [m for m in movies_score][:10]"
      ],
      "execution_count": 0,
      "outputs": []
    },
    {
      "cell_type": "code",
      "metadata": {
        "colab_type": "code",
        "id": "VkHP2NVEvpqR",
        "outputId": "94d5d446-7832-4e3d-de76-bdfb1033e653",
        "colab": {
          "base_uri": "https://localhost:8080/",
          "height": 187
        }
      },
      "source": [
        "#this is the result of the fast recommender\n",
        "recommender(movie_score)"
      ],
      "execution_count": 0,
      "outputs": [
        {
          "output_type": "execute_result",
          "data": {
            "text/plain": [
              "['Teenage Mutant Ninja Turtles',\n",
              " 'The Unborn',\n",
              " 'Point Break',\n",
              " 'Green Lantern',\n",
              " 'The Legend of Zorro',\n",
              " 'The Mask of Zorro',\n",
              " 'GoldenEye',\n",
              " 'Edge of Darkness',\n",
              " 'Dawn of the Dead',\n",
              " '127 Hours']"
            ]
          },
          "metadata": {
            "tags": []
          },
          "execution_count": 10
        }
      ]
    },
    {
      "cell_type": "code",
      "metadata": {
        "id": "SGGY9RAe6RQ0",
        "colab_type": "code",
        "outputId": "c0c2267d-5881-4a78-d9e0-c84899f463b7",
        "colab": {
          "base_uri": "https://localhost:8080/",
          "height": 187
        }
      },
      "source": [
        "#this is the result of the fast recommender for the first user\n",
        "recommender(movie_score)"
      ],
      "execution_count": 0,
      "outputs": [
        {
          "output_type": "execute_result",
          "data": {
            "text/plain": [
              "['King Kong',\n",
              " 'The Fast and the Furious',\n",
              " 'Pan',\n",
              " 'Home',\n",
              " 'Ben-Hur',\n",
              " 'Victor Frankenstein',\n",
              " 'Halloween',\n",
              " 'Jack Reacher',\n",
              " 'Disturbia',\n",
              " 'A Nightmare on Elm Street']"
            ]
          },
          "metadata": {
            "tags": []
          },
          "execution_count": 15
        }
      ]
    },
    {
      "cell_type": "markdown",
      "metadata": {
        "id": "dhimrIF5gjqE",
        "colab_type": "text"
      },
      "source": [
        "Πρακτικά βλέπουμε ότι έχει λαβει υπόψην τόσο τα αποτελέσματα του recommender αλλά και την βαθμολογία χρήστη. Βέβαια έχουμε ορίσει ότι η απάντηση του fast recommender μας είναι λίγο πιο σημαντική από την βαρυτητα των βαθμολογιών του χρήστη. Μπορούμε να εξετάσουμε πολλά σενάρια με πολλές διαφορετικές βαρύτητες για να δουμε πια μας κάνει<br>\n",
        "Σαφώς ο recommender μπορεί να επιστρέψει μια ταινία ενώ αντιστοιχη ο χρήστης την έχει βαθμολογίση με χαμιλή βαθμολογία και αυτο σημβαίνει αν ο fast recomender επέλεγε αυτη την ταινία.<br>\n",
        "Έτσι αναβαθμίζουμε το συστημα λαμβάνοντας υπόψην την γνώμη του πελάτη, ωστόσο αυτό κανει ο πρόγραμμα αν αργεί να τρέξειλόγο της πολυπλοκότητας της prolog λόγω python και επειδη ο κώδικας τρέχει στο cloud, στο pc θα έτρεχε κάπως πιο γρήγορα\n"
      ]
    },
    {
      "cell_type": "markdown",
      "metadata": {
        "id": "1qSCdcGUgjqF",
        "colab_type": "text"
      },
      "source": [
        "---\n",
        "<center><h2>Κατασκευή των Δικών σας Users</h2></center>\n",
        "\n",
        "---"
      ]
    },
    {
      "cell_type": "markdown",
      "metadata": {
        "id": "S0_x9ZtuUzn9",
        "colab_type": "text"
      },
      "source": [
        "---\n",
        "<center><h2>Τα .csv αρχεθα των δικών μου users είναι εδώ στον φάκελο myusers:</h2></center>\n",
        "\n",
        "---\n",
        "---\n",
        "https://drive.google.com/drive/folders/1d0MRgiatCTOPDV1JEh1hxZv_pmgq8ir1?usp=sharing\n",
        "---"
      ]
    },
    {
      "cell_type": "markdown",
      "metadata": {
        "id": "jbPtGgfHrjyI",
        "colab_type": "text"
      },
      "source": [
        "**Γενικό Σχόλιο**\n",
        "Θα μπορούσαμε να κατασκευάσουμε users στους οποίους είναι ντετερμινιστικά ορισμένη η βαθμολογία της.\n",
        "Ο κώδικας για κάτι τέτοιο είναι απλός και θα ήθελε λίγο παραπάνω κώδικα σε prolog τύπου του αρέσει με 5 αστέρια, με 4,μεχρι 1 αστέρι.\n",
        "Ωστόσο είναι πιο φυσιλογική η μη ντετερμινιστική επιλογή όπως γινεται παρακάτω καθώς αν του αρέσει με βάσει αυτούς τους παραγοντες μπορει να έχει και αλλους παράγοντες που να του αρεσουν ή να μην του αρέσουν και γι αυτό η βαθμολογία κυμένεται απο 3-5.\n",
        "Οπότε επιλέγω να κρατήσω τον παρακάτω κώδικα"
      ]
    },
    {
      "cell_type": "code",
      "metadata": {
        "id": "qQADUdaogjqF",
        "colab_type": "code",
        "colab": {}
      },
      "source": [
        "import csv\n",
        "import numpy as np\n",
        "\n",
        "def create_my_user(liked, notLiked, filename, num_of_liked =20, num_of_notliked = 20):\n",
        "    with open(filename, 'w', newline='') as file:\n",
        "        writer = csv.writer(file)\n",
        "        writer.writerow([\"movie_title\",\"rating\"])\n",
        "        liked = np.random.choice(liked, num_of_liked)\n",
        "        liked = np.random.choice(notliked, num_of_notliked)\n",
        "        for i in  liked:\n",
        "            grade = np.random.choice([5,4,3], p = [0.5, 0.4, 0.1])\n",
        "            writer.writerow([i, grade])\n",
        "        for i in  liked:\n",
        "            grade = np.random.choice([1, 2, 3], p = [0.5, 0.4, 0.1])\n",
        "            writer.writerow([i, grade])"
      ],
      "execution_count": 0,
      "outputs": []
    },
    {
      "cell_type": "code",
      "metadata": {
        "id": "UoP6Ou2hgjqG",
        "colab_type": "code",
        "colab": {}
      },
      "source": [
        "prolog.consult(\"/gdrive/My Drive/Colab/Second AI/prologCode/partC.pl\")"
      ],
      "execution_count": 0,
      "outputs": []
    },
    {
      "cell_type": "code",
      "metadata": {
        "id": "yFuFKH_4gjqH",
        "colab_type": "code",
        "colab": {}
      },
      "source": [
        "q = prolog.query(\"like_2010(M)\")\n",
        "ans = []\n",
        "for soln in q:\n",
        "    ans.append(soln[\"M\"])\n",
        "liked = list(set(ans))\n",
        "\n",
        "q = prolog.query(\"notlike_2010(M)\")\n",
        "ans = []\n",
        "for soln in q:\n",
        "    ans.append(soln[\"M\"])\n",
        "notliked = list(set(ans))\n",
        "\n",
        "create_my_user(liked, notliked, filename= '/gdrive/My Drive/Colab/Second AI/myusers/2010.csv', num_of_liked = 20, num_of_notliked = 20)"
      ],
      "execution_count": 0,
      "outputs": []
    },
    {
      "cell_type": "markdown",
      "metadata": {
        "id": "p9qNpy40lGVQ",
        "colab_type": "text"
      },
      "source": [
        "Του αρέσουν ταινίες που βγηκαν on air κοντά στο 2010 (και αντιπαθεί ταινίες μακρία απο το 2010)! Προφανώς λόγω των πιθανοτήτων μπορεί να πάρει μια ταινία του 1965 3 αστέρια, δηλαδή μια καλή βαθμολογία! Όπως επίσης μια ταινία του 2010 να πάρει 4 αστέρια."
      ]
    },
    {
      "cell_type": "code",
      "metadata": {
        "id": "h-wpT8SXotu3",
        "colab_type": "code",
        "outputId": "41b6f6c6-f3b4-47e7-a834-ab270c62b488",
        "colab": {
          "base_uri": "https://localhost:8080/",
          "height": 204
        }
      },
      "source": [
        "ratings = pd.read_csv('/gdrive/My Drive/Colab/Second AI/myusers/2010.csv')  \n",
        "ratings.head()"
      ],
      "execution_count": 0,
      "outputs": [
        {
          "output_type": "execute_result",
          "data": {
            "text/html": [
              "<div>\n",
              "<style scoped>\n",
              "    .dataframe tbody tr th:only-of-type {\n",
              "        vertical-align: middle;\n",
              "    }\n",
              "\n",
              "    .dataframe tbody tr th {\n",
              "        vertical-align: top;\n",
              "    }\n",
              "\n",
              "    .dataframe thead th {\n",
              "        text-align: right;\n",
              "    }\n",
              "</style>\n",
              "<table border=\"1\" class=\"dataframe\">\n",
              "  <thead>\n",
              "    <tr style=\"text-align: right;\">\n",
              "      <th></th>\n",
              "      <th>movie_title</th>\n",
              "      <th>rating</th>\n",
              "    </tr>\n",
              "  </thead>\n",
              "  <tbody>\n",
              "    <tr>\n",
              "      <th>0</th>\n",
              "      <td>Rachel Getting Married</td>\n",
              "      <td>4</td>\n",
              "    </tr>\n",
              "    <tr>\n",
              "      <th>1</th>\n",
              "      <td>Gods and Monsters</td>\n",
              "      <td>5</td>\n",
              "    </tr>\n",
              "    <tr>\n",
              "      <th>2</th>\n",
              "      <td>Stigmata</td>\n",
              "      <td>5</td>\n",
              "    </tr>\n",
              "    <tr>\n",
              "      <th>3</th>\n",
              "      <td>Before Midnight</td>\n",
              "      <td>5</td>\n",
              "    </tr>\n",
              "    <tr>\n",
              "      <th>4</th>\n",
              "      <td>The Young and Prodigious T.S. Spivet</td>\n",
              "      <td>3</td>\n",
              "    </tr>\n",
              "  </tbody>\n",
              "</table>\n",
              "</div>"
            ],
            "text/plain": [
              "                            movie_title  rating\n",
              "0                Rachel Getting Married       4\n",
              "1                     Gods and Monsters       5\n",
              "2                              Stigmata       5\n",
              "3                       Before Midnight       5\n",
              "4  The Young and Prodigious T.S. Spivet       3"
            ]
          },
          "metadata": {
            "tags": []
          },
          "execution_count": 14
        }
      ]
    },
    {
      "cell_type": "markdown",
      "metadata": {
        "id": "RNYex4hVleld",
        "colab_type": "text"
      },
      "source": [
        "Το αρέσουν οι συντομες ταινίες με διάρκεια κοντά στα 100 λεπτά"
      ]
    },
    {
      "cell_type": "code",
      "metadata": {
        "id": "Pt1HfN2AmiPl",
        "colab_type": "code",
        "colab": {}
      },
      "source": [
        "q = prolog.query(\"like_duration100(M)\")\n",
        "ans = []\n",
        "for soln in q:\n",
        "    ans.append(soln[\"M\"])\n",
        "liked = list(set(ans))\n",
        "\n",
        "q = prolog.query(\"notlike_duration100(M)\")\n",
        "ans = []\n",
        "for soln in q:\n",
        "    ans.append(soln[\"M\"])\n",
        "notliked = list(set(ans))\n",
        "\n",
        "create_my_user(liked, notliked, filename= '/gdrive/My Drive/Colab/Second AI/myusers/duration100.csv', num_of_liked = 20, num_of_notliked = 20)"
      ],
      "execution_count": 0,
      "outputs": []
    },
    {
      "cell_type": "code",
      "metadata": {
        "id": "HVrJ6kFFo2Hn",
        "colab_type": "code",
        "outputId": "32f2e880-1f91-402d-9021-b2e6571ad214",
        "colab": {
          "base_uri": "https://localhost:8080/",
          "height": 204
        }
      },
      "source": [
        "ratings = pd.read_csv('/gdrive/My Drive/Colab/Second AI/myusers/duration100.csv')  \n",
        "ratings.head()"
      ],
      "execution_count": 0,
      "outputs": [
        {
          "output_type": "execute_result",
          "data": {
            "text/html": [
              "<div>\n",
              "<style scoped>\n",
              "    .dataframe tbody tr th:only-of-type {\n",
              "        vertical-align: middle;\n",
              "    }\n",
              "\n",
              "    .dataframe tbody tr th {\n",
              "        vertical-align: top;\n",
              "    }\n",
              "\n",
              "    .dataframe thead th {\n",
              "        text-align: right;\n",
              "    }\n",
              "</style>\n",
              "<table border=\"1\" class=\"dataframe\">\n",
              "  <thead>\n",
              "    <tr style=\"text-align: right;\">\n",
              "      <th></th>\n",
              "      <th>movie_title</th>\n",
              "      <th>rating</th>\n",
              "    </tr>\n",
              "  </thead>\n",
              "  <tbody>\n",
              "    <tr>\n",
              "      <th>0</th>\n",
              "      <td>Tidal Wave</td>\n",
              "      <td>4</td>\n",
              "    </tr>\n",
              "    <tr>\n",
              "      <th>1</th>\n",
              "      <td>Whale Rider</td>\n",
              "      <td>3</td>\n",
              "    </tr>\n",
              "    <tr>\n",
              "      <th>2</th>\n",
              "      <td>Fun with Dick and Jane</td>\n",
              "      <td>4</td>\n",
              "    </tr>\n",
              "    <tr>\n",
              "      <th>3</th>\n",
              "      <td>The Covenant</td>\n",
              "      <td>3</td>\n",
              "    </tr>\n",
              "    <tr>\n",
              "      <th>4</th>\n",
              "      <td>The Horseman on the Roof</td>\n",
              "      <td>5</td>\n",
              "    </tr>\n",
              "  </tbody>\n",
              "</table>\n",
              "</div>"
            ],
            "text/plain": [
              "                movie_title  rating\n",
              "0                Tidal Wave       4\n",
              "1               Whale Rider       3\n",
              "2    Fun with Dick and Jane       4\n",
              "3              The Covenant       3\n",
              "4  The Horseman on the Roof       5"
            ]
          },
          "metadata": {
            "tags": []
          },
          "execution_count": 15
        }
      ]
    },
    {
      "cell_type": "markdown",
      "metadata": {
        "id": "chJhnXBuljIS",
        "colab_type": "text"
      },
      "source": [
        "Του αρέσουν sci-fi και ντοκιμαντέρ και ταινίες με θέμα την ΤΝ, αλλά αντιπαθεί πολύ ταινίες θρίλλερ και τρόμου."
      ]
    },
    {
      "cell_type": "code",
      "metadata": {
        "id": "nWZDgkxhm3WI",
        "colab_type": "code",
        "colab": {}
      },
      "source": [
        "q = prolog.query(\"like_nerd(M)\")\n",
        "ans = []\n",
        "for soln in q:\n",
        "    ans.append(soln[\"M\"])\n",
        "liked = list(set(ans))\n",
        "\n",
        "q = prolog.query(\"notlike_nerd(M)\")\n",
        "ans = []\n",
        "for soln in q:\n",
        "    ans.append(soln[\"M\"])\n",
        "notliked = list(set(ans))\n",
        "\n",
        "create_my_user(liked, notliked, filename= '/gdrive/My Drive/Colab/Second AI/myusers/nerd.csv', num_of_liked = 20, num_of_notliked = 20)"
      ],
      "execution_count": 0,
      "outputs": []
    },
    {
      "cell_type": "code",
      "metadata": {
        "id": "PE8CQUIso7sT",
        "colab_type": "code",
        "outputId": "a24d21d4-3dc0-414e-fdf6-347b6e6a58f2",
        "colab": {
          "base_uri": "https://localhost:8080/",
          "height": 204
        }
      },
      "source": [
        "ratings = pd.read_csv('/gdrive/My Drive/Colab/Second AI/myusers/nerd.csv')  \n",
        "ratings.head()"
      ],
      "execution_count": 0,
      "outputs": [
        {
          "output_type": "execute_result",
          "data": {
            "text/html": [
              "<div>\n",
              "<style scoped>\n",
              "    .dataframe tbody tr th:only-of-type {\n",
              "        vertical-align: middle;\n",
              "    }\n",
              "\n",
              "    .dataframe tbody tr th {\n",
              "        vertical-align: top;\n",
              "    }\n",
              "\n",
              "    .dataframe thead th {\n",
              "        text-align: right;\n",
              "    }\n",
              "</style>\n",
              "<table border=\"1\" class=\"dataframe\">\n",
              "  <thead>\n",
              "    <tr style=\"text-align: right;\">\n",
              "      <th></th>\n",
              "      <th>movie_title</th>\n",
              "      <th>rating</th>\n",
              "    </tr>\n",
              "  </thead>\n",
              "  <tbody>\n",
              "    <tr>\n",
              "      <th>0</th>\n",
              "      <td>Now Is Good</td>\n",
              "      <td>4</td>\n",
              "    </tr>\n",
              "    <tr>\n",
              "      <th>1</th>\n",
              "      <td>Dragonfly</td>\n",
              "      <td>5</td>\n",
              "    </tr>\n",
              "    <tr>\n",
              "      <th>2</th>\n",
              "      <td>Love &amp; Basketball</td>\n",
              "      <td>5</td>\n",
              "    </tr>\n",
              "    <tr>\n",
              "      <th>3</th>\n",
              "      <td>The Toxic Avenger</td>\n",
              "      <td>4</td>\n",
              "    </tr>\n",
              "    <tr>\n",
              "      <th>4</th>\n",
              "      <td>The Usual Suspects</td>\n",
              "      <td>5</td>\n",
              "    </tr>\n",
              "  </tbody>\n",
              "</table>\n",
              "</div>"
            ],
            "text/plain": [
              "          movie_title  rating\n",
              "0         Now Is Good       4\n",
              "1           Dragonfly       5\n",
              "2   Love & Basketball       5\n",
              "3   The Toxic Avenger       4\n",
              "4  The Usual Suspects       5"
            ]
          },
          "metadata": {
            "tags": []
          },
          "execution_count": 16
        }
      ]
    },
    {
      "cell_type": "markdown",
      "metadata": {
        "id": "ZD1udf47l1EP",
        "colab_type": "text"
      },
      "source": [
        "Του αρέσουν ταινίες του james cameron ή ταινίες που παίζει ο paul walker αλλά αντιπαθεί ταινίες που παίζει ο brad pitt."
      ]
    },
    {
      "cell_type": "code",
      "metadata": {
        "id": "Juno_q4hnE25",
        "colab_type": "code",
        "colab": {}
      },
      "source": [
        "q = prolog.query(\"like_fanboy(M)\")\n",
        "ans = []\n",
        "for soln in q:\n",
        "    ans.append(soln[\"M\"])\n",
        "liked = list(set(ans))\n",
        "\n",
        "q = prolog.query(\"notlike_fanboy(M)\")\n",
        "ans = []\n",
        "for soln in q:\n",
        "    ans.append(soln[\"M\"])\n",
        "notliked = list(set(ans))\n",
        "\n",
        "create_my_user(liked, notliked, filename= '/gdrive/My Drive/Colab/Second AI/myusers/fanboy.csv', num_of_liked = 20, num_of_notliked = 20)"
      ],
      "execution_count": 0,
      "outputs": []
    },
    {
      "cell_type": "code",
      "metadata": {
        "id": "sBuYGjm8pAmk",
        "colab_type": "code",
        "outputId": "ee19b1c6-a9d7-4d2c-9650-ad9534d0625e",
        "colab": {
          "base_uri": "https://localhost:8080/",
          "height": 204
        }
      },
      "source": [
        "ratings = pd.read_csv('/gdrive/My Drive/Colab/Second AI/myusers/fanboy.csv')  \n",
        "ratings.head()"
      ],
      "execution_count": 0,
      "outputs": [
        {
          "output_type": "execute_result",
          "data": {
            "text/html": [
              "<div>\n",
              "<style scoped>\n",
              "    .dataframe tbody tr th:only-of-type {\n",
              "        vertical-align: middle;\n",
              "    }\n",
              "\n",
              "    .dataframe tbody tr th {\n",
              "        vertical-align: top;\n",
              "    }\n",
              "\n",
              "    .dataframe thead th {\n",
              "        text-align: right;\n",
              "    }\n",
              "</style>\n",
              "<table border=\"1\" class=\"dataframe\">\n",
              "  <thead>\n",
              "    <tr style=\"text-align: right;\">\n",
              "      <th></th>\n",
              "      <th>movie_title</th>\n",
              "      <th>rating</th>\n",
              "    </tr>\n",
              "  </thead>\n",
              "  <tbody>\n",
              "    <tr>\n",
              "      <th>0</th>\n",
              "      <td>The Curious Case of Benjamin Button</td>\n",
              "      <td>4</td>\n",
              "    </tr>\n",
              "    <tr>\n",
              "      <th>1</th>\n",
              "      <td>Inglourious Basterds</td>\n",
              "      <td>4</td>\n",
              "    </tr>\n",
              "    <tr>\n",
              "      <th>2</th>\n",
              "      <td>Oceans Twelve</td>\n",
              "      <td>3</td>\n",
              "    </tr>\n",
              "    <tr>\n",
              "      <th>3</th>\n",
              "      <td>The Counselor</td>\n",
              "      <td>5</td>\n",
              "    </tr>\n",
              "    <tr>\n",
              "      <th>4</th>\n",
              "      <td>The Mexican</td>\n",
              "      <td>5</td>\n",
              "    </tr>\n",
              "  </tbody>\n",
              "</table>\n",
              "</div>"
            ],
            "text/plain": [
              "                           movie_title  rating\n",
              "0  The Curious Case of Benjamin Button       4\n",
              "1                 Inglourious Basterds       4\n",
              "2                        Oceans Twelve       3\n",
              "3                        The Counselor       5\n",
              "4                          The Mexican       5"
            ]
          },
          "metadata": {
            "tags": []
          },
          "execution_count": 17
        }
      ]
    },
    {
      "cell_type": "markdown",
      "metadata": {
        "id": "5oocOiQBkvA-",
        "colab_type": "text"
      },
      "source": [
        "Θα μπορούσαμε να βάζαμε τα αποτελέσματα των χρηστών σε έναν recommender και να εξετάζαμε την σχέση των αποτελεσμάτων και να βελιτώναμε έτσι τα ΒΑΡΗ του συστήματος (αφού ξέρω τις βαθμολογίες του χρήστη)."
      ]
    }
  ]
}